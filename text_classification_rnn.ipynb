{
 "cells": [
  {
   "cell_type": "markdown",
   "metadata": {},
   "source": [
    "The task is to build a Recurrent Neural Network model for text classification using Tensorflow "
   ]
  },
  {
   "cell_type": "code",
   "execution_count": 1,
   "metadata": {},
   "outputs": [],
   "source": [
    "import numpy as np\n",
    "import pandas as pd\n",
    "import tensorflow as tf\n",
    "import matplotlib.pyplot as plt\n",
    "from sklearn.model_selection import train_test_split\n",
    "\n",
    "from tensorflow.keras.preprocessing.text import Tokenizer\n",
    "from tensorflow.keras.preprocessing.sequence import pad_sequences\n",
    "from tensorflow.keras.layers import Dense, Input, GlobalMaxPooling1D, LSTM, Embedding\n",
    "from tensorflow.keras.models import Model\n",
    "from tensorflow.keras.losses import SparseCategoricalCrossentropy"
   ]
  },
  {
   "cell_type": "code",
   "execution_count": 2,
   "metadata": {},
   "outputs": [
    {
     "name": "stdout",
     "output_type": "stream",
     "text": [
      "File ‘bbc_text_cls.csv’ already there; not retrieving.\r\n",
      "\r\n"
     ]
    }
   ],
   "source": [
    "# download BBC text classification dataset\n",
    "# original dataset on Kaggle: https://www.kaggle.com/datasets/shivamkushwaha/bbc-full-text-document-classification)\n",
    "!wget -nc https://lazyprogrammer.me/course_files/nlp/bbc_text_cls.csv"
   ]
  },
  {
   "cell_type": "code",
   "execution_count": 3,
   "metadata": {},
   "outputs": [],
   "source": [
    "# save the dataset in Pandas dataframe\n",
    "df = pd.read_csv('bbc_text_cls.csv')"
   ]
  },
  {
   "cell_type": "code",
   "execution_count": 4,
   "metadata": {},
   "outputs": [],
   "source": [
    "# assign integers to labels\n",
    "df['targets'] = df['labels'].astype('category').cat.codes"
   ]
  },
  {
   "cell_type": "code",
   "execution_count": 5,
   "metadata": {},
   "outputs": [
    {
     "data": {
      "text/html": [
       "<div>\n",
       "<style scoped>\n",
       "    .dataframe tbody tr th:only-of-type {\n",
       "        vertical-align: middle;\n",
       "    }\n",
       "\n",
       "    .dataframe tbody tr th {\n",
       "        vertical-align: top;\n",
       "    }\n",
       "\n",
       "    .dataframe thead th {\n",
       "        text-align: right;\n",
       "    }\n",
       "</style>\n",
       "<table border=\"1\" class=\"dataframe\">\n",
       "  <thead>\n",
       "    <tr style=\"text-align: right;\">\n",
       "      <th></th>\n",
       "      <th>text</th>\n",
       "      <th>labels</th>\n",
       "      <th>targets</th>\n",
       "    </tr>\n",
       "  </thead>\n",
       "  <tbody>\n",
       "    <tr>\n",
       "      <th>0</th>\n",
       "      <td>Ad sales boost Time Warner profit\\n\\nQuarterly...</td>\n",
       "      <td>business</td>\n",
       "      <td>0</td>\n",
       "    </tr>\n",
       "    <tr>\n",
       "      <th>1</th>\n",
       "      <td>Dollar gains on Greenspan speech\\n\\nThe dollar...</td>\n",
       "      <td>business</td>\n",
       "      <td>0</td>\n",
       "    </tr>\n",
       "    <tr>\n",
       "      <th>2</th>\n",
       "      <td>Yukos unit buyer faces loan claim\\n\\nThe owner...</td>\n",
       "      <td>business</td>\n",
       "      <td>0</td>\n",
       "    </tr>\n",
       "    <tr>\n",
       "      <th>3</th>\n",
       "      <td>High fuel prices hit BA's profits\\n\\nBritish A...</td>\n",
       "      <td>business</td>\n",
       "      <td>0</td>\n",
       "    </tr>\n",
       "    <tr>\n",
       "      <th>4</th>\n",
       "      <td>Pernod takeover talk lifts Domecq\\n\\nShares in...</td>\n",
       "      <td>business</td>\n",
       "      <td>0</td>\n",
       "    </tr>\n",
       "  </tbody>\n",
       "</table>\n",
       "</div>"
      ],
      "text/plain": [
       "                                                text    labels  targets\n",
       "0  Ad sales boost Time Warner profit\\n\\nQuarterly...  business        0\n",
       "1  Dollar gains on Greenspan speech\\n\\nThe dollar...  business        0\n",
       "2  Yukos unit buyer faces loan claim\\n\\nThe owner...  business        0\n",
       "3  High fuel prices hit BA's profits\\n\\nBritish A...  business        0\n",
       "4  Pernod takeover talk lifts Domecq\\n\\nShares in...  business        0"
      ]
     },
     "execution_count": 5,
     "metadata": {},
     "output_type": "execute_result"
    }
   ],
   "source": [
    "df.head()"
   ]
  },
  {
   "cell_type": "code",
   "execution_count": 6,
   "metadata": {},
   "outputs": [
    {
     "data": {
      "text/html": [
       "<div>\n",
       "<style scoped>\n",
       "    .dataframe tbody tr th:only-of-type {\n",
       "        vertical-align: middle;\n",
       "    }\n",
       "\n",
       "    .dataframe tbody tr th {\n",
       "        vertical-align: top;\n",
       "    }\n",
       "\n",
       "    .dataframe thead th {\n",
       "        text-align: right;\n",
       "    }\n",
       "</style>\n",
       "<table border=\"1\" class=\"dataframe\">\n",
       "  <thead>\n",
       "    <tr style=\"text-align: right;\">\n",
       "      <th></th>\n",
       "      <th>labels</th>\n",
       "      <th>targets</th>\n",
       "    </tr>\n",
       "  </thead>\n",
       "  <tbody>\n",
       "    <tr>\n",
       "      <th>0</th>\n",
       "      <td>business</td>\n",
       "      <td>0</td>\n",
       "    </tr>\n",
       "    <tr>\n",
       "      <th>1</th>\n",
       "      <td>entertainment</td>\n",
       "      <td>1</td>\n",
       "    </tr>\n",
       "    <tr>\n",
       "      <th>2</th>\n",
       "      <td>politics</td>\n",
       "      <td>2</td>\n",
       "    </tr>\n",
       "    <tr>\n",
       "      <th>3</th>\n",
       "      <td>sport</td>\n",
       "      <td>3</td>\n",
       "    </tr>\n",
       "    <tr>\n",
       "      <th>4</th>\n",
       "      <td>tech</td>\n",
       "      <td>4</td>\n",
       "    </tr>\n",
       "  </tbody>\n",
       "</table>\n",
       "</div>"
      ],
      "text/plain": [
       "          labels  targets\n",
       "0       business        0\n",
       "1  entertainment        1\n",
       "2       politics        2\n",
       "3          sport        3\n",
       "4           tech        4"
      ]
     },
     "execution_count": 6,
     "metadata": {},
     "output_type": "execute_result"
    }
   ],
   "source": [
    "df[['labels', 'targets']].groupby(by=['labels', 'targets'], as_index=False).sum()"
   ]
  },
  {
   "cell_type": "code",
   "execution_count": 7,
   "metadata": {},
   "outputs": [],
   "source": [
    "# number of classes\n",
    "K = df['targets'].nunique()"
   ]
  },
  {
   "cell_type": "code",
   "execution_count": 8,
   "metadata": {},
   "outputs": [],
   "source": [
    "# make train and test sets\n",
    "df_train, df_test = train_test_split(df, test_size=0.3)"
   ]
  },
  {
   "cell_type": "code",
   "execution_count": 9,
   "metadata": {},
   "outputs": [],
   "source": [
    "# convert texts to sequences\n",
    "MAX_VOCAB_SIZE = 2000\n",
    "tokenizer = Tokenizer(num_words=MAX_VOCAB_SIZE)\n",
    "tokenizer.fit_on_texts(df_train['text'])\n",
    "sequences_train = tokenizer.texts_to_sequences(df_train['text'])\n",
    "sequences_test = tokenizer.texts_to_sequences(df_test['text'])"
   ]
  },
  {
   "cell_type": "code",
   "execution_count": 10,
   "metadata": {},
   "outputs": [
    {
     "name": "stdout",
     "output_type": "stream",
     "text": [
      "Found 27466 unique tokens.\n"
     ]
    }
   ],
   "source": [
    "# make a dictionary of words to indices\n",
    "word2idx = tokenizer.word_index\n",
    "V = len(word2idx)\n",
    "print(f\"Found {V} unique tokens.\")"
   ]
  },
  {
   "cell_type": "code",
   "execution_count": 11,
   "metadata": {},
   "outputs": [
    {
     "name": "stdout",
     "output_type": "stream",
     "text": [
      "Shape of data train tensor: (1557, 2848)\n"
     ]
    }
   ],
   "source": [
    "# pad train and test sets\n",
    "data_train = pad_sequences(sequences_train)\n",
    "print('Shape of data train tensor:', data_train.shape)"
   ]
  },
  {
   "cell_type": "code",
   "execution_count": 12,
   "metadata": {},
   "outputs": [],
   "source": [
    "T = data_train.shape[1]"
   ]
  },
  {
   "cell_type": "code",
   "execution_count": 13,
   "metadata": {},
   "outputs": [
    {
     "name": "stdout",
     "output_type": "stream",
     "text": [
      "Shape of data test tensor: (668, 2848)\n"
     ]
    }
   ],
   "source": [
    "data_test = pad_sequences(sequences_test, maxlen=T)\n",
    "print('Shape of data test tensor:', data_test.shape)"
   ]
  },
  {
   "cell_type": "code",
   "execution_count": 14,
   "metadata": {},
   "outputs": [],
   "source": [
    "D = 20\n",
    "\n",
    "i = Input(shape=(T,))\n",
    "x = Embedding(V + 1, D)(i)\n",
    "x = LSTM(32, return_sequences=True)(x)\n",
    "x = GlobalMaxPooling1D()(x)\n",
    "x = Dense(K)(x)\n",
    "\n",
    "model = Model(i, x)"
   ]
  },
  {
   "cell_type": "code",
   "execution_count": 15,
   "metadata": {},
   "outputs": [
    {
     "name": "stdout",
     "output_type": "stream",
     "text": [
      "Model: \"model\"\n",
      "_________________________________________________________________\n",
      " Layer (type)                Output Shape              Param #   \n",
      "=================================================================\n",
      " input_1 (InputLayer)        [(None, 2848)]            0         \n",
      "                                                                 \n",
      " embedding (Embedding)       (None, 2848, 20)          549340    \n",
      "                                                                 \n",
      " lstm (LSTM)                 (None, 2848, 32)          6784      \n",
      "                                                                 \n",
      " global_max_pooling1d (Globa  (None, 32)               0         \n",
      " lMaxPooling1D)                                                  \n",
      "                                                                 \n",
      " dense (Dense)               (None, 5)                 165       \n",
      "                                                                 \n",
      "=================================================================\n",
      "Total params: 556,289\n",
      "Trainable params: 556,289\n",
      "Non-trainable params: 0\n",
      "_________________________________________________________________\n"
     ]
    }
   ],
   "source": [
    "model.summary()"
   ]
  },
  {
   "cell_type": "code",
   "execution_count": 16,
   "metadata": {},
   "outputs": [
    {
     "name": "stdout",
     "output_type": "stream",
     "text": [
      "Training model...\n",
      "Epoch 1/50\n",
      "49/49 [==============================] - 48s 947ms/step - loss: 1.5961 - accuracy: 0.3423 - val_loss: 1.5816 - val_accuracy: 0.3847\n",
      "Epoch 2/50\n",
      "49/49 [==============================] - 47s 954ms/step - loss: 1.5051 - accuracy: 0.4380 - val_loss: 1.3384 - val_accuracy: 0.4266\n",
      "Epoch 3/50\n",
      "49/49 [==============================] - 50s 1s/step - loss: 1.1985 - accuracy: 0.4695 - val_loss: 1.1031 - val_accuracy: 0.4237\n",
      "Epoch 4/50\n",
      "49/49 [==============================] - 48s 975ms/step - loss: 0.9220 - accuracy: 0.6198 - val_loss: 0.9663 - val_accuracy: 0.7186\n",
      "Epoch 5/50\n",
      "49/49 [==============================] - 48s 984ms/step - loss: 0.7514 - accuracy: 0.8240 - val_loss: 0.7377 - val_accuracy: 0.8428\n",
      "Epoch 6/50\n",
      "49/49 [==============================] - 49s 998ms/step - loss: 0.5832 - accuracy: 0.8780 - val_loss: 0.6336 - val_accuracy: 0.8503\n",
      "Epoch 7/50\n",
      "49/49 [==============================] - 49s 994ms/step - loss: 0.4400 - accuracy: 0.9390 - val_loss: 0.8374 - val_accuracy: 0.8039\n",
      "Epoch 8/50\n",
      "49/49 [==============================] - 62s 1s/step - loss: 0.3554 - accuracy: 0.9332 - val_loss: 0.5371 - val_accuracy: 0.8413\n",
      "Epoch 9/50\n",
      "49/49 [==============================] - 49s 1s/step - loss: 0.3367 - accuracy: 0.9165 - val_loss: 0.4445 - val_accuracy: 0.8728\n",
      "Epoch 10/50\n",
      "49/49 [==============================] - 48s 981ms/step - loss: 0.2269 - accuracy: 0.9525 - val_loss: 0.3474 - val_accuracy: 0.8997\n",
      "Epoch 11/50\n",
      "49/49 [==============================] - 50s 1s/step - loss: 0.1570 - accuracy: 0.9692 - val_loss: 0.3035 - val_accuracy: 0.9177\n",
      "Epoch 12/50\n",
      "49/49 [==============================] - 50s 1s/step - loss: 0.1423 - accuracy: 0.9737 - val_loss: 0.2796 - val_accuracy: 0.9177\n",
      "Epoch 13/50\n",
      "49/49 [==============================] - 50s 1s/step - loss: 0.1374 - accuracy: 0.9672 - val_loss: 0.3008 - val_accuracy: 0.9087\n",
      "Epoch 14/50\n",
      "49/49 [==============================] - 51s 1s/step - loss: 0.1145 - accuracy: 0.9782 - val_loss: 0.2778 - val_accuracy: 0.9207\n",
      "Epoch 15/50\n",
      "49/49 [==============================] - 51s 1s/step - loss: 0.0823 - accuracy: 0.9859 - val_loss: 0.3067 - val_accuracy: 0.9117\n",
      "Epoch 16/50\n",
      "49/49 [==============================] - 54s 1s/step - loss: 0.0874 - accuracy: 0.9814 - val_loss: 0.3321 - val_accuracy: 0.8997\n",
      "Epoch 17/50\n",
      "49/49 [==============================] - 54s 1s/step - loss: 0.0645 - accuracy: 0.9897 - val_loss: 0.2885 - val_accuracy: 0.9117\n",
      "Epoch 18/50\n",
      "49/49 [==============================] - 51s 1s/step - loss: 0.0496 - accuracy: 0.9929 - val_loss: 0.2755 - val_accuracy: 0.9147\n",
      "Epoch 19/50\n",
      "49/49 [==============================] - 50s 1s/step - loss: 0.0458 - accuracy: 0.9929 - val_loss: 0.2793 - val_accuracy: 0.9177\n",
      "Epoch 20/50\n",
      "49/49 [==============================] - 53s 1s/step - loss: 0.0393 - accuracy: 0.9949 - val_loss: 0.2885 - val_accuracy: 0.9177\n",
      "Epoch 21/50\n",
      "49/49 [==============================] - 57s 1s/step - loss: 0.0354 - accuracy: 0.9955 - val_loss: 0.2879 - val_accuracy: 0.9192\n",
      "Epoch 22/50\n",
      "49/49 [==============================] - 58s 1s/step - loss: 0.0316 - accuracy: 0.9961 - val_loss: 0.2906 - val_accuracy: 0.9207\n",
      "Epoch 23/50\n",
      "49/49 [==============================] - 57s 1s/step - loss: 0.0295 - accuracy: 0.9961 - val_loss: 0.2966 - val_accuracy: 0.9207\n",
      "Epoch 24/50\n",
      "49/49 [==============================] - 57s 1s/step - loss: 0.0267 - accuracy: 0.9955 - val_loss: 0.3201 - val_accuracy: 0.9147\n",
      "Epoch 25/50\n",
      "49/49 [==============================] - 52s 1s/step - loss: 0.0250 - accuracy: 0.9968 - val_loss: 0.2967 - val_accuracy: 0.9192\n",
      "Epoch 26/50\n",
      "49/49 [==============================] - 53s 1s/step - loss: 0.0199 - accuracy: 0.9974 - val_loss: 0.2953 - val_accuracy: 0.9222\n",
      "Epoch 27/50\n",
      "49/49 [==============================] - 54s 1s/step - loss: 0.0297 - accuracy: 0.9949 - val_loss: 0.2980 - val_accuracy: 0.9222\n",
      "Epoch 28/50\n",
      "49/49 [==============================] - 51s 1s/step - loss: 0.1459 - accuracy: 0.9512 - val_loss: 0.3681 - val_accuracy: 0.8922\n",
      "Epoch 29/50\n",
      "49/49 [==============================] - 52s 1s/step - loss: 0.0925 - accuracy: 0.9762 - val_loss: 0.4109 - val_accuracy: 0.8623\n",
      "Epoch 30/50\n",
      "49/49 [==============================] - 50s 1s/step - loss: 0.0969 - accuracy: 0.9685 - val_loss: 0.5226 - val_accuracy: 0.7470\n",
      "Epoch 31/50\n",
      "49/49 [==============================] - 49s 994ms/step - loss: 0.1699 - accuracy: 0.9563 - val_loss: 0.3043 - val_accuracy: 0.8952\n",
      "Epoch 32/50\n",
      "49/49 [==============================] - 52s 1s/step - loss: 0.0939 - accuracy: 0.9872 - val_loss: 0.1947 - val_accuracy: 0.9506\n",
      "Epoch 33/50\n",
      "49/49 [==============================] - 51s 1s/step - loss: 0.0550 - accuracy: 0.9936 - val_loss: 0.1848 - val_accuracy: 0.9311\n",
      "Epoch 34/50\n",
      "49/49 [==============================] - 54s 1s/step - loss: 0.0313 - accuracy: 0.9961 - val_loss: 0.1619 - val_accuracy: 0.9446\n",
      "Epoch 35/50\n",
      "49/49 [==============================] - 53s 1s/step - loss: 0.0202 - accuracy: 0.9974 - val_loss: 0.1849 - val_accuracy: 0.9356\n",
      "Epoch 36/50\n",
      "49/49 [==============================] - 53s 1s/step - loss: 0.0212 - accuracy: 0.9961 - val_loss: 0.2235 - val_accuracy: 0.9207\n",
      "Epoch 37/50\n",
      "49/49 [==============================] - 54s 1s/step - loss: 0.0162 - accuracy: 0.9974 - val_loss: 0.1920 - val_accuracy: 0.9326\n",
      "Epoch 38/50\n",
      "49/49 [==============================] - 53s 1s/step - loss: 0.0592 - accuracy: 0.9820 - val_loss: 0.5252 - val_accuracy: 0.8698\n",
      "Epoch 39/50\n",
      "49/49 [==============================] - 54s 1s/step - loss: 0.1428 - accuracy: 0.9589 - val_loss: 0.1860 - val_accuracy: 0.9491\n",
      "Epoch 40/50\n",
      "49/49 [==============================] - 55s 1s/step - loss: 0.0533 - accuracy: 0.9981 - val_loss: 0.1613 - val_accuracy: 0.9551\n",
      "Epoch 41/50\n",
      "49/49 [==============================] - 57s 1s/step - loss: 0.0310 - accuracy: 0.9987 - val_loss: 0.1547 - val_accuracy: 0.9551\n",
      "Epoch 42/50\n",
      "49/49 [==============================] - 52s 1s/step - loss: 0.0193 - accuracy: 1.0000 - val_loss: 0.1398 - val_accuracy: 0.9596\n",
      "Epoch 43/50\n",
      "49/49 [==============================] - 53s 1s/step - loss: 0.0147 - accuracy: 0.9994 - val_loss: 0.1406 - val_accuracy: 0.9581\n",
      "Epoch 44/50\n",
      "49/49 [==============================] - 53s 1s/step - loss: 0.0115 - accuracy: 0.9994 - val_loss: 0.1428 - val_accuracy: 0.9566\n",
      "Epoch 45/50\n",
      "49/49 [==============================] - 53s 1s/step - loss: 0.0097 - accuracy: 0.9994 - val_loss: 0.1555 - val_accuracy: 0.9506\n",
      "Epoch 46/50\n",
      "49/49 [==============================] - 58s 1s/step - loss: 0.0082 - accuracy: 0.9994 - val_loss: 0.1591 - val_accuracy: 0.9491\n",
      "Epoch 47/50\n",
      "49/49 [==============================] - 58s 1s/step - loss: 0.0069 - accuracy: 1.0000 - val_loss: 0.1610 - val_accuracy: 0.9491\n",
      "Epoch 48/50\n",
      "49/49 [==============================] - 54s 1s/step - loss: 0.0061 - accuracy: 1.0000 - val_loss: 0.1604 - val_accuracy: 0.9491\n",
      "Epoch 49/50\n",
      "49/49 [==============================] - 52s 1s/step - loss: 0.0055 - accuracy: 1.0000 - val_loss: 0.1634 - val_accuracy: 0.9476\n",
      "Epoch 50/50\n",
      "49/49 [==============================] - 54s 1s/step - loss: 0.0053 - accuracy: 1.0000 - val_loss: 0.1749 - val_accuracy: 0.9506\n"
     ]
    }
   ],
   "source": [
    "model.compile(loss=SparseCategoricalCrossentropy(from_logits=True), optimizer='adam', metrics=['accuracy'])\n",
    "\n",
    "print('Training model...')\n",
    "r = model.fit(data_train, df_train['targets'], epochs=50, validation_data=(data_test, df_test['targets']))"
   ]
  },
  {
   "cell_type": "code",
   "execution_count": 17,
   "metadata": {},
   "outputs": [
    {
     "data": {
      "text/plain": [
       "<matplotlib.legend.Legend at 0x7ff120ebe990>"
      ]
     },
     "execution_count": 17,
     "metadata": {},
     "output_type": "execute_result"
    },
    {
     "data": {
      "image/png": "[encoded data removed]",
      "text/plain": [
       "<Figure size 432x288 with 1 Axes>"
      ]
     },
     "metadata": {
      "needs_background": "light"
     },
     "output_type": "display_data"
    }
   ],
   "source": [
    "plt.plot(r.history['loss'], label='train loss')\n",
    "plt.plot(r.history['val_loss'], label='validation loss')\n",
    "plt.legend()"
   ]
  },
  {
   "cell_type": "code",
   "execution_count": 18,
   "metadata": {},
   "outputs": [
    {
     "data": {
      "text/plain": [
       "<matplotlib.legend.Legend at 0x7ff120f8cf50>"
      ]
     },
     "execution_count": 18,
     "metadata": {},
     "output_type": "execute_result"
    },
    {
     "data": {
      "image/png": "[encoded data removed]",
      "text/plain": [
       "<Figure size 432x288 with 1 Axes>"
      ]
     },
     "metadata": {
      "needs_background": "light"
     },
     "output_type": "display_data"
    }
   ],
   "source": [
    "plt.plot(r.history['accuracy'], label='train accuracy')\n",
    "plt.plot(r.history['val_accuracy'], label='validation accuracy')\n",
    "plt.legend()"
   ]
  }
 ],
 "metadata": {
  "kernelspec": {
   "display_name": "Python 3",
   "language": "python",
   "name": "python3"
  },
  "language_info": {
   "codemirror_mode": {
    "name": "ipython",
    "version": 3
   },
   "file_extension": ".py",
   "mimetype": "text/x-python",
   "name": "python",
   "nbconvert_exporter": "python",
   "pygments_lexer": "ipython3",
   "version": "3.7.6"
  }
 },
 "nbformat": 4,
 "nbformat_minor": 4
}

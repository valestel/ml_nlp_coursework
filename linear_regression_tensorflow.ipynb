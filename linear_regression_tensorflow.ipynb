{
 "cells": [
  {
   "cell_type": "markdown",
   "metadata": {},
   "source": [
    "The task is to build a linear regression model in Tensorflow."
   ]
  },
  {
   "cell_type": "code",
   "execution_count": 3,
   "metadata": {},
   "outputs": [],
   "source": [
    "import numpy as np\n",
    "import tensorflow as tf\n",
    "import matplotlib.pyplot as plt\n",
    "\n",
    "from tensorflow.keras.layers import Dense, Input\n",
    "from tensorflow.keras.models import Model\n",
    "from tensorflow.keras.optimizers import Adam"
   ]
  },
  {
   "cell_type": "code",
   "execution_count": 4,
   "metadata": {},
   "outputs": [],
   "source": [
    "# create a distribution of random numbers \n",
    "N = 100\n",
    "X = np.random.random(N) * 6 - 3\n",
    "y = 0.5 * X - 1 + np.random.randn(N) * 0.5"
   ]
  },
  {
   "cell_type": "code",
   "execution_count": 5,
   "metadata": {},
   "outputs": [
    {
     "data": {
      "text/plain": [
       "<matplotlib.collections.PathCollection at 0x7f9dc8ec9950>"
      ]
     },
     "execution_count": 5,
     "metadata": {},
     "output_type": "execute_result"
    },
    {
     "data": {
      "image/png": "[encoded data removed]",
      "text/plain": [
       "<Figure size 432x288 with 1 Axes>"
      ]
     },
     "metadata": {
      "needs_background": "light"
     },
     "output_type": "display_data"
    }
   ],
   "source": [
    "plt.scatter(X, y)"
   ]
  },
  {
   "cell_type": "code",
   "execution_count": 6,
   "metadata": {},
   "outputs": [],
   "source": [
    "# build a model\n",
    "i = Input(shape=(1,))\n",
    "x = Dense(1)(i)\n",
    "\n",
    "model = Model(i, x)"
   ]
  },
  {
   "cell_type": "code",
   "execution_count": 7,
   "metadata": {},
   "outputs": [
    {
     "name": "stdout",
     "output_type": "stream",
     "text": [
      "Model: \"model\"\n",
      "_________________________________________________________________\n",
      " Layer (type)                Output Shape              Param #   \n",
      "=================================================================\n",
      " input_1 (InputLayer)        [(None, 1)]               0         \n",
      "                                                                 \n",
      " dense (Dense)               (None, 1)                 2         \n",
      "                                                                 \n",
      "=================================================================\n",
      "Total params: 2\n",
      "Trainable params: 2\n",
      "Non-trainable params: 0\n",
      "_________________________________________________________________\n"
     ]
    }
   ],
   "source": [
    "model.summary()"
   ]
  },
  {
   "cell_type": "code",
   "execution_count": 8,
   "metadata": {},
   "outputs": [],
   "source": [
    "model.compile(loss='mse', optimizer=Adam(learning_rate=0.1), metrics=['mae'])"
   ]
  },
  {
   "cell_type": "code",
   "execution_count": 9,
   "metadata": {},
   "outputs": [
    {
     "name": "stdout",
     "output_type": "stream",
     "text": [
      "Epoch 1/200\n",
      "4/4 [==============================] - 0s 1ms/step - loss: 6.2545 - mae: 2.1515\n",
      "Epoch 2/200\n",
      "4/4 [==============================] - 0s 2ms/step - loss: 3.1676 - mae: 1.5206\n",
      "Epoch 3/200\n",
      "4/4 [==============================] - 0s 2ms/step - loss: 1.3037 - mae: 0.9469\n",
      "Epoch 4/200\n",
      "4/4 [==============================] - 0s 1ms/step - loss: 0.3879 - mae: 0.4894\n",
      "Epoch 5/200\n",
      "4/4 [==============================] - 0s 1ms/step - loss: 0.2225 - mae: 0.3997\n",
      "Epoch 6/200\n",
      "4/4 [==============================] - 0s 1ms/step - loss: 0.3610 - mae: 0.4875\n",
      "Epoch 7/200\n",
      "4/4 [==============================] - 0s 1ms/step - loss: 0.4297 - mae: 0.5258\n",
      "Epoch 8/200\n",
      "4/4 [==============================] - 0s 2ms/step - loss: 0.3776 - mae: 0.4950\n",
      "Epoch 9/200\n",
      "4/4 [==============================] - 0s 1ms/step - loss: 0.2766 - mae: 0.4241\n",
      "Epoch 10/200\n",
      "4/4 [==============================] - 0s 4ms/step - loss: 0.2102 - mae: 0.3795\n",
      "Epoch 11/200\n",
      "4/4 [==============================] - 0s 2ms/step - loss: 0.1911 - mae: 0.3599\n",
      "Epoch 12/200\n",
      "4/4 [==============================] - 0s 2ms/step - loss: 0.1961 - mae: 0.3595\n",
      "Epoch 13/200\n",
      "4/4 [==============================] - 0s 2ms/step - loss: 0.2085 - mae: 0.3675\n",
      "Epoch 14/200\n",
      "4/4 [==============================] - 0s 2ms/step - loss: 0.2108 - mae: 0.3699\n",
      "Epoch 15/200\n",
      "4/4 [==============================] - 0s 2ms/step - loss: 0.2021 - mae: 0.3695\n",
      "Epoch 16/200\n",
      "4/4 [==============================] - 0s 2ms/step - loss: 0.1962 - mae: 0.3726\n",
      "Epoch 17/200\n",
      "4/4 [==============================] - 0s 1ms/step - loss: 0.1931 - mae: 0.3733\n",
      "Epoch 18/200\n",
      "4/4 [==============================] - 0s 2ms/step - loss: 0.1895 - mae: 0.3696\n",
      "Epoch 19/200\n",
      "4/4 [==============================] - 0s 1ms/step - loss: 0.1930 - mae: 0.3658\n",
      "Epoch 20/200\n",
      "4/4 [==============================] - 0s 2ms/step - loss: 0.1960 - mae: 0.3640\n",
      "Epoch 21/200\n",
      "4/4 [==============================] - 0s 2ms/step - loss: 0.2007 - mae: 0.3644\n",
      "Epoch 22/200\n",
      "4/4 [==============================] - 0s 2ms/step - loss: 0.1999 - mae: 0.3618\n",
      "Epoch 23/200\n",
      "4/4 [==============================] - 0s 2ms/step - loss: 0.1950 - mae: 0.3607\n",
      "Epoch 24/200\n",
      "4/4 [==============================] - 0s 2ms/step - loss: 0.1896 - mae: 0.3592\n",
      "Epoch 25/200\n",
      "4/4 [==============================] - 0s 2ms/step - loss: 0.1883 - mae: 0.3620\n",
      "Epoch 26/200\n",
      "4/4 [==============================] - 0s 2ms/step - loss: 0.1888 - mae: 0.3637\n",
      "Epoch 27/200\n",
      "4/4 [==============================] - 0s 2ms/step - loss: 0.1889 - mae: 0.3637\n",
      "Epoch 28/200\n",
      "4/4 [==============================] - 0s 2ms/step - loss: 0.1892 - mae: 0.3639\n",
      "Epoch 29/200\n",
      "4/4 [==============================] - 0s 2ms/step - loss: 0.1882 - mae: 0.3642\n",
      "Epoch 30/200\n",
      "4/4 [==============================] - 0s 2ms/step - loss: 0.1873 - mae: 0.3636\n",
      "Epoch 31/200\n",
      "4/4 [==============================] - 0s 2ms/step - loss: 0.1885 - mae: 0.3645\n",
      "Epoch 32/200\n",
      "4/4 [==============================] - 0s 2ms/step - loss: 0.1955 - mae: 0.3668\n",
      "Epoch 33/200\n",
      "4/4 [==============================] - 0s 2ms/step - loss: 0.1939 - mae: 0.3614\n",
      "Epoch 34/200\n",
      "4/4 [==============================] - 0s 1ms/step - loss: 0.1921 - mae: 0.3615\n",
      "Epoch 35/200\n",
      "4/4 [==============================] - 0s 2ms/step - loss: 0.1915 - mae: 0.3596\n",
      "Epoch 36/200\n",
      "4/4 [==============================] - 0s 2ms/step - loss: 0.1909 - mae: 0.3596\n",
      "Epoch 37/200\n",
      "4/4 [==============================] - 0s 2ms/step - loss: 0.1906 - mae: 0.3605\n",
      "Epoch 38/200\n",
      "4/4 [==============================] - 0s 2ms/step - loss: 0.1919 - mae: 0.3616\n",
      "Epoch 39/200\n",
      "4/4 [==============================] - 0s 2ms/step - loss: 0.2007 - mae: 0.3663\n",
      "Epoch 40/200\n",
      "4/4 [==============================] - 0s 2ms/step - loss: 0.1983 - mae: 0.3618\n",
      "Epoch 41/200\n",
      "4/4 [==============================] - 0s 2ms/step - loss: 0.1933 - mae: 0.3618\n",
      "Epoch 42/200\n",
      "4/4 [==============================] - 0s 2ms/step - loss: 0.1887 - mae: 0.3606\n",
      "Epoch 43/200\n",
      "4/4 [==============================] - 0s 2ms/step - loss: 0.1878 - mae: 0.3625\n",
      "Epoch 44/200\n",
      "4/4 [==============================] - 0s 2ms/step - loss: 0.1899 - mae: 0.3682\n",
      "Epoch 45/200\n",
      "4/4 [==============================] - 0s 2ms/step - loss: 0.1889 - mae: 0.3681\n",
      "Epoch 46/200\n",
      "4/4 [==============================] - 0s 2ms/step - loss: 0.1886 - mae: 0.3663\n",
      "Epoch 47/200\n",
      "4/4 [==============================] - 0s 2ms/step - loss: 0.1902 - mae: 0.3667\n",
      "Epoch 48/200\n",
      "4/4 [==============================] - 0s 2ms/step - loss: 0.1913 - mae: 0.3643\n",
      "Epoch 49/200\n",
      "4/4 [==============================] - 0s 2ms/step - loss: 0.1905 - mae: 0.3636\n",
      "Epoch 50/200\n",
      "4/4 [==============================] - 0s 2ms/step - loss: 0.1894 - mae: 0.3633\n",
      "Epoch 51/200\n",
      "4/4 [==============================] - 0s 2ms/step - loss: 0.1882 - mae: 0.3639\n",
      "Epoch 52/200\n",
      "4/4 [==============================] - 0s 2ms/step - loss: 0.1880 - mae: 0.3628\n",
      "Epoch 53/200\n",
      "4/4 [==============================] - 0s 2ms/step - loss: 0.1886 - mae: 0.3644\n",
      "Epoch 54/200\n",
      "4/4 [==============================] - 0s 2ms/step - loss: 0.1875 - mae: 0.3643\n",
      "Epoch 55/200\n",
      "4/4 [==============================] - 0s 2ms/step - loss: 0.1899 - mae: 0.3630\n",
      "Epoch 56/200\n",
      "4/4 [==============================] - 0s 2ms/step - loss: 0.1959 - mae: 0.3615\n",
      "Epoch 57/200\n",
      "4/4 [==============================] - 0s 2ms/step - loss: 0.1929 - mae: 0.3581\n",
      "Epoch 58/200\n",
      "4/4 [==============================] - 0s 2ms/step - loss: 0.1929 - mae: 0.3590\n",
      "Epoch 59/200\n",
      "4/4 [==============================] - 0s 2ms/step - loss: 0.1905 - mae: 0.3597\n",
      "Epoch 60/200\n",
      "4/4 [==============================] - 0s 2ms/step - loss: 0.1897 - mae: 0.3666\n",
      "Epoch 61/200\n",
      "4/4 [==============================] - 0s 2ms/step - loss: 0.1959 - mae: 0.3732\n",
      "Epoch 62/200\n",
      "4/4 [==============================] - 0s 1ms/step - loss: 0.1915 - mae: 0.3715\n",
      "Epoch 63/200\n",
      "4/4 [==============================] - 0s 2ms/step - loss: 0.1879 - mae: 0.3658\n",
      "Epoch 64/200\n",
      "4/4 [==============================] - 0s 1ms/step - loss: 0.1911 - mae: 0.3576\n",
      "Epoch 65/200\n",
      "4/4 [==============================] - 0s 2ms/step - loss: 0.2021 - mae: 0.3660\n",
      "Epoch 66/200\n",
      "4/4 [==============================] - 0s 1ms/step - loss: 0.1966 - mae: 0.3626\n",
      "Epoch 67/200\n",
      "4/4 [==============================] - 0s 1ms/step - loss: 0.1885 - mae: 0.3629\n",
      "Epoch 68/200\n",
      "4/4 [==============================] - 0s 1ms/step - loss: 0.1904 - mae: 0.3712\n",
      "Epoch 69/200\n",
      "4/4 [==============================] - 0s 1ms/step - loss: 0.1910 - mae: 0.3701\n",
      "Epoch 70/200\n",
      "4/4 [==============================] - 0s 1ms/step - loss: 0.1897 - mae: 0.3644\n",
      "Epoch 71/200\n",
      "4/4 [==============================] - 0s 1ms/step - loss: 0.1923 - mae: 0.3609\n",
      "Epoch 72/200\n",
      "4/4 [==============================] - 0s 1ms/step - loss: 0.1927 - mae: 0.3602\n",
      "Epoch 73/200\n",
      "4/4 [==============================] - 0s 1ms/step - loss: 0.1912 - mae: 0.3588\n",
      "Epoch 74/200\n",
      "4/4 [==============================] - 0s 1ms/step - loss: 0.1860 - mae: 0.3601\n",
      "Epoch 75/200\n",
      "4/4 [==============================] - 0s 1ms/step - loss: 0.1908 - mae: 0.3710\n",
      "Epoch 76/200\n",
      "4/4 [==============================] - 0s 2ms/step - loss: 0.1919 - mae: 0.3701\n",
      "Epoch 77/200\n",
      "4/4 [==============================] - 0s 1ms/step - loss: 0.1882 - mae: 0.3632\n",
      "Epoch 78/200\n",
      "4/4 [==============================] - 0s 1ms/step - loss: 0.1882 - mae: 0.3629\n",
      "Epoch 79/200\n",
      "4/4 [==============================] - 0s 2ms/step - loss: 0.1888 - mae: 0.3655\n",
      "Epoch 80/200\n",
      "4/4 [==============================] - 0s 2ms/step - loss: 0.1891 - mae: 0.3677\n",
      "Epoch 81/200\n",
      "4/4 [==============================] - 0s 1ms/step - loss: 0.1881 - mae: 0.3652\n",
      "Epoch 82/200\n",
      "4/4 [==============================] - 0s 2ms/step - loss: 0.1890 - mae: 0.3675\n",
      "Epoch 83/200\n",
      "4/4 [==============================] - 0s 2ms/step - loss: 0.1922 - mae: 0.3695\n",
      "Epoch 84/200\n",
      "4/4 [==============================] - 0s 1ms/step - loss: 0.1916 - mae: 0.3689\n",
      "Epoch 85/200\n",
      "4/4 [==============================] - 0s 1ms/step - loss: 0.1890 - mae: 0.3666\n",
      "Epoch 86/200\n",
      "4/4 [==============================] - 0s 2ms/step - loss: 0.1892 - mae: 0.3629\n",
      "Epoch 87/200\n",
      "4/4 [==============================] - 0s 1ms/step - loss: 0.1933 - mae: 0.3675\n",
      "Epoch 88/200\n",
      "4/4 [==============================] - 0s 1ms/step - loss: 0.1903 - mae: 0.3675\n",
      "Epoch 89/200\n",
      "4/4 [==============================] - 0s 1ms/step - loss: 0.1896 - mae: 0.3607\n",
      "Epoch 90/200\n",
      "4/4 [==============================] - 0s 1ms/step - loss: 0.1900 - mae: 0.3595\n",
      "Epoch 91/200\n",
      "4/4 [==============================] - 0s 1ms/step - loss: 0.1902 - mae: 0.3617\n",
      "Epoch 92/200\n",
      "4/4 [==============================] - 0s 1ms/step - loss: 0.2044 - mae: 0.3749\n",
      "Epoch 93/200\n",
      "4/4 [==============================] - 0s 1ms/step - loss: 0.1974 - mae: 0.3715\n",
      "Epoch 94/200\n",
      "4/4 [==============================] - 0s 2ms/step - loss: 0.1945 - mae: 0.3624\n",
      "Epoch 95/200\n",
      "4/4 [==============================] - 0s 1ms/step - loss: 0.2154 - mae: 0.3760\n",
      "Epoch 96/200\n",
      "4/4 [==============================] - 0s 1ms/step - loss: 0.2059 - mae: 0.3668\n",
      "Epoch 97/200\n",
      "4/4 [==============================] - 0s 1ms/step - loss: 0.1894 - mae: 0.3673\n",
      "Epoch 98/200\n",
      "4/4 [==============================] - 0s 1ms/step - loss: 0.1946 - mae: 0.3728\n",
      "Epoch 99/200\n",
      "4/4 [==============================] - 0s 1ms/step - loss: 0.1932 - mae: 0.3703\n",
      "Epoch 100/200\n",
      "4/4 [==============================] - 0s 1ms/step - loss: 0.1890 - mae: 0.3670\n",
      "Epoch 101/200\n",
      "4/4 [==============================] - 0s 1ms/step - loss: 0.1880 - mae: 0.3662\n",
      "Epoch 102/200\n",
      "4/4 [==============================] - 0s 1ms/step - loss: 0.1885 - mae: 0.3611\n",
      "Epoch 103/200\n",
      "4/4 [==============================] - 0s 2ms/step - loss: 0.1920 - mae: 0.3607\n",
      "Epoch 104/200\n",
      "4/4 [==============================] - 0s 1ms/step - loss: 0.1922 - mae: 0.3608\n",
      "Epoch 105/200\n",
      "4/4 [==============================] - 0s 1ms/step - loss: 0.1945 - mae: 0.3631\n",
      "Epoch 106/200\n",
      "4/4 [==============================] - 0s 1ms/step - loss: 0.1951 - mae: 0.3676\n",
      "Epoch 107/200\n",
      "4/4 [==============================] - 0s 1ms/step - loss: 0.1866 - mae: 0.3635\n",
      "Epoch 108/200\n",
      "4/4 [==============================] - 0s 1ms/step - loss: 0.2049 - mae: 0.3736\n",
      "Epoch 109/200\n",
      "4/4 [==============================] - 0s 2ms/step - loss: 0.2094 - mae: 0.3749\n",
      "Epoch 110/200\n",
      "4/4 [==============================] - 0s 2ms/step - loss: 0.1954 - mae: 0.3698\n",
      "Epoch 111/200\n",
      "4/4 [==============================] - 0s 1ms/step - loss: 0.1925 - mae: 0.3714\n",
      "Epoch 112/200\n",
      "4/4 [==============================] - 0s 2ms/step - loss: 0.1898 - mae: 0.3631\n",
      "Epoch 113/200\n",
      "4/4 [==============================] - 0s 1ms/step - loss: 0.1917 - mae: 0.3601\n",
      "Epoch 114/200\n",
      "4/4 [==============================] - 0s 1ms/step - loss: 0.1917 - mae: 0.3582\n",
      "Epoch 115/200\n",
      "4/4 [==============================] - 0s 1ms/step - loss: 0.1966 - mae: 0.3642\n",
      "Epoch 116/200\n",
      "4/4 [==============================] - 0s 1ms/step - loss: 0.1971 - mae: 0.3735\n",
      "Epoch 117/200\n",
      "4/4 [==============================] - 0s 1ms/step - loss: 0.1964 - mae: 0.3783\n",
      "Epoch 118/200\n",
      "4/4 [==============================] - 0s 1ms/step - loss: 0.1897 - mae: 0.3636\n",
      "Epoch 119/200\n",
      "4/4 [==============================] - 0s 1ms/step - loss: 0.1965 - mae: 0.3624\n",
      "Epoch 120/200\n",
      "4/4 [==============================] - 0s 1ms/step - loss: 0.1950 - mae: 0.3604\n",
      "Epoch 121/200\n",
      "4/4 [==============================] - 0s 1ms/step - loss: 0.1924 - mae: 0.3643\n",
      "Epoch 122/200\n",
      "4/4 [==============================] - 0s 1ms/step - loss: 0.1887 - mae: 0.3660\n",
      "Epoch 123/200\n",
      "4/4 [==============================] - 0s 1ms/step - loss: 0.1920 - mae: 0.3651\n",
      "Epoch 124/200\n",
      "4/4 [==============================] - 0s 1ms/step - loss: 0.2059 - mae: 0.3680\n",
      "Epoch 125/200\n",
      "4/4 [==============================] - 0s 1ms/step - loss: 0.1907 - mae: 0.3602\n",
      "Epoch 126/200\n",
      "4/4 [==============================] - 0s 1ms/step - loss: 0.1916 - mae: 0.3696\n",
      "Epoch 127/200\n",
      "4/4 [==============================] - 0s 1ms/step - loss: 0.1997 - mae: 0.3747\n",
      "Epoch 128/200\n",
      "4/4 [==============================] - 0s 1ms/step - loss: 0.1912 - mae: 0.3693\n",
      "Epoch 129/200\n",
      "4/4 [==============================] - 0s 1ms/step - loss: 0.1904 - mae: 0.3721\n",
      "Epoch 130/200\n",
      "4/4 [==============================] - 0s 1ms/step - loss: 0.2002 - mae: 0.3799\n",
      "Epoch 131/200\n",
      "4/4 [==============================] - 0s 1ms/step - loss: 0.1909 - mae: 0.3721\n",
      "Epoch 132/200\n",
      "4/4 [==============================] - 0s 1ms/step - loss: 0.1869 - mae: 0.3594\n",
      "Epoch 133/200\n",
      "4/4 [==============================] - 0s 1ms/step - loss: 0.2053 - mae: 0.3662\n",
      "Epoch 134/200\n",
      "4/4 [==============================] - 0s 1ms/step - loss: 0.2053 - mae: 0.3638\n",
      "Epoch 135/200\n",
      "4/4 [==============================] - 0s 1ms/step - loss: 0.1925 - mae: 0.3615\n",
      "Epoch 136/200\n",
      "4/4 [==============================] - 0s 1ms/step - loss: 0.1875 - mae: 0.3665\n",
      "Epoch 137/200\n",
      "4/4 [==============================] - 0s 1ms/step - loss: 0.1968 - mae: 0.3762\n",
      "Epoch 138/200\n",
      "4/4 [==============================] - 0s 1ms/step - loss: 0.1934 - mae: 0.3718\n",
      "Epoch 139/200\n",
      "4/4 [==============================] - 0s 1ms/step - loss: 0.1883 - mae: 0.3609\n",
      "Epoch 140/200\n",
      "4/4 [==============================] - 0s 2ms/step - loss: 0.1910 - mae: 0.3621\n",
      "Epoch 141/200\n",
      "4/4 [==============================] - 0s 1ms/step - loss: 0.1897 - mae: 0.3645\n",
      "Epoch 142/200\n",
      "4/4 [==============================] - 0s 1ms/step - loss: 0.1922 - mae: 0.3724\n",
      "Epoch 143/200\n",
      "4/4 [==============================] - 0s 1ms/step - loss: 0.1922 - mae: 0.3726\n",
      "Epoch 144/200\n",
      "4/4 [==============================] - 0s 1ms/step - loss: 0.1888 - mae: 0.3644\n",
      "Epoch 145/200\n",
      "4/4 [==============================] - 0s 1ms/step - loss: 0.1971 - mae: 0.3652\n",
      "Epoch 146/200\n",
      "4/4 [==============================] - 0s 1ms/step - loss: 0.1918 - mae: 0.3599\n",
      "Epoch 147/200\n",
      "4/4 [==============================] - 0s 1ms/step - loss: 0.1906 - mae: 0.3700\n",
      "Epoch 148/200\n",
      "4/4 [==============================] - 0s 1ms/step - loss: 0.2053 - mae: 0.3872\n",
      "Epoch 149/200\n",
      "4/4 [==============================] - 0s 1ms/step - loss: 0.2165 - mae: 0.3947\n",
      "Epoch 150/200\n",
      "4/4 [==============================] - 0s 1ms/step - loss: 0.1965 - mae: 0.3719\n",
      "Epoch 151/200\n",
      "4/4 [==============================] - 0s 1ms/step - loss: 0.1892 - mae: 0.3664\n",
      "Epoch 152/200\n",
      "4/4 [==============================] - 0s 1ms/step - loss: 0.1897 - mae: 0.3598\n",
      "Epoch 153/200\n",
      "4/4 [==============================] - 0s 1ms/step - loss: 0.1922 - mae: 0.3628\n",
      "Epoch 154/200\n",
      "4/4 [==============================] - 0s 1ms/step - loss: 0.1886 - mae: 0.3631\n",
      "Epoch 155/200\n",
      "4/4 [==============================] - 0s 1ms/step - loss: 0.1877 - mae: 0.3631\n",
      "Epoch 156/200\n",
      "4/4 [==============================] - 0s 1ms/step - loss: 0.1878 - mae: 0.3633\n",
      "Epoch 157/200\n",
      "4/4 [==============================] - 0s 1ms/step - loss: 0.1947 - mae: 0.3751\n",
      "Epoch 158/200\n",
      "4/4 [==============================] - 0s 1ms/step - loss: 0.2032 - mae: 0.3836\n",
      "Epoch 159/200\n",
      "4/4 [==============================] - 0s 1ms/step - loss: 0.1957 - mae: 0.3748\n",
      "Epoch 160/200\n",
      "4/4 [==============================] - 0s 2ms/step - loss: 0.1894 - mae: 0.3621\n",
      "Epoch 161/200\n",
      "4/4 [==============================] - 0s 1ms/step - loss: 0.1895 - mae: 0.3655\n",
      "Epoch 162/200\n",
      "4/4 [==============================] - 0s 2ms/step - loss: 0.1926 - mae: 0.3688\n",
      "Epoch 163/200\n",
      "4/4 [==============================] - 0s 1ms/step - loss: 0.1940 - mae: 0.3750\n",
      "Epoch 164/200\n",
      "4/4 [==============================] - 0s 1ms/step - loss: 0.1919 - mae: 0.3727\n",
      "Epoch 165/200\n",
      "4/4 [==============================] - 0s 1ms/step - loss: 0.1917 - mae: 0.3653\n",
      "Epoch 166/200\n",
      "4/4 [==============================] - 0s 1ms/step - loss: 0.1968 - mae: 0.3618\n",
      "Epoch 167/200\n",
      "4/4 [==============================] - 0s 1ms/step - loss: 0.1975 - mae: 0.3625\n",
      "Epoch 168/200\n",
      "4/4 [==============================] - 0s 1ms/step - loss: 0.1964 - mae: 0.3612\n",
      "Epoch 169/200\n",
      "4/4 [==============================] - 0s 1ms/step - loss: 0.1949 - mae: 0.3677\n",
      "Epoch 170/200\n",
      "4/4 [==============================] - 0s 1ms/step - loss: 0.1976 - mae: 0.3779\n",
      "Epoch 171/200\n",
      "4/4 [==============================] - 0s 1ms/step - loss: 0.1920 - mae: 0.3718\n",
      "Epoch 172/200\n",
      "4/4 [==============================] - 0s 1ms/step - loss: 0.1888 - mae: 0.3640\n",
      "Epoch 173/200\n",
      "4/4 [==============================] - 0s 1ms/step - loss: 0.1888 - mae: 0.3630\n",
      "Epoch 174/200\n",
      "4/4 [==============================] - 0s 1ms/step - loss: 0.1888 - mae: 0.3631\n",
      "Epoch 175/200\n",
      "4/4 [==============================] - 0s 1ms/step - loss: 0.1898 - mae: 0.3654\n",
      "Epoch 176/200\n"
     ]
    },
    {
     "name": "stdout",
     "output_type": "stream",
     "text": [
      "4/4 [==============================] - 0s 1ms/step - loss: 0.1876 - mae: 0.3605\n",
      "Epoch 177/200\n",
      "4/4 [==============================] - 0s 1ms/step - loss: 0.1982 - mae: 0.3615\n",
      "Epoch 178/200\n",
      "4/4 [==============================] - 0s 1ms/step - loss: 0.2174 - mae: 0.3760\n",
      "Epoch 179/200\n",
      "4/4 [==============================] - 0s 1ms/step - loss: 0.1972 - mae: 0.3707\n",
      "Epoch 180/200\n",
      "4/4 [==============================] - 0s 1ms/step - loss: 0.2032 - mae: 0.3693\n",
      "Epoch 181/200\n",
      "4/4 [==============================] - 0s 1ms/step - loss: 0.1988 - mae: 0.3667\n",
      "Epoch 182/200\n",
      "4/4 [==============================] - 0s 1ms/step - loss: 0.1902 - mae: 0.3623\n",
      "Epoch 183/200\n",
      "4/4 [==============================] - 0s 1ms/step - loss: 0.1875 - mae: 0.3640\n",
      "Epoch 184/200\n",
      "4/4 [==============================] - 0s 1ms/step - loss: 0.2003 - mae: 0.3814\n",
      "Epoch 185/200\n",
      "4/4 [==============================] - 0s 1ms/step - loss: 0.1971 - mae: 0.3753\n",
      "Epoch 186/200\n",
      "4/4 [==============================] - 0s 1ms/step - loss: 0.1954 - mae: 0.3608\n",
      "Epoch 187/200\n",
      "4/4 [==============================] - 0s 1ms/step - loss: 0.1939 - mae: 0.3617\n",
      "Epoch 188/200\n",
      "4/4 [==============================] - 0s 1ms/step - loss: 0.1879 - mae: 0.3634\n",
      "Epoch 189/200\n",
      "4/4 [==============================] - 0s 1ms/step - loss: 0.1884 - mae: 0.3654\n",
      "Epoch 190/200\n",
      "4/4 [==============================] - 0s 1ms/step - loss: 0.1880 - mae: 0.3641\n",
      "Epoch 191/200\n",
      "4/4 [==============================] - 0s 1ms/step - loss: 0.1885 - mae: 0.3622\n",
      "Epoch 192/200\n",
      "4/4 [==============================] - 0s 1ms/step - loss: 0.1947 - mae: 0.3684\n",
      "Epoch 193/200\n",
      "4/4 [==============================] - 0s 1ms/step - loss: 0.2049 - mae: 0.3753\n",
      "Epoch 194/200\n",
      "4/4 [==============================] - 0s 1ms/step - loss: 0.1957 - mae: 0.3667\n",
      "Epoch 195/200\n",
      "4/4 [==============================] - 0s 1ms/step - loss: 0.1889 - mae: 0.3663\n",
      "Epoch 196/200\n",
      "4/4 [==============================] - 0s 1ms/step - loss: 0.1899 - mae: 0.3636\n",
      "Epoch 197/200\n",
      "4/4 [==============================] - 0s 1ms/step - loss: 0.1928 - mae: 0.3606\n",
      "Epoch 198/200\n",
      "4/4 [==============================] - 0s 1ms/step - loss: 0.1937 - mae: 0.3647\n",
      "Epoch 199/200\n",
      "4/4 [==============================] - 0s 1ms/step - loss: 0.1895 - mae: 0.3626\n",
      "Epoch 200/200\n",
      "4/4 [==============================] - 0s 1ms/step - loss: 0.1925 - mae: 0.3634\n"
     ]
    }
   ],
   "source": [
    "r = model.fit(X.reshape(-1, 1), y, epochs=200, batch_size=32)"
   ]
  },
  {
   "cell_type": "code",
   "execution_count": 10,
   "metadata": {},
   "outputs": [
    {
     "data": {
      "text/plain": [
       "<matplotlib.legend.Legend at 0x7f9d98cd5ad0>"
      ]
     },
     "execution_count": 10,
     "metadata": {},
     "output_type": "execute_result"
    },
    {
     "data": {
      "image/png": "[encoded data removed]",
      "text/plain": [
       "<Figure size 432x288 with 1 Axes>"
      ]
     },
     "metadata": {
      "needs_background": "light"
     },
     "output_type": "display_data"
    }
   ],
   "source": [
    "# Loss per iteration\n",
    "plt.plot(r.history['loss'], label='loss')\n",
    "plt.legend()"
   ]
  },
  {
   "cell_type": "code",
   "execution_count": 11,
   "metadata": {},
   "outputs": [
    {
     "data": {
      "text/plain": [
       "<matplotlib.legend.Legend at 0x7f9dbd171c10>"
      ]
     },
     "execution_count": 11,
     "metadata": {},
     "output_type": "execute_result"
    },
    {
     "data": {
      "image/png": "[encoded data removed]",
      "text/plain": [
       "<Figure size 432x288 with 1 Axes>"
      ]
     },
     "metadata": {
      "needs_background": "light"
     },
     "output_type": "display_data"
    }
   ],
   "source": [
    "# Mean absolute error per iteration\n",
    "plt.plot(r.history['mae'], label='mae')\n",
    "plt.legend()"
   ]
  },
  {
   "cell_type": "code",
   "execution_count": 12,
   "metadata": {},
   "outputs": [
    {
     "name": "stdout",
     "output_type": "stream",
     "text": [
      "1/1 [==============================] - 0s 59ms/step\n"
     ]
    }
   ],
   "source": [
    "# make predictions\n",
    "Xtest = np.linspace(-3, 3, 20).reshape(-1, 1)\n",
    "ptest = model.predict(Xtest)"
   ]
  },
  {
   "cell_type": "code",
   "execution_count": 13,
   "metadata": {},
   "outputs": [
    {
     "data": {
      "text/plain": [
       "[<matplotlib.lines.Line2D at 0x7f9dbcd730d0>]"
      ]
     },
     "execution_count": 13,
     "metadata": {},
     "output_type": "execute_result"
    },
    {
     "data": {
      "image/png": "[encoded data removed]",
      "text/plain": [
       "<Figure size 432x288 with 1 Axes>"
      ]
     },
     "metadata": {
      "needs_background": "light"
     },
     "output_type": "display_data"
    }
   ],
   "source": [
    "plt.scatter(X, y)\n",
    "plt.plot(Xtest, ptest)"
   ]
  },
  {
   "cell_type": "code",
   "execution_count": 15,
   "metadata": {},
   "outputs": [
    {
     "data": {
      "text/plain": [
       "[array([[0.520609]], dtype=float32), array([-0.9548427], dtype=float32)]"
      ]
     },
     "execution_count": 15,
     "metadata": {},
     "output_type": "execute_result"
    }
   ],
   "source": [
    "model.layers[1].get_weights()"
   ]
  },
  {
   "cell_type": "code",
   "execution_count": null,
   "metadata": {},
   "outputs": [],
   "source": []
  }
 ],
 "metadata": {
  "kernelspec": {
   "display_name": "Python 3",
   "language": "python",
   "name": "python3"
  },
  "language_info": {
   "codemirror_mode": {
    "name": "ipython",
    "version": 3
   },
   "file_extension": ".py",
   "mimetype": "text/x-python",
   "name": "python",
   "nbconvert_exporter": "python",
   "pygments_lexer": "ipython3",
   "version": "3.7.6"
  }
 },
 "nbformat": 4,
 "nbformat_minor": 4
}

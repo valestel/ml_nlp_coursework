{
 "cells": [
  {
   "cell_type": "markdown",
   "metadata": {},
   "source": [
    "The task is to explore masked language modeling in Transformers"
   ]
  },
  {
   "cell_type": "code",
   "execution_count": 1,
   "metadata": {},
   "outputs": [],
   "source": [
    "import numpy as np\n",
    "import pandas as pd\n",
    "\n",
    "from pprint import pprint\n",
    "from transformers import pipeline"
   ]
  },
  {
   "cell_type": "code",
   "execution_count": 2,
   "metadata": {},
   "outputs": [
    {
     "name": "stdout",
     "output_type": "stream",
     "text": [
      "File ‘bbc_text_cls.csv’ already there; not retrieving.\r\n",
      "\r\n"
     ]
    }
   ],
   "source": [
    "# download BBC text classification dataset\n",
    "# original dataset on Kaggle: https://www.kaggle.com/datasets/shivamkushwaha/bbc-full-text-document-classification)\n",
    "!wget -nc https://lazyprogrammer.me/course_files/nlp/bbc_text_cls.csv"
   ]
  },
  {
   "cell_type": "code",
   "execution_count": 3,
   "metadata": {},
   "outputs": [],
   "source": [
    "# save the dataset in Pandas dataframe\n",
    "df = pd.read_csv('bbc_text_cls.csv')"
   ]
  },
  {
   "cell_type": "code",
   "execution_count": 4,
   "metadata": {},
   "outputs": [
    {
     "data": {
      "text/html": [
       "<div>\n",
       "<style scoped>\n",
       "    .dataframe tbody tr th:only-of-type {\n",
       "        vertical-align: middle;\n",
       "    }\n",
       "\n",
       "    .dataframe tbody tr th {\n",
       "        vertical-align: top;\n",
       "    }\n",
       "\n",
       "    .dataframe thead th {\n",
       "        text-align: right;\n",
       "    }\n",
       "</style>\n",
       "<table border=\"1\" class=\"dataframe\">\n",
       "  <thead>\n",
       "    <tr style=\"text-align: right;\">\n",
       "      <th></th>\n",
       "      <th>text</th>\n",
       "      <th>labels</th>\n",
       "    </tr>\n",
       "  </thead>\n",
       "  <tbody>\n",
       "    <tr>\n",
       "      <th>0</th>\n",
       "      <td>Ad sales boost Time Warner profit\\n\\nQuarterly...</td>\n",
       "      <td>business</td>\n",
       "    </tr>\n",
       "    <tr>\n",
       "      <th>1</th>\n",
       "      <td>Dollar gains on Greenspan speech\\n\\nThe dollar...</td>\n",
       "      <td>business</td>\n",
       "    </tr>\n",
       "    <tr>\n",
       "      <th>2</th>\n",
       "      <td>Yukos unit buyer faces loan claim\\n\\nThe owner...</td>\n",
       "      <td>business</td>\n",
       "    </tr>\n",
       "    <tr>\n",
       "      <th>3</th>\n",
       "      <td>High fuel prices hit BA's profits\\n\\nBritish A...</td>\n",
       "      <td>business</td>\n",
       "    </tr>\n",
       "    <tr>\n",
       "      <th>4</th>\n",
       "      <td>Pernod takeover talk lifts Domecq\\n\\nShares in...</td>\n",
       "      <td>business</td>\n",
       "    </tr>\n",
       "  </tbody>\n",
       "</table>\n",
       "</div>"
      ],
      "text/plain": [
       "                                                text    labels\n",
       "0  Ad sales boost Time Warner profit\\n\\nQuarterly...  business\n",
       "1  Dollar gains on Greenspan speech\\n\\nThe dollar...  business\n",
       "2  Yukos unit buyer faces loan claim\\n\\nThe owner...  business\n",
       "3  High fuel prices hit BA's profits\\n\\nBritish A...  business\n",
       "4  Pernod takeover talk lifts Domecq\\n\\nShares in...  business"
      ]
     },
     "execution_count": 4,
     "metadata": {},
     "output_type": "execute_result"
    }
   ],
   "source": [
    "# check the dataset\n",
    "df.head()"
   ]
  },
  {
   "cell_type": "code",
   "execution_count": 5,
   "metadata": {},
   "outputs": [
    {
     "data": {
      "text/plain": [
       "array(['business', 'entertainment', 'politics', 'sport', 'tech'],\n",
       "      dtype=object)"
      ]
     },
     "execution_count": 5,
     "metadata": {},
     "output_type": "execute_result"
    }
   ],
   "source": [
    "# check labels\n",
    "df['labels'].unique()"
   ]
  },
  {
   "cell_type": "code",
   "execution_count": 6,
   "metadata": {},
   "outputs": [],
   "source": [
    "# select business texts\n",
    "business_texts = df[df['labels'] == 'business']['text']"
   ]
  },
  {
   "cell_type": "code",
   "execution_count": 15,
   "metadata": {},
   "outputs": [],
   "source": [
    "# select a random text\n",
    "i = np.random.choice(business_texts.shape[0])\n",
    "doc = business_texts.iloc[i]"
   ]
  },
  {
   "cell_type": "code",
   "execution_count": 16,
   "metadata": {},
   "outputs": [
    {
     "name": "stdout",
     "output_type": "stream",
     "text": [
      "UK young top Euro earnings league\n",
      "\n",
      "British children enjoy the highest average annual income in Europe - more than double that of Spanish or Italian youngsters, a report suggests.\n",
      "\n",
      "Children in the UK between the ages of 10 and 17 had an annual income of £775, said market analyst Datamonitor. They use \"pester power\" to get their parents to stump up nearly a third of this income, the report said. As for how they spend their cash, the bulk goes on personal care, soft drinks and food, Datamonitor said.\n",
      "\n",
      "Datamonitor adds that British teenagers are keen on personal care because it helps them combine two seemingly contradictory emotional needs - the desire to fit in and the desire to express their individuality.\n",
      "\n",
      "British teenage girls, compared to their counterparts in seven European countries, are the most keen to use make-up products. Nearly three out of four girls said they used make-up. According to the Datamonitor report the trend marked British teenagers out as \"particularly important to cosmetics manufacturers as they are likely to experiment more with brands and products and form long-term beauty routines\". And the good times are likely to keep rolling for British children, as the report predicts that they will still be topping the earnings table in 2008.\n"
     ]
    }
   ],
   "source": [
    "print(doc)"
   ]
  },
  {
   "cell_type": "code",
   "execution_count": 9,
   "metadata": {},
   "outputs": [
    {
     "name": "stderr",
     "output_type": "stream",
     "text": [
      "No model was supplied, defaulted to distilroberta-base and revision ec58a5b (https://huggingface.co/distilroberta-base).\n",
      "Using a pipeline without specifying a model name and revision in production is not recommended.\n"
     ]
    }
   ],
   "source": [
    "# use the pipeline\n",
    "mlm = pipeline('fill-mask')"
   ]
  },
  {
   "cell_type": "code",
   "execution_count": 17,
   "metadata": {},
   "outputs": [
    {
     "name": "stdout",
     "output_type": "stream",
     "text": [
      "[{'score': 0.9955180287361145,\n",
      "  'sequence': 'Children in the UK between the ages of 10 and 17 had an annual '\n",
      "              'income of £775, said market analyst Datamonitor.',\n",
      "  'token': 4864,\n",
      "  'token_str': ' ages'},\n",
      " {'score': 0.004034961573779583,\n",
      "  'sequence': 'Children in the UK between the age of 10 and 17 had an annual '\n",
      "              'income of £775, said market analyst Datamonitor.',\n",
      "  'token': 1046,\n",
      "  'token_str': ' age'},\n",
      " {'score': 0.00022817989520262927,\n",
      "  'sequence': 'Children in the UK between the years of 10 and 17 had an annual '\n",
      "              'income of £775, said market analyst Datamonitor.',\n",
      "  'token': 107,\n",
      "  'token_str': ' years'},\n",
      " {'score': 0.00020057418441865593,\n",
      "  'sequence': 'Children in the UK between the aged of 10 and 17 had an annual '\n",
      "              'income of £775, said market analyst Datamonitor.',\n",
      "  'token': 5180,\n",
      "  'token_str': ' aged'},\n",
      " {'score': 3.930165348720038e-06,\n",
      "  'sequence': 'Children in the UK between the months of 10 and 17 had an '\n",
      "              'annual income of £775, said market analyst Datamonitor.',\n",
      "  'token': 377,\n",
      "  'token_str': ' months'}]\n"
     ]
    }
   ],
   "source": [
    "# try random sentences with a mask\n",
    "text = 'Children in the UK between the <mask> of 10 and 17 had an annual income of £775, said market analyst Datamonitor.'\n",
    "pprint(mlm(text))"
   ]
  },
  {
   "cell_type": "code",
   "execution_count": 18,
   "metadata": {},
   "outputs": [
    {
     "name": "stdout",
     "output_type": "stream",
     "text": [
      "[{'score': 0.8782907724380493,\n",
      "  'sequence': 'British teenage girls, compared to their counterparts in seven '\n",
      "              'European countries, are the most keen to use make-up products.',\n",
      "  'token': 1118,\n",
      "  'token_str': ' compared'},\n",
      " {'score': 0.03993658721446991,\n",
      "  'sequence': 'British teenage girls, relative to their counterparts in seven '\n",
      "              'European countries, are the most keen to use make-up products.',\n",
      "  'token': 5407,\n",
      "  'token_str': ' relative'},\n",
      " {'score': 0.03592807054519653,\n",
      "  'sequence': 'British teenage girls, similar to their counterparts in seven '\n",
      "              'European countries, are the most keen to use make-up products.',\n",
      "  'token': 1122,\n",
      "  'token_str': ' similar'},\n",
      " {'score': 0.010741285048425198,\n",
      "  'sequence': 'British teenage girls, according to their counterparts in seven '\n",
      "              'European countries, are the most keen to use make-up products.',\n",
      "  'token': 309,\n",
      "  'token_str': ' according'},\n",
      " {'score': 0.006287650670856237,\n",
      "  'sequence': 'British teenage girls, comparable to their counterparts in '\n",
      "              'seven European countries, are the most keen to use make-up '\n",
      "              'products.',\n",
      "  'token': 10451,\n",
      "  'token_str': ' comparable'}]\n"
     ]
    }
   ],
   "source": [
    "text = 'British teenage girls, <mask> to their counterparts in seven European countries, are the most keen to use make-up products.'\n",
    "pprint(mlm(text))"
   ]
  },
  {
   "cell_type": "code",
   "execution_count": null,
   "metadata": {},
   "outputs": [],
   "source": []
  }
 ],
 "metadata": {
  "kernelspec": {
   "display_name": "Python 3",
   "language": "python",
   "name": "python3"
  },
  "language_info": {
   "codemirror_mode": {
    "name": "ipython",
    "version": 3
   },
   "file_extension": ".py",
   "mimetype": "text/x-python",
   "name": "python",
   "nbconvert_exporter": "python",
   "pygments_lexer": "ipython3",
   "version": "3.7.6"
  }
 },
 "nbformat": 4,
 "nbformat_minor": 4
}

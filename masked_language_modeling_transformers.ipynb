{
 "cells": [
  {
   "cell_type": "markdown",
   "metadata": {},
   "source": [
    "The task is to explore masked language modeling in Transformers"
   ]
  },
  {
   "cell_type": "code",
   "execution_count": 15,
   "metadata": {},
   "outputs": [],
   "source": [
    "import numpy as np\n",
    "import pandas as pd\n",
    "\n",
    "from pprint import pprint\n",
    "from transformers import pipeline"
   ]
  },
  {
   "cell_type": "code",
   "execution_count": 16,
   "metadata": {},
   "outputs": [
    {
     "name": "stdout",
     "output_type": "stream",
     "text": [
      "File ‘bbc_text_cls.csv’ already there; not retrieving.\r\n",
      "\r\n"
     ]
    }
   ],
   "source": [
    "# download BBC text classification dataset\n",
    "# original dataset on Kaggle: https://www.kaggle.com/datasets/shivamkushwaha/bbc-full-text-document-classification)\n",
    "!wget -nc https://lazyprogrammer.me/course_files/nlp/bbc_text_cls.csv"
   ]
  },
  {
   "cell_type": "code",
   "execution_count": 17,
   "metadata": {},
   "outputs": [],
   "source": [
    "# save the dataset in Pandas dataframe\n",
    "df = pd.read_csv('bbc_text_cls.csv')"
   ]
  },
  {
   "cell_type": "code",
   "execution_count": 18,
   "metadata": {},
   "outputs": [
    {
     "data": {
      "text/html": [
       "<div>\n",
       "<style scoped>\n",
       "    .dataframe tbody tr th:only-of-type {\n",
       "        vertical-align: middle;\n",
       "    }\n",
       "\n",
       "    .dataframe tbody tr th {\n",
       "        vertical-align: top;\n",
       "    }\n",
       "\n",
       "    .dataframe thead th {\n",
       "        text-align: right;\n",
       "    }\n",
       "</style>\n",
       "<table border=\"1\" class=\"dataframe\">\n",
       "  <thead>\n",
       "    <tr style=\"text-align: right;\">\n",
       "      <th></th>\n",
       "      <th>text</th>\n",
       "      <th>labels</th>\n",
       "    </tr>\n",
       "  </thead>\n",
       "  <tbody>\n",
       "    <tr>\n",
       "      <th>0</th>\n",
       "      <td>Ad sales boost Time Warner profit\\n\\nQuarterly...</td>\n",
       "      <td>business</td>\n",
       "    </tr>\n",
       "    <tr>\n",
       "      <th>1</th>\n",
       "      <td>Dollar gains on Greenspan speech\\n\\nThe dollar...</td>\n",
       "      <td>business</td>\n",
       "    </tr>\n",
       "    <tr>\n",
       "      <th>2</th>\n",
       "      <td>Yukos unit buyer faces loan claim\\n\\nThe owner...</td>\n",
       "      <td>business</td>\n",
       "    </tr>\n",
       "    <tr>\n",
       "      <th>3</th>\n",
       "      <td>High fuel prices hit BA's profits\\n\\nBritish A...</td>\n",
       "      <td>business</td>\n",
       "    </tr>\n",
       "    <tr>\n",
       "      <th>4</th>\n",
       "      <td>Pernod takeover talk lifts Domecq\\n\\nShares in...</td>\n",
       "      <td>business</td>\n",
       "    </tr>\n",
       "  </tbody>\n",
       "</table>\n",
       "</div>"
      ],
      "text/plain": [
       "                                                text    labels\n",
       "0  Ad sales boost Time Warner profit\\n\\nQuarterly...  business\n",
       "1  Dollar gains on Greenspan speech\\n\\nThe dollar...  business\n",
       "2  Yukos unit buyer faces loan claim\\n\\nThe owner...  business\n",
       "3  High fuel prices hit BA's profits\\n\\nBritish A...  business\n",
       "4  Pernod takeover talk lifts Domecq\\n\\nShares in...  business"
      ]
     },
     "execution_count": 18,
     "metadata": {},
     "output_type": "execute_result"
    }
   ],
   "source": [
    "# check the dataset\n",
    "df.head()"
   ]
  },
  {
   "cell_type": "code",
   "execution_count": 19,
   "metadata": {},
   "outputs": [
    {
     "data": {
      "text/plain": [
       "array(['business', 'entertainment', 'politics', 'sport', 'tech'],\n",
       "      dtype=object)"
      ]
     },
     "execution_count": 19,
     "metadata": {},
     "output_type": "execute_result"
    }
   ],
   "source": [
    "# check labels\n",
    "df['labels'].unique()"
   ]
  },
  {
   "cell_type": "code",
   "execution_count": 20,
   "metadata": {},
   "outputs": [],
   "source": [
    "# select business texts\n",
    "business_texts = df[df['labels'] == 'business']['text']"
   ]
  },
  {
   "cell_type": "code",
   "execution_count": 21,
   "metadata": {},
   "outputs": [],
   "source": [
    "# select a random text\n",
    "np.random.seed(42)\n",
    "i = np.random.choice(business_texts.shape[0])\n",
    "doc = business_texts.iloc[i]"
   ]
  },
  {
   "cell_type": "code",
   "execution_count": 22,
   "metadata": {},
   "outputs": [
    {
     "name": "stdout",
     "output_type": "stream",
     "text": [
      "US insurer Marsh cuts 2,500 jobs\n",
      "\n",
      "Up to 2,500 jobs are to go at US insurance broker Marsh & McLennan in a shake up following bigger-than-expected losses.\n",
      "\n",
      "The insurer said the cuts were part of a cost-cutting drive, aimed at saving millions of dollars. Marsh posted a $676m (£352m) loss for the last three months of 2004, against a $375m (£195.3m) profit a year before. It blamed an $850m payout to settle a price-rigging lawsuit, brought by New York attorney general Elliot Spitzer. Under the settlement announced in January, Marsh took a pre-tax charge of $618m in the October-to-December quarter, on top of the $232m charge from the previous quarter. \"Clearly 2004 was the most difficult year in MMC's financial history,\" Marsh chief executive Michael Cherkasky said.\n",
      "\n",
      "An ongoing restructuring drive at the group also led to a $337m hit in the fourth quarter, the world's biggest insurer said.\n",
      "\n",
      "Analysts expect its latest round of cuts to focus on its brokerage unit, which employs 40,000 staff. The latest layoffs will take the total number of jobs to go at the firm to 5,500 and are expected to lead to annual savings of more than $375m. As part of its efforts to cut costs, the company said it was halving its dividend payment to 17 cents a shares from 34 cents, a move which should enable it to save $360m. Looking ahead, Mr Cherkasky forecast profitable growth for the year ahead \"with an operating margin in the upper-teens, and with the opportunity for further margin expansion\". Meanwhile, the company also announced it would spin-off its MMC Capital private equity unit, which manages the $3bn Trident Funds operation, to a group of employees. Marsh did not say when the move would take place, but said it had signed a letter of intent.\n",
      "\n",
      "The insurer hit the headlines in October last year when it faced accusations of price rigging. New York Attorney General Elliot Spitzer sued the company, accusing it of receiving illegal payments to steer clients to selected firms as well as rigging bids and fixing prices. In January, Marsh agreed to pay $850m to settle the suit - a figure in line with the placement fees it collected in 2003 - and agreed to change its business practices. In February, a former senior executive pleaded guilty to criminal charges in a wide-ranging probe of fraud and bid-rigging in the insurance industry. In January, a former senior vice president also pleaded guilty to criminal charges related to the investigation. In an effort to reform its business practises, Marsh said it has already introduced new leadership, new compliance procedures and new ways of dealing with customers. \"As a result, we are ready to put these matters behind us and move ahead in 2005 to restore the trust our clients have placed in us and to rebuild shareholder value,\" Mr Cherkasky said.\n"
     ]
    }
   ],
   "source": [
    "print(doc)"
   ]
  },
  {
   "cell_type": "code",
   "execution_count": 23,
   "metadata": {},
   "outputs": [
    {
     "name": "stderr",
     "output_type": "stream",
     "text": [
      "No model was supplied, defaulted to distilroberta-base and revision ec58a5b (https://huggingface.co/distilroberta-base).\n",
      "Using a pipeline without specifying a model name and revision in production is not recommended.\n"
     ]
    }
   ],
   "source": [
    "# use the pipeline\n",
    "mlm = pipeline('fill-mask')"
   ]
  },
  {
   "cell_type": "code",
   "execution_count": 27,
   "metadata": {},
   "outputs": [
    {
     "name": "stdout",
     "output_type": "stream",
     "text": [
      "[{'score': 0.18367719650268555,\n",
      "  'sequence': 'The insurer said the layoffs were part of a cost-cutting drive, '\n",
      "              'aimed at saving millions of dollars.',\n",
      "  'token': 22788,\n",
      "  'token_str': ' layoffs'},\n",
      " {'score': 0.13297876715660095,\n",
      "  'sequence': 'The insurer said the cuts were part of a cost-cutting drive, '\n",
      "              'aimed at saving millions of dollars.',\n",
      "  'token': 2599,\n",
      "  'token_str': ' cuts'},\n",
      " {'score': 0.10709443688392639,\n",
      "  'sequence': 'The insurer said the reductions were part of a cost-cutting '\n",
      "              'drive, aimed at saving millions of dollars.',\n",
      "  'token': 14138,\n",
      "  'token_str': ' reductions'},\n",
      " {'score': 0.08525798469781876,\n",
      "  'sequence': 'The insurer said the changes were part of a cost-cutting drive, '\n",
      "              'aimed at saving millions of dollars.',\n",
      "  'token': 1022,\n",
      "  'token_str': ' changes'},\n",
      " {'score': 0.04716590419411659,\n",
      "  'sequence': 'The insurer said the moves were part of a cost-cutting drive, '\n",
      "              'aimed at saving millions of dollars.',\n",
      "  'token': 3136,\n",
      "  'token_str': ' moves'}]\n"
     ]
    }
   ],
   "source": [
    "# try random sentences with a mask\n",
    "text = 'The insurer said the cuts were part of a cost-cutting drive, aimed at saving millions of dollars.'\n",
    "text_masked = text.replace('cuts', '<mask>')\n",
    "pprint(mlm(text_masked))"
   ]
  },
  {
   "cell_type": "code",
   "execution_count": 26,
   "metadata": {},
   "outputs": [
    {
     "name": "stdout",
     "output_type": "stream",
     "text": [
      "[{'score': 0.9997223019599915,\n",
      "  'sequence': 'In January, a former senior vice president also pleaded guilty '\n",
      "              'to criminal charges related to the investigation.',\n",
      "  'token': 2181,\n",
      "  'token_str': ' guilty'},\n",
      " {'score': 6.685675907647237e-05,\n",
      "  'sequence': 'In January, a former senior vice president also pleaded contest '\n",
      "              'to criminal charges related to the investigation.',\n",
      "  'token': 3096,\n",
      "  'token_str': ' contest'},\n",
      " {'score': 5.803355816169642e-05,\n",
      "  'sequence': 'In January, a former senior vice president also pleaded up to '\n",
      "              'criminal charges related to the investigation.',\n",
      "  'token': 62,\n",
      "  'token_str': ' up'},\n",
      " {'score': 2.9516017093556002e-05,\n",
      "  'sequence': 'In January, a former senior vice president also pleaded '\n",
      "              'innocent to criminal charges related to the investigation.',\n",
      "  'token': 7850,\n",
      "  'token_str': ' innocent'},\n",
      " {'score': 2.9337308660615236e-05,\n",
      "  'sequence': 'In January, a former senior vice president also pleaded not to '\n",
      "              'criminal charges related to the investigation.',\n",
      "  'token': 45,\n",
      "  'token_str': ' not'}]\n"
     ]
    }
   ],
   "source": [
    "text = 'In January, a former senior vice president also pleaded guilty to criminal charges related to the investigation.'\n",
    "text_masked = text.replace('guilty', '<mask>')\n",
    "pprint(mlm(text_masked))"
   ]
  },
  {
   "cell_type": "code",
   "execution_count": null,
   "metadata": {},
   "outputs": [],
   "source": []
  }
 ],
 "metadata": {
  "kernelspec": {
   "display_name": "Python 3",
   "language": "python",
   "name": "python3"
  },
  "language_info": {
   "codemirror_mode": {
    "name": "ipython",
    "version": 3
   },
   "file_extension": ".py",
   "mimetype": "text/x-python",
   "name": "python",
   "nbconvert_exporter": "python",
   "pygments_lexer": "ipython3",
   "version": "3.7.6"
  }
 },
 "nbformat": 4,
 "nbformat_minor": 4
}

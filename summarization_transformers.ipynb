{
 "cells": [
  {
   "cell_type": "markdown",
   "metadata": {},
   "source": [
    "The task is to explore the summarization pipeline in Transformers."
   ]
  },
  {
   "cell_type": "code",
   "execution_count": 1,
   "metadata": {},
   "outputs": [],
   "source": [
    "import pandas as pd\n",
    "import numpy as np\n",
    "from transformers import pipeline"
   ]
  },
  {
   "cell_type": "code",
   "execution_count": 2,
   "metadata": {},
   "outputs": [
    {
     "name": "stdout",
     "output_type": "stream",
     "text": [
      "File ‘bbc_text_cls.csv’ already there; not retrieving.\r\n",
      "\r\n"
     ]
    }
   ],
   "source": [
    "# download BBC text classification dataset\n",
    "# original dataset on Kaggle: https://www.kaggle.com/datasets/shivamkushwaha/bbc-full-text-document-classification)\n",
    "!wget -nc https://lazyprogrammer.me/course_files/nlp/bbc_text_cls.csv"
   ]
  },
  {
   "cell_type": "code",
   "execution_count": 3,
   "metadata": {},
   "outputs": [],
   "source": [
    "# save the dataset in Pandas dataframe\n",
    "df = pd.read_csv('bbc_text_cls.csv')"
   ]
  },
  {
   "cell_type": "code",
   "execution_count": 4,
   "metadata": {},
   "outputs": [
    {
     "data": {
      "text/html": [
       "<div>\n",
       "<style scoped>\n",
       "    .dataframe tbody tr th:only-of-type {\n",
       "        vertical-align: middle;\n",
       "    }\n",
       "\n",
       "    .dataframe tbody tr th {\n",
       "        vertical-align: top;\n",
       "    }\n",
       "\n",
       "    .dataframe thead th {\n",
       "        text-align: right;\n",
       "    }\n",
       "</style>\n",
       "<table border=\"1\" class=\"dataframe\">\n",
       "  <thead>\n",
       "    <tr style=\"text-align: right;\">\n",
       "      <th></th>\n",
       "      <th>text</th>\n",
       "      <th>labels</th>\n",
       "    </tr>\n",
       "  </thead>\n",
       "  <tbody>\n",
       "    <tr>\n",
       "      <th>0</th>\n",
       "      <td>Ad sales boost Time Warner profit\\n\\nQuarterly...</td>\n",
       "      <td>business</td>\n",
       "    </tr>\n",
       "    <tr>\n",
       "      <th>1</th>\n",
       "      <td>Dollar gains on Greenspan speech\\n\\nThe dollar...</td>\n",
       "      <td>business</td>\n",
       "    </tr>\n",
       "    <tr>\n",
       "      <th>2</th>\n",
       "      <td>Yukos unit buyer faces loan claim\\n\\nThe owner...</td>\n",
       "      <td>business</td>\n",
       "    </tr>\n",
       "    <tr>\n",
       "      <th>3</th>\n",
       "      <td>High fuel prices hit BA's profits\\n\\nBritish A...</td>\n",
       "      <td>business</td>\n",
       "    </tr>\n",
       "    <tr>\n",
       "      <th>4</th>\n",
       "      <td>Pernod takeover talk lifts Domecq\\n\\nShares in...</td>\n",
       "      <td>business</td>\n",
       "    </tr>\n",
       "  </tbody>\n",
       "</table>\n",
       "</div>"
      ],
      "text/plain": [
       "                                                text    labels\n",
       "0  Ad sales boost Time Warner profit\\n\\nQuarterly...  business\n",
       "1  Dollar gains on Greenspan speech\\n\\nThe dollar...  business\n",
       "2  Yukos unit buyer faces loan claim\\n\\nThe owner...  business\n",
       "3  High fuel prices hit BA's profits\\n\\nBritish A...  business\n",
       "4  Pernod takeover talk lifts Domecq\\n\\nShares in...  business"
      ]
     },
     "execution_count": 4,
     "metadata": {},
     "output_type": "execute_result"
    }
   ],
   "source": [
    "# check the dataset\n",
    "df.head()"
   ]
  },
  {
   "cell_type": "code",
   "execution_count": 5,
   "metadata": {},
   "outputs": [
    {
     "data": {
      "text/plain": [
       "array(['business', 'entertainment', 'politics', 'sport', 'tech'],\n",
       "      dtype=object)"
      ]
     },
     "execution_count": 5,
     "metadata": {},
     "output_type": "execute_result"
    }
   ],
   "source": [
    "# check the labels\n",
    "df.labels.unique()"
   ]
  },
  {
   "cell_type": "code",
   "execution_count": 6,
   "metadata": {},
   "outputs": [],
   "source": [
    "# get a random business text\n",
    "business_doc = df[df.labels == 'business']['text'].sample()"
   ]
  },
  {
   "cell_type": "code",
   "execution_count": 7,
   "metadata": {},
   "outputs": [
    {
     "name": "stdout",
     "output_type": "stream",
     "text": [
      "Japan bank shares up on link talk\n",
      "\n",
      "Shares of Sumitomo Mitsui Financial (SMFG), and Daiwa Securities jumped amid speculation that two of Japan's biggest financial companies will merge.\n",
      "\n",
      "Financial newspaper Nihon Keizai Shimbun claimed that the firms will join up next year and already have held discussions with Japanese regulators. The firms denied that they are about to link up, but said they are examining ways of working more closely together. SMFG shares climbed by 2.7% to 717,000, and Daiwa added 5.3% to 740 yen.\n",
      "\n",
      "Combining SMFG, Japan's third-biggest lender, and Daiwa, the country's second-largest brokerage firm, would create a company with assets of more than $1,000bn (£537bn). SMFG President Yoshifumi Nishikawa said that the companies needed to bolster their businesses. \"Both companies need to strengthen retail and other operations,\" he said, adding that \"it's an issue we have in common\". Daiwa said that \"although it is true that the two groups have been engaging in various discussions to enhance cooperation, there are no plans to enter into negotiations to consolidate the two businesses\". Analysts said that consolidation in Japan's financial sector was likely to continue and that it was likely to have a positive impact on earnings. \"Cross-selling opportunities between banks and brokers are increasing thanks to deregulation, so we can expect the relationship to get even stronger,\" said Heronry Nozaki, an analyst at NikkoCitigroup. The merger \"would be a good move,\" he added.\n"
     ]
    }
   ],
   "source": [
    "print(business_doc.iloc[0])"
   ]
  },
  {
   "cell_type": "code",
   "execution_count": 8,
   "metadata": {},
   "outputs": [
    {
     "name": "stderr",
     "output_type": "stream",
     "text": [
      "No model was supplied, defaulted to sshleifer/distilbart-cnn-12-6 and revision a4f8f3e (https://huggingface.co/sshleifer/distilbart-cnn-12-6).\n",
      "Using a pipeline without specifying a model name and revision in production is not recommended.\n"
     ]
    }
   ],
   "source": [
    "# load the pipeline\n",
    "summarizer = pipeline('summarization')"
   ]
  },
  {
   "cell_type": "code",
   "execution_count": 9,
   "metadata": {},
   "outputs": [],
   "source": [
    "# create a function to get a text summary\n",
    "def summarize(doc):\n",
    "    result = summarizer(doc.iloc[0].split('\\n', 1)[1])\n",
    "    return result[0]['summary_text']"
   ]
  },
  {
   "cell_type": "code",
   "execution_count": 10,
   "metadata": {},
   "outputs": [
    {
     "name": "stdout",
     "output_type": "stream",
     "text": [
      " Sumitomo Mitsui Financial (SMFG), and Daiwa Securities (Daiwa Securities) deny that they are about to link up . SMFG shares climbed by 2.7% to 717,000, while Daiwa added 5.3% . Combining SMFG would create a company with assets of more than $1,000bn (£537bn)\n"
     ]
    }
   ],
   "source": [
    "print(summarize(business_doc))"
   ]
  },
  {
   "cell_type": "code",
   "execution_count": 11,
   "metadata": {},
   "outputs": [
    {
     "name": "stdout",
     "output_type": "stream",
     "text": [
      "Original text:\n",
      "Shark Tale DVD is US best-seller\n",
      "\n",
      "Oscar-nominated animation Shark Tale has raked in $80m (£42.4m) in the first week of its US DVD release becoming the year's best-selling home video so far.\n",
      "\n",
      "The tally for its DVD and video sales soared past the film's opening week US box office takings of $56m (£29.7m). Shark Tale is now the sixth-highest earning DVD for first week sales. The all-time first-week record is held by 1995's Lion King followed by Shrek 2, Finding Nemo, the original Shrek, and Monster's Inc.\n",
      "\n",
      "Shark Tale, whose voice cast includes Will Smith, Robert De Niro, Renee Zellweger and Martin Scorsese, sold more than 6 million DVDs and videos across the United States and Canada. It becomes the highest first-week earner for February, outshining My Big Fat Greek Wedding which sold four million units in 2003. Films which are expected to earn strong home video returns are usually timed for release in the busiest retail season which falls before Christmas. The best-selling home video of last year was the Dreamworks hit Shrek 2, which took an estimated $458 m (£242.7m) in North America alone.\n",
      "\n",
      "\n",
      "Summary:\n",
      " Oscar-nominated animation raked in $80m (£42.4m) in first week of its US DVD release . It is now the sixth-highest earning DVD for first week sales . The all-time first-week record is held by 1995's Lion King followed by Shrek 2, Finding Nemo, the original Shrek, and Monster's Inc.\n"
     ]
    }
   ],
   "source": [
    "# print out random texts of each topic and their summaries\n",
    "entertainment_doc = df[df.labels == 'entertainment']['text'].sample()\n",
    "print('Original text:', entertainment_doc.iloc[0], '\\n', sep='\\n')\n",
    "print('Summary:', summarize(entertainment_doc), sep='\\n')"
   ]
  },
  {
   "cell_type": "code",
   "execution_count": 12,
   "metadata": {},
   "outputs": [
    {
     "name": "stdout",
     "output_type": "stream",
     "text": [
      "Original text:\n",
      "Cabinet anger at Brown cash raid\n",
      "\n",
      "Ministers are unhappy about plans to use Whitehall cash to keep council tax bills down, local government minister Nick Raynsford has acknowledged.\n",
      "\n",
      "Gordon Brown reallocated £512m from central to local government budgets in his pre-Budget report on Thursday. Mr Raynsford said he had held some \"pretty frank discussions\" with fellow ministers over the plans. But he said local governments had to deliver good services without big council tax rises.\n",
      "\n",
      "The central government cash is part of a £1bn package to help local authorities in England keep next year's council tax rises below 5%, in what is likely to be a general election year.\n",
      "\n",
      "Mr Raynsford said nearly all central government departments had an interest in well run local authorities. And he confirmed rows over the issue with ministerial colleagues. \"Obviously we had some pretty frank discussions about this,\" he told BBC Radio 4's The World at One. But he said there was a recognition that \"a good settlement for local government\" was important to health, education and \"other government departments\". Ministers had to be sure local government could deliver without \"unreasonable council tax increases\", he added. Mr Raynsford dismissed a suggestion the move was designed to keep council taxes down ahead of an expected general election.\n",
      "\n",
      "\"This is a response to the concerns that have been voiced by local government about the pressures they face.\" Mr Raynsford also plans to make savings of £100m by making changes to local government pensions schemes. These would raise the age from which retiring workers could claim their pensions and limit how much they received if they retired early. He insisted the changes were \"very modest\" and designed to tackle the problem of workers retiring \"very early\". But general secretary of the public services union Unison Dave Prentis criticised the plans. \"If you want world class public services you don't get that by hitting people as they approach retirement.\"\n",
      "\n",
      "\n",
      "Summary:\n",
      " Gordon Brown reallocated £512m from central to local government budgets . The move is part of a £1bn package to help keep council tax rises below 5% . Ministers had to be sure local government could deliver good services without big rises . But general secretary of the public sector said the move was a response to concerns .\n"
     ]
    }
   ],
   "source": [
    "politics_doc = df[df.labels == 'politics']['text'].sample()\n",
    "print('Original text:', politics_doc.iloc[0], '\\n', sep='\\n')\n",
    "print('Summary:', summarize(politics_doc), sep='\\n')"
   ]
  },
  {
   "cell_type": "code",
   "execution_count": 13,
   "metadata": {},
   "outputs": [
    {
     "name": "stdout",
     "output_type": "stream",
     "text": [
      "Original text:\n",
      "Bosvelt optimistic over new deal\n",
      "\n",
      "Manchester City's Paul Bosvelt will find out \"within a month\" whether he is to be offered a new one-year deal.\n",
      "\n",
      "The 34-year-old Dutch midfielder is out of contract in the summer and, although his age may count against him, he feels he can play on for another season. \"I told the club I would like to stay for one more year. They promised me an answer within the next month so I am waiting to see,\" he said. \"The main concern is my age but I think I have proved I am fit enough. Bosvelt joined City from Feyenoord in 2003 and at first he struggled to adapt to life in England. But his professionalism and dedication impressed manager Kevin Keegan. \"He realised the pace of the game was faster than anything he was used to but he drove himself back into the team. He is an unsung hero,\" said Keegan.\n",
      "\n",
      "\n",
      "Summary:\n",
      " Manchester City midfielder Paul Bosvelt is out of contract in the summer . The 34-year-old Dutch midfielder feels he can play on for another season . Bosvelt joined City from Feyenoord in 2003 and at first struggled to adapt to life in England . Kevin Keegan has described Bosvelt as 'an unsung hero'\n"
     ]
    }
   ],
   "source": [
    "sport_doc = df[df.labels == 'sport']['text'].sample()\n",
    "print('Original text:', sport_doc.iloc[0], '\\n', sep='\\n')\n",
    "print('Summary:', summarize(sport_doc), sep='\\n')"
   ]
  },
  {
   "cell_type": "code",
   "execution_count": 14,
   "metadata": {},
   "outputs": [
    {
     "name": "stdout",
     "output_type": "stream",
     "text": [
      "Original text:\n",
      "EA to take on film and TV giants\n",
      "\n",
      "Video game giant Electronic Arts (EA) says it wants to become the biggest entertainment firm in the world.\n",
      "\n",
      "The US firm says it wants to compete with companies such as Disney and will only achieve this by making games appeal to mainstream audiences. EA publishes blockbuster titles such as Fifa and John Madden, as well as video game versions of movies such as Harry Potter and the James Bond films. Its revenues were $3bn (£1.65bn) in 2004, which EA hoped to double by 2009. EA is the biggest games publisher in the world and in 2004 had 27 titles which sold in excess of one million copies each. Nine of the 20 biggest-selling games in the UK last year were published by EA.\n",
      "\n",
      "Gerhard Florin, EA's managing director for European publishing, said: \"Doubling our industry in five years is not rocket science.\" He said it would take many years before EA could challenge Disney - which in 2004 reported revenues of $30bn (£16bn) - but it remained a goal for the company. \"We will be able to bring more people into gaming because games will be more emotional.\" Mr Florin predicted that the next round of games console would give developers enough power to create real emotion.\n",
      "\n",
      "\"It's the subtleties, the eyes, the mouth - 5,000 polygons doesn't really sell the emotion.\n",
      "\n",
      "\"With PS3 and Xbox 2, we can go on the main character with 30,000 to 50,000 polygons,\" he said. \"With that increased firepower, the Finding Nemo video game looks just like the movie, but it will be interactive.\" Mr Florin said that more than 50% of all EA's games were sold to adults and played by adults, but the perception remained that the video game industry was for children. \"Our goal is to bring games to the masses which bring out emotions.\" EA said the video game industry was now bigger than the music industry. \"Nobody queues for music anymore.\"\n",
      "\n",
      "\"You can't ignore an industry when people queue to buy a game at midnight because they are so desperate to play it,\" he said, referring to demand for titles for such as Grand Theft Auto: San Andreas and Halo 2.\n",
      "\n",
      "Jan Bolz, EA's vice president of sales and marketing in Europe, said the firm was working to give video games a more central role in popular culture. He said the company was in advanced stages of discussions over a reality TV show in which viewers could control the actions of the characters as in its popular game The Sims. \"One idea could be that you're controlling a family, telling them when to go to the kitchen and when to go to the bedroom, and with this mechanism you have gamers all over the world 'playing the show',\" said Mr Bolz.\n",
      "\n",
      "He also said EA was planning an international awards show \"similar to the Oscars and the Grammys\" which would combine video games, music and movies. Mr Bolz said video games firm had to work more closely with celebrities. \"People will want to play video games if their heroes like Robbie Williams or Christina Aguilera are in them.\" Mr Florin said the challenge was to keep people playing in their 30s, 40s and 50s. \"There's an indication that a 30 year old comes home from work and still wants to play games. \"If that's true, that's a big challenge for TV broadcasters - because watching TV is the biggest pastime at present.\"\n",
      "\n",
      "\n",
      "Summary:\n",
      " EA publishes blockbuster titles such as Fifa and John Madden . Its revenues were $3bn (£1.65bn) in 2004, which EA hoped to double by 2009 . EA is the biggest games publisher in the world and in 2004 had 27 titles which sold in excess of one million copies each .\n"
     ]
    }
   ],
   "source": [
    "tech_doc = df[df.labels == 'tech']['text'].sample()\n",
    "print('Original text:', tech_doc.iloc[0], '\\n', sep='\\n')\n",
    "print('Summary:', summarize(tech_doc), sep='\\n')"
   ]
  },
  {
   "cell_type": "code",
   "execution_count": null,
   "metadata": {},
   "outputs": [],
   "source": []
  }
 ],
 "metadata": {
  "kernelspec": {
   "display_name": "Python 3",
   "language": "python",
   "name": "python3"
  },
  "language_info": {
   "codemirror_mode": {
    "name": "ipython",
    "version": 3
   },
   "file_extension": ".py",
   "mimetype": "text/x-python",
   "name": "python",
   "nbconvert_exporter": "python",
   "pygments_lexer": "ipython3",
   "version": "3.7.6"
  }
 },
 "nbformat": 4,
 "nbformat_minor": 4
}

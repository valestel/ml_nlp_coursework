{
 "cells": [
  {
   "cell_type": "markdown",
   "metadata": {},
   "source": [
    "The task is to explore zero shot classification in Transformers."
   ]
  },
  {
   "cell_type": "code",
   "execution_count": 1,
   "metadata": {},
   "outputs": [],
   "source": [
    "import pandas as pd\n",
    "import numpy as np\n",
    "from transformers import pipeline\n",
    "from sklearn.metrics import confusion_matrix, ConfusionMatrixDisplay, roc_auc_score, f1_score"
   ]
  },
  {
   "cell_type": "code",
   "execution_count": 2,
   "metadata": {},
   "outputs": [
    {
     "name": "stderr",
     "output_type": "stream",
     "text": [
      "No model was supplied, defaulted to facebook/bart-large-mnli and revision c626438 (https://huggingface.co/facebook/bart-large-mnli).\n",
      "Using a pipeline without specifying a model name and revision in production is not recommended.\n"
     ]
    }
   ],
   "source": [
    "# load the pipeline\n",
    "classifier = pipeline('zero-shot-classification')"
   ]
  },
  {
   "cell_type": "code",
   "execution_count": 3,
   "metadata": {},
   "outputs": [
    {
     "data": {
      "text/plain": [
       "{'sequence': 'Most neurons receive signals via the dendrites and soma and send out signals down the axon. At the majority of synapses, signals cross from the axon of one neuron to a dendrite of another. However, synapses can connect an axon to another axon or a dendrite to another dendrite.',\n",
       " 'labels': ['biology', 'technology', 'physics'],\n",
       " 'scores': [0.6764624714851379, 0.2059495449066162, 0.11758799105882645]}"
      ]
     },
     "execution_count": 3,
     "metadata": {},
     "output_type": "execute_result"
    }
   ],
   "source": [
    "# a text from Wikipedia article: https://en.wikipedia.org/wiki/Neuron\n",
    "text = 'Most neurons receive signals via the dendrites and soma and send out signals down the axon. ' + \\\n",
    "'At the majority of synapses, signals cross from the axon of one neuron to a dendrite of another. ' + \\\n",
    "'However, synapses can connect an axon to another axon or a dendrite to another dendrite.'\n",
    "classifier(text, candidate_labels = ['physics', 'technology', 'biology'])"
   ]
  },
  {
   "cell_type": "code",
   "execution_count": 4,
   "metadata": {},
   "outputs": [
    {
     "name": "stdout",
     "output_type": "stream",
     "text": [
      "File ‘bbc_text_cls.csv’ already there; not retrieving.\r\n",
      "\r\n"
     ]
    }
   ],
   "source": [
    "# download BBC text classification dataset\n",
    "# original dataset on Kaggle: https://www.kaggle.com/datasets/shivamkushwaha/bbc-full-text-document-classification)\n",
    "!wget -nc https://lazyprogrammer.me/course_files/nlp/bbc_text_cls.csv"
   ]
  },
  {
   "cell_type": "code",
   "execution_count": 5,
   "metadata": {},
   "outputs": [],
   "source": [
    "# save the dataset in Pandas dataframe\n",
    "df = pd.read_csv('bbc_text_cls.csv')"
   ]
  },
  {
   "cell_type": "code",
   "execution_count": 6,
   "metadata": {},
   "outputs": [
    {
     "data": {
      "text/html": [
       "<div>\n",
       "<style scoped>\n",
       "    .dataframe tbody tr th:only-of-type {\n",
       "        vertical-align: middle;\n",
       "    }\n",
       "\n",
       "    .dataframe tbody tr th {\n",
       "        vertical-align: top;\n",
       "    }\n",
       "\n",
       "    .dataframe thead th {\n",
       "        text-align: right;\n",
       "    }\n",
       "</style>\n",
       "<table border=\"1\" class=\"dataframe\">\n",
       "  <thead>\n",
       "    <tr style=\"text-align: right;\">\n",
       "      <th></th>\n",
       "      <th>text</th>\n",
       "      <th>labels</th>\n",
       "    </tr>\n",
       "  </thead>\n",
       "  <tbody>\n",
       "    <tr>\n",
       "      <th>1135</th>\n",
       "      <td>Sport betting rules in spotlight\\n\\nA group of...</td>\n",
       "      <td>politics</td>\n",
       "    </tr>\n",
       "    <tr>\n",
       "      <th>669</th>\n",
       "      <td>iTunes now selling Band Aid song\\n\\nIpod owner...</td>\n",
       "      <td>entertainment</td>\n",
       "    </tr>\n",
       "    <tr>\n",
       "      <th>2208</th>\n",
       "      <td>Beckham virus spotted on the net\\n\\nVirus writ...</td>\n",
       "      <td>tech</td>\n",
       "    </tr>\n",
       "    <tr>\n",
       "      <th>561</th>\n",
       "      <td>Spike Lee backs student directors\\n\\nFilm-make...</td>\n",
       "      <td>entertainment</td>\n",
       "    </tr>\n",
       "    <tr>\n",
       "      <th>1592</th>\n",
       "      <td>Mourinho takes swipe at Arsenal\\n\\nChelsea bos...</td>\n",
       "      <td>sport</td>\n",
       "    </tr>\n",
       "  </tbody>\n",
       "</table>\n",
       "</div>"
      ],
      "text/plain": [
       "                                                   text         labels\n",
       "1135  Sport betting rules in spotlight\\n\\nA group of...       politics\n",
       "669   iTunes now selling Band Aid song\\n\\nIpod owner...  entertainment\n",
       "2208  Beckham virus spotted on the net\\n\\nVirus writ...           tech\n",
       "561   Spike Lee backs student directors\\n\\nFilm-make...  entertainment\n",
       "1592  Mourinho takes swipe at Arsenal\\n\\nChelsea bos...          sport"
      ]
     },
     "execution_count": 6,
     "metadata": {},
     "output_type": "execute_result"
    }
   ],
   "source": [
    "df.sample(frac=1).head()"
   ]
  },
  {
   "cell_type": "code",
   "execution_count": 7,
   "metadata": {},
   "outputs": [],
   "source": [
    "labels = df['labels'].unique()"
   ]
  },
  {
   "cell_type": "code",
   "execution_count": 8,
   "metadata": {},
   "outputs": [
    {
     "name": "stdout",
     "output_type": "stream",
     "text": [
      "Little Britain vies for TV trophy\n",
      "\n",
      "BBC hits Little Britain and Strictly Come Dancing are among numerous British shows nominated for the prestigious Golden Rose television awards.\n",
      "\n",
      "Homegrown reality programmes dominated that category, including Channel 4's Supernanny and ITV1's Hell's Kitchen. EastEnders and Coronation Street were overlooked in the soap category, but Doctors and Family Affairs gained nods. The festival, which honours the best TV from around the globe, will take place in Lucerne, Switzerland from 3-8 May.\n",
      "\n",
      "Little Britain, which is now in its second series, faces competition from BBC Two's The Catherine Tate Show and Sacha Baron Cohen's creations Borat and Bruno. In the separate sitcom category, dark comedy Nighty Night - which began life on BBC Three - will do battle with mainstream BBC One show My Family.\n",
      "\n",
      "BBC One's Strictly Come Dancing, which saw celebrities compete against each other to become champions of the dancefloor, is among five British nominations in the varirty category. Lenny Henry, who won a Golden Rose for his In Pieces series in 2001, picks up another nomination for his recent BBC show. British television music shows have picked up six nominations, with BBC Three's Flashmob - The Opera up against the UK Music Hall of Fame series, which was screened on Channel 4. British television has performed very well in the arts and specials category, gaining a total of 11 nominations. The BBC leads the way with its programmes on The Sound of Music, Agatha Christie and Rolf On Art - The Big Event - which saw Harris lead an effort to produce a life-size painting in London's Trafalgar Square.\n",
      "\n",
      "British shows - which picked up a total of 48 nominations - will have to overcome competition from a host of other countries, including the US, Canada, Japan and across Europe. UK nominee TV Diaries, which is shown around the world, is owned by a British company but has yet to be screened in this country. Previous UK winners have included Ant & Dec's Saturday Night Takeaway, Pop Idol, Channel 4 show Faking It and comedy duo French and Saunders, who became the first winners to receive and honorary Golden Rose. Individual performers will also be rewarded, with prizes for best comics, best sitcom actor and actress and best gameshow host. Last year actor Shane Richie won an award for his portrayal of Alfie Moon in EastEnders.\n"
     ]
    }
   ],
   "source": [
    "# get a sample text\n",
    "print(df.iloc[700]['text'])"
   ]
  },
  {
   "cell_type": "code",
   "execution_count": 9,
   "metadata": {},
   "outputs": [
    {
     "data": {
      "text/plain": [
       "'entertainment'"
      ]
     },
     "execution_count": 9,
     "metadata": {},
     "output_type": "execute_result"
    }
   ],
   "source": [
    "df.iloc[700]['labels']"
   ]
  },
  {
   "cell_type": "code",
   "execution_count": 10,
   "metadata": {},
   "outputs": [
    {
     "data": {
      "text/plain": [
       "{'sequence': \"Little Britain vies for TV trophy\\n\\nBBC hits Little Britain and Strictly Come Dancing are among numerous British shows nominated for the prestigious Golden Rose television awards.\\n\\nHomegrown reality programmes dominated that category, including Channel 4's Supernanny and ITV1's Hell's Kitchen. EastEnders and Coronation Street were overlooked in the soap category, but Doctors and Family Affairs gained nods. The festival, which honours the best TV from around the globe, will take place in Lucerne, Switzerland from 3-8 May.\\n\\nLittle Britain, which is now in its second series, faces competition from BBC Two's The Catherine Tate Show and Sacha Baron Cohen's creations Borat and Bruno. In the separate sitcom category, dark comedy Nighty Night - which began life on BBC Three - will do battle with mainstream BBC One show My Family.\\n\\nBBC One's Strictly Come Dancing, which saw celebrities compete against each other to become champions of the dancefloor, is among five British nominations in the varirty category. Lenny Henry, who won a Golden Rose for his In Pieces series in 2001, picks up another nomination for his recent BBC show. British television music shows have picked up six nominations, with BBC Three's Flashmob - The Opera up against the UK Music Hall of Fame series, which was screened on Channel 4. British television has performed very well in the arts and specials category, gaining a total of 11 nominations. The BBC leads the way with its programmes on The Sound of Music, Agatha Christie and Rolf On Art - The Big Event - which saw Harris lead an effort to produce a life-size painting in London's Trafalgar Square.\\n\\nBritish shows - which picked up a total of 48 nominations - will have to overcome competition from a host of other countries, including the US, Canada, Japan and across Europe. UK nominee TV Diaries, which is shown around the world, is owned by a British company but has yet to be screened in this country. Previous UK winners have included Ant & Dec's Saturday Night Takeaway, Pop Idol, Channel 4 show Faking It and comedy duo French and Saunders, who became the first winners to receive and honorary Golden Rose. Individual performers will also be rewarded, with prizes for best comics, best sitcom actor and actress and best gameshow host. Last year actor Shane Richie won an award for his portrayal of Alfie Moon in EastEnders.\",\n",
       " 'labels': ['entertainment', 'tech', 'business', 'sport', 'politics'],\n",
       " 'scores': [0.5533654689788818,\n",
       "  0.15044242143630981,\n",
       "  0.1400509625673294,\n",
       "  0.09256547689437866,\n",
       "  0.06357572972774506]}"
      ]
     },
     "execution_count": 10,
     "metadata": {},
     "output_type": "execute_result"
    }
   ],
   "source": [
    "# classify the text using the pipeline\n",
    "classifier(df.iloc[700]['text'], candidate_labels=labels)"
   ]
  },
  {
   "cell_type": "code",
   "execution_count": 11,
   "metadata": {},
   "outputs": [],
   "source": [
    "# calculate accuracy\n",
    "predictions = classifier(df['text'].tolist(), candidate_labels=labels)"
   ]
  },
  {
   "cell_type": "code",
   "execution_count": 12,
   "metadata": {},
   "outputs": [],
   "source": [
    "predicted_labels = [d['labels'][0] for d in predictions]"
   ]
  },
  {
   "cell_type": "code",
   "execution_count": 13,
   "metadata": {},
   "outputs": [],
   "source": [
    "df['predicted_labels'] = predicted_labels"
   ]
  },
  {
   "cell_type": "code",
   "execution_count": 14,
   "metadata": {},
   "outputs": [
    {
     "name": "stdout",
     "output_type": "stream",
     "text": [
      "Accuracy: 0.5649438202247191\n"
     ]
    }
   ],
   "source": [
    "print(\"Accuracy:\", np.mean(df['predicted_labels'] == df['labels']))"
   ]
  },
  {
   "cell_type": "code",
   "execution_count": 15,
   "metadata": {},
   "outputs": [],
   "source": [
    "N = len(df)\n",
    "K = len(labels)\n",
    "label2idx = {v:k for k, v in enumerate(labels)}\n",
    "\n",
    "probs = np.zeros((N, K))\n",
    "for i in range(N):\n",
    "    d = predictions[i]\n",
    "    for label, score in zip(d['labels'], d['scores']):\n",
    "        k = label2idx[label]\n",
    "        probs[i, k] = score"
   ]
  },
  {
   "cell_type": "code",
   "execution_count": 16,
   "metadata": {},
   "outputs": [],
   "source": [
    "int_labels = [label2idx[x] for x in df['labels']]"
   ]
  },
  {
   "cell_type": "code",
   "execution_count": 17,
   "metadata": {},
   "outputs": [],
   "source": [
    "# make a confusion matrix\n",
    "int_predictions = np.argmax(probs, axis=1)\n",
    "cm = confusion_matrix(int_labels, int_predictions, normalize='true')"
   ]
  },
  {
   "cell_type": "code",
   "execution_count": 18,
   "metadata": {},
   "outputs": [
    {
     "data": {
      "text/plain": [
       "<sklearn.metrics._plot.confusion_matrix.ConfusionMatrixDisplay at 0x7f943b6b8410>"
      ]
     },
     "execution_count": 18,
     "metadata": {},
     "output_type": "execute_result"
    },
    {
     "data": {
      "image/png": "[encoded data removed]",
      "text/plain": [
       "<Figure size 432x288 with 2 Axes>"
      ]
     },
     "metadata": {
      "needs_background": "light"
     },
     "output_type": "display_data"
    }
   ],
   "source": [
    "cm_plot = ConfusionMatrixDisplay(cm, display_labels=labels)\n",
    "cm_plot.plot()"
   ]
  },
  {
   "cell_type": "code",
   "execution_count": 19,
   "metadata": {},
   "outputs": [
    {
     "data": {
      "text/plain": [
       "0.5649438202247191"
      ]
     },
     "execution_count": 19,
     "metadata": {},
     "output_type": "execute_result"
    }
   ],
   "source": [
    "# calculate F1 score and AUC\n",
    "f1_score(df['labels'], predicted_labels, average='micro')"
   ]
  },
  {
   "cell_type": "code",
   "execution_count": 20,
   "metadata": {},
   "outputs": [
    {
     "data": {
      "text/plain": [
       "0.8853273055825154"
      ]
     },
     "execution_count": 20,
     "metadata": {},
     "output_type": "execute_result"
    }
   ],
   "source": [
    "roc_auc_score(int_labels, probs, multi_class='ovo')"
   ]
  },
  {
   "cell_type": "code",
   "execution_count": null,
   "metadata": {},
   "outputs": [],
   "source": []
  }
 ],
 "metadata": {
  "kernelspec": {
   "display_name": "Python 3",
   "language": "python",
   "name": "python3"
  },
  "language_info": {
   "codemirror_mode": {
    "name": "ipython",
    "version": 3
   },
   "file_extension": ".py",
   "mimetype": "text/x-python",
   "name": "python",
   "nbconvert_exporter": "python",
   "pygments_lexer": "ipython3",
   "version": "3.7.6"
  }
 },
 "nbformat": 4,
 "nbformat_minor": 4
}

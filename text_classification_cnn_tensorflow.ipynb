{
 "cells": [
  {
   "cell_type": "markdown",
   "metadata": {},
   "source": [
    "The task is to build a Convolutional Neural Network model for text classification in Tensorflow."
   ]
  },
  {
   "cell_type": "code",
   "execution_count": 1,
   "metadata": {},
   "outputs": [],
   "source": [
    "import numpy as np\n",
    "import pandas as pd\n",
    "import matplotlib.pyplot as plt\n",
    "import tensorflow as tf\n",
    "from sklearn.model_selection import train_test_split\n",
    "\n",
    "from tensorflow.keras.preprocessing.text import Tokenizer\n",
    "from tensorflow.keras.preprocessing.sequence import pad_sequences\n",
    "from tensorflow.keras.layers import Dense, Input, GlobalMaxPooling1D, Conv1D, Embedding\n",
    "from tensorflow.keras.models import Model\n",
    "from tensorflow.keras.losses import SparseCategoricalCrossentropy"
   ]
  },
  {
   "cell_type": "code",
   "execution_count": 2,
   "metadata": {},
   "outputs": [
    {
     "name": "stdout",
     "output_type": "stream",
     "text": [
      "File ‘bbc_text_cls.csv’ already there; not retrieving.\r\n",
      "\r\n"
     ]
    }
   ],
   "source": [
    "# download BBC text classification dataset\n",
    "# original dataset on Kaggle: https://www.kaggle.com/datasets/shivamkushwaha/bbc-full-text-document-classification)\n",
    "!wget -nc https://lazyprogrammer.me/course_files/nlp/bbc_text_cls.csv"
   ]
  },
  {
   "cell_type": "code",
   "execution_count": 3,
   "metadata": {},
   "outputs": [],
   "source": [
    "# save the dataset in Pandas dataframe\n",
    "df = pd.read_csv('bbc_text_cls.csv')"
   ]
  },
  {
   "cell_type": "code",
   "execution_count": 4,
   "metadata": {},
   "outputs": [],
   "source": [
    "# assign integers to labels\n",
    "df['targets'] = df['labels'].astype('category').cat.codes"
   ]
  },
  {
   "cell_type": "code",
   "execution_count": 5,
   "metadata": {},
   "outputs": [],
   "source": [
    "# number of classes\n",
    "K = df['targets'].nunique()"
   ]
  },
  {
   "cell_type": "code",
   "execution_count": 6,
   "metadata": {},
   "outputs": [],
   "source": [
    "# make train and test sets\n",
    "df_train, df_test = train_test_split(df, test_size=0.3)"
   ]
  },
  {
   "cell_type": "code",
   "execution_count": 7,
   "metadata": {},
   "outputs": [],
   "source": [
    "# convert texts to sequences\n",
    "MAX_VOCAB_SIZE = 2000\n",
    "tokenizer = Tokenizer(num_words=MAX_VOCAB_SIZE)\n",
    "tokenizer.fit_on_texts(df_train['text'])\n",
    "sequences_train = tokenizer.texts_to_sequences(df_train['text'])\n",
    "sequences_test = tokenizer.texts_to_sequences(df_test['text'])"
   ]
  },
  {
   "cell_type": "code",
   "execution_count": 8,
   "metadata": {},
   "outputs": [
    {
     "name": "stdout",
     "output_type": "stream",
     "text": [
      "Found 27858 unique tokens.\n"
     ]
    }
   ],
   "source": [
    "# make a dictionary of words to indices\n",
    "word2idx = tokenizer.word_index\n",
    "V = len(word2idx)\n",
    "print(f\"Found {V} unique tokens.\")"
   ]
  },
  {
   "cell_type": "code",
   "execution_count": 9,
   "metadata": {},
   "outputs": [
    {
     "name": "stdout",
     "output_type": "stream",
     "text": [
      "Shape of data train tensor: (1557, 3490)\n"
     ]
    }
   ],
   "source": [
    "# pad train and test sets\n",
    "data_train = pad_sequences(sequences_train)\n",
    "print('Shape of data train tensor:', data_train.shape)"
   ]
  },
  {
   "cell_type": "code",
   "execution_count": 10,
   "metadata": {},
   "outputs": [],
   "source": [
    "T = data_train.shape[1]"
   ]
  },
  {
   "cell_type": "code",
   "execution_count": 11,
   "metadata": {},
   "outputs": [
    {
     "name": "stdout",
     "output_type": "stream",
     "text": [
      "Shape of data test tensor: (668, 3490)\n"
     ]
    }
   ],
   "source": [
    "data_test = pad_sequences(sequences_test, maxlen=T)\n",
    "print('Shape of data test tensor:', data_test.shape)"
   ]
  },
  {
   "cell_type": "code",
   "execution_count": 12,
   "metadata": {},
   "outputs": [],
   "source": [
    "D = 50\n",
    "\n",
    "i = Input(shape=(T,))\n",
    "x = Embedding(V + 1, D)(i)\n",
    "x = Conv1D(32, 3, activation='relu')(x)\n",
    "x = GlobalMaxPooling1D()(x)\n",
    "x = Dense(K)(x)\n",
    "\n",
    "model = Model(i, x)"
   ]
  },
  {
   "cell_type": "code",
   "execution_count": 13,
   "metadata": {},
   "outputs": [
    {
     "name": "stdout",
     "output_type": "stream",
     "text": [
      "Training model...\n",
      "Epoch 1/50\n",
      "49/49 [==============================] - 4s 68ms/step - loss: 1.5634 - accuracy: 0.3847 - val_loss: 1.4801 - val_accuracy: 0.5838\n",
      "Epoch 2/50\n",
      "49/49 [==============================] - 3s 60ms/step - loss: 1.3363 - accuracy: 0.7579 - val_loss: 1.1739 - val_accuracy: 0.8189\n",
      "Epoch 3/50\n",
      "49/49 [==============================] - 3s 60ms/step - loss: 0.9071 - accuracy: 0.8760 - val_loss: 0.7168 - val_accuracy: 0.9072\n",
      "Epoch 4/50\n",
      "49/49 [==============================] - 3s 61ms/step - loss: 0.4885 - accuracy: 0.9306 - val_loss: 0.4142 - val_accuracy: 0.9296\n",
      "Epoch 5/50\n",
      "49/49 [==============================] - 3s 61ms/step - loss: 0.2710 - accuracy: 0.9557 - val_loss: 0.2804 - val_accuracy: 0.9446\n",
      "Epoch 6/50\n",
      "49/49 [==============================] - 3s 66ms/step - loss: 0.1694 - accuracy: 0.9730 - val_loss: 0.2217 - val_accuracy: 0.9491\n",
      "Epoch 7/50\n",
      "49/49 [==============================] - 3s 57ms/step - loss: 0.1156 - accuracy: 0.9827 - val_loss: 0.1890 - val_accuracy: 0.9551\n",
      "Epoch 8/50\n",
      "49/49 [==============================] - 3s 57ms/step - loss: 0.0825 - accuracy: 0.9891 - val_loss: 0.1695 - val_accuracy: 0.9581\n",
      "Epoch 9/50\n",
      "49/49 [==============================] - 3s 56ms/step - loss: 0.0602 - accuracy: 0.9936 - val_loss: 0.1571 - val_accuracy: 0.9581\n",
      "Epoch 10/50\n",
      "49/49 [==============================] - 3s 56ms/step - loss: 0.0445 - accuracy: 0.9974 - val_loss: 0.1480 - val_accuracy: 0.9581\n",
      "Epoch 11/50\n",
      "49/49 [==============================] - 3s 56ms/step - loss: 0.0340 - accuracy: 1.0000 - val_loss: 0.1413 - val_accuracy: 0.9596\n",
      "Epoch 12/50\n",
      "49/49 [==============================] - 3s 57ms/step - loss: 0.0262 - accuracy: 1.0000 - val_loss: 0.1364 - val_accuracy: 0.9596\n",
      "Epoch 13/50\n",
      "49/49 [==============================] - 3s 58ms/step - loss: 0.0209 - accuracy: 1.0000 - val_loss: 0.1321 - val_accuracy: 0.9611\n",
      "Epoch 14/50\n",
      "49/49 [==============================] - 3s 59ms/step - loss: 0.0169 - accuracy: 1.0000 - val_loss: 0.1292 - val_accuracy: 0.9611\n",
      "Epoch 15/50\n",
      "49/49 [==============================] - 3s 56ms/step - loss: 0.0139 - accuracy: 1.0000 - val_loss: 0.1268 - val_accuracy: 0.9611\n",
      "Epoch 16/50\n",
      "49/49 [==============================] - 3s 58ms/step - loss: 0.0116 - accuracy: 1.0000 - val_loss: 0.1252 - val_accuracy: 0.9596\n",
      "Epoch 17/50\n",
      "49/49 [==============================] - 3s 57ms/step - loss: 0.0098 - accuracy: 1.0000 - val_loss: 0.1237 - val_accuracy: 0.9596\n",
      "Epoch 18/50\n",
      "49/49 [==============================] - 3s 57ms/step - loss: 0.0084 - accuracy: 1.0000 - val_loss: 0.1222 - val_accuracy: 0.9596\n",
      "Epoch 19/50\n",
      "49/49 [==============================] - 3s 58ms/step - loss: 0.0073 - accuracy: 1.0000 - val_loss: 0.1212 - val_accuracy: 0.9581\n",
      "Epoch 20/50\n",
      "49/49 [==============================] - 3s 57ms/step - loss: 0.0064 - accuracy: 1.0000 - val_loss: 0.1204 - val_accuracy: 0.9581\n",
      "Epoch 21/50\n",
      "49/49 [==============================] - 3s 59ms/step - loss: 0.0056 - accuracy: 1.0000 - val_loss: 0.1197 - val_accuracy: 0.9596\n",
      "Epoch 22/50\n",
      "49/49 [==============================] - 3s 57ms/step - loss: 0.0050 - accuracy: 1.0000 - val_loss: 0.1193 - val_accuracy: 0.9581\n",
      "Epoch 23/50\n",
      "49/49 [==============================] - 3s 59ms/step - loss: 0.0045 - accuracy: 1.0000 - val_loss: 0.1184 - val_accuracy: 0.9581\n",
      "Epoch 24/50\n",
      "49/49 [==============================] - 3s 60ms/step - loss: 0.0040 - accuracy: 1.0000 - val_loss: 0.1181 - val_accuracy: 0.9611\n",
      "Epoch 25/50\n",
      "49/49 [==============================] - 3s 56ms/step - loss: 0.0036 - accuracy: 1.0000 - val_loss: 0.1178 - val_accuracy: 0.9626\n",
      "Epoch 26/50\n",
      "49/49 [==============================] - 3s 56ms/step - loss: 0.0033 - accuracy: 1.0000 - val_loss: 0.1175 - val_accuracy: 0.9611\n",
      "Epoch 27/50\n",
      "49/49 [==============================] - 3s 58ms/step - loss: 0.0030 - accuracy: 1.0000 - val_loss: 0.1174 - val_accuracy: 0.9611\n",
      "Epoch 28/50\n",
      "49/49 [==============================] - 3s 59ms/step - loss: 0.0027 - accuracy: 1.0000 - val_loss: 0.1171 - val_accuracy: 0.9611\n",
      "Epoch 29/50\n",
      "49/49 [==============================] - 3s 56ms/step - loss: 0.0025 - accuracy: 1.0000 - val_loss: 0.1169 - val_accuracy: 0.9611\n",
      "Epoch 30/50\n",
      "49/49 [==============================] - 3s 65ms/step - loss: 0.0023 - accuracy: 1.0000 - val_loss: 0.1168 - val_accuracy: 0.9611\n",
      "Epoch 31/50\n",
      "49/49 [==============================] - 3s 69ms/step - loss: 0.0021 - accuracy: 1.0000 - val_loss: 0.1167 - val_accuracy: 0.9611\n",
      "Epoch 32/50\n",
      "49/49 [==============================] - 3s 63ms/step - loss: 0.0019 - accuracy: 1.0000 - val_loss: 0.1165 - val_accuracy: 0.9611\n",
      "Epoch 33/50\n",
      "49/49 [==============================] - 3s 64ms/step - loss: 0.0018 - accuracy: 1.0000 - val_loss: 0.1165 - val_accuracy: 0.9611\n",
      "Epoch 34/50\n",
      "49/49 [==============================] - 3s 65ms/step - loss: 0.0017 - accuracy: 1.0000 - val_loss: 0.1166 - val_accuracy: 0.9611\n",
      "Epoch 35/50\n",
      "49/49 [==============================] - 3s 67ms/step - loss: 0.0016 - accuracy: 1.0000 - val_loss: 0.1164 - val_accuracy: 0.9611\n",
      "Epoch 36/50\n",
      "49/49 [==============================] - 3s 62ms/step - loss: 0.0015 - accuracy: 1.0000 - val_loss: 0.1165 - val_accuracy: 0.9611\n",
      "Epoch 37/50\n",
      "49/49 [==============================] - 3s 67ms/step - loss: 0.0014 - accuracy: 1.0000 - val_loss: 0.1164 - val_accuracy: 0.9611\n",
      "Epoch 38/50\n",
      "49/49 [==============================] - 3s 59ms/step - loss: 0.0013 - accuracy: 1.0000 - val_loss: 0.1164 - val_accuracy: 0.9611\n",
      "Epoch 39/50\n",
      "49/49 [==============================] - 3s 63ms/step - loss: 0.0012 - accuracy: 1.0000 - val_loss: 0.1165 - val_accuracy: 0.9611\n",
      "Epoch 40/50\n",
      "49/49 [==============================] - 3s 57ms/step - loss: 0.0011 - accuracy: 1.0000 - val_loss: 0.1164 - val_accuracy: 0.9611\n",
      "Epoch 41/50\n",
      "49/49 [==============================] - 3s 59ms/step - loss: 0.0010 - accuracy: 1.0000 - val_loss: 0.1165 - val_accuracy: 0.9611\n",
      "Epoch 42/50\n",
      "49/49 [==============================] - 3s 60ms/step - loss: 9.8809e-04 - accuracy: 1.0000 - val_loss: 0.1164 - val_accuracy: 0.9611\n",
      "Epoch 43/50\n",
      "49/49 [==============================] - 3s 61ms/step - loss: 9.3050e-04 - accuracy: 1.0000 - val_loss: 0.1165 - val_accuracy: 0.9611\n",
      "Epoch 44/50\n",
      "49/49 [==============================] - 3s 61ms/step - loss: 8.7862e-04 - accuracy: 1.0000 - val_loss: 0.1166 - val_accuracy: 0.9611\n",
      "Epoch 45/50\n",
      "49/49 [==============================] - 3s 62ms/step - loss: 8.2955e-04 - accuracy: 1.0000 - val_loss: 0.1166 - val_accuracy: 0.9611\n",
      "Epoch 46/50\n",
      "49/49 [==============================] - 3s 60ms/step - loss: 7.8546e-04 - accuracy: 1.0000 - val_loss: 0.1167 - val_accuracy: 0.9611\n",
      "Epoch 47/50\n",
      "49/49 [==============================] - 3s 56ms/step - loss: 7.4207e-04 - accuracy: 1.0000 - val_loss: 0.1168 - val_accuracy: 0.9611\n",
      "Epoch 48/50\n",
      "49/49 [==============================] - 3s 58ms/step - loss: 7.0326e-04 - accuracy: 1.0000 - val_loss: 0.1167 - val_accuracy: 0.9611\n",
      "Epoch 49/50\n",
      "49/49 [==============================] - 3s 56ms/step - loss: 6.6717e-04 - accuracy: 1.0000 - val_loss: 0.1168 - val_accuracy: 0.9611\n",
      "Epoch 50/50\n",
      "49/49 [==============================] - 3s 58ms/step - loss: 6.3323e-04 - accuracy: 1.0000 - val_loss: 0.1169 - val_accuracy: 0.9611\n"
     ]
    }
   ],
   "source": [
    "model.compile(loss=SparseCategoricalCrossentropy(from_logits=True), optimizer='adam', metrics=['accuracy'])\n",
    "\n",
    "print('Training model...')\n",
    "\n",
    "r = model.fit(data_train, df_train['targets'], epochs=50, validation_data=(data_test, df_test['targets']))"
   ]
  },
  {
   "cell_type": "code",
   "execution_count": 14,
   "metadata": {},
   "outputs": [
    {
     "data": {
      "text/plain": [
       "<matplotlib.legend.Legend at 0x7fef7805ac10>"
      ]
     },
     "execution_count": 14,
     "metadata": {},
     "output_type": "execute_result"
    },
    {
     "data": {
      "image/png": "[encoded data removed]",
      "text/plain": [
       "<Figure size 432x288 with 1 Axes>"
      ]
     },
     "metadata": {
      "needs_background": "light"
     },
     "output_type": "display_data"
    }
   ],
   "source": [
    "# loss per iteration\n",
    "plt.plot(r.history['loss'], label='train loss')\n",
    "plt.plot(r.history['val_loss'], label='val loss')\n",
    "plt.legend()"
   ]
  },
  {
   "cell_type": "code",
   "execution_count": 15,
   "metadata": {},
   "outputs": [
    {
     "data": {
      "image/png": "[encoded data removed]",
      "text/plain": [
       "<Figure size 432x288 with 1 Axes>"
      ]
     },
     "metadata": {
      "needs_background": "light"
     },
     "output_type": "display_data"
    }
   ],
   "source": [
    "# accuracy per iteration\n",
    "plt.plot(r.history['accuracy'], label='train acc')\n",
    "plt.plot(r.history['val_accuracy'], label='val acc')\n",
    "plt.legend();"
   ]
  }
 ],
 "metadata": {
  "kernelspec": {
   "display_name": "Python 3",
   "language": "python",
   "name": "python3"
  },
  "language_info": {
   "codemirror_mode": {
    "name": "ipython",
    "version": 3
   },
   "file_extension": ".py",
   "mimetype": "text/x-python",
   "name": "python",
   "nbconvert_exporter": "python",
   "pygments_lexer": "ipython3",
   "version": "3.7.6"
  }
 },
 "nbformat": 4,
 "nbformat_minor": 4
}

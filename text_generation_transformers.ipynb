{
 "cells": [
  {
   "cell_type": "markdown",
   "metadata": {},
   "source": [
    "The task is to explore text generation pipeline in Transformers."
   ]
  },
  {
   "cell_type": "code",
   "execution_count": 1,
   "metadata": {},
   "outputs": [],
   "source": [
    "from transformers import pipeline\n",
    "from pprint import pprint\n",
    "import textwrap"
   ]
  },
  {
   "cell_type": "code",
   "execution_count": 2,
   "metadata": {},
   "outputs": [],
   "source": [
    "# use a collection of poems by Edgar Allan Poe\n",
    "lines = [line.rstrip() for line in open('edgar_allan_poe.txt')]\n",
    "lines = [line for line in lines if line]"
   ]
  },
  {
   "cell_type": "code",
   "execution_count": 3,
   "metadata": {},
   "outputs": [
    {
     "data": {
      "text/plain": [
       "'The melancholy waters lie.'"
      ]
     },
     "execution_count": 3,
     "metadata": {},
     "output_type": "execute_result"
    }
   ],
   "source": [
    "lines[13]"
   ]
  },
  {
   "cell_type": "code",
   "execution_count": 4,
   "metadata": {},
   "outputs": [
    {
     "name": "stderr",
     "output_type": "stream",
     "text": [
      "No model was supplied, defaulted to gpt2 and revision 6c0e608 (https://huggingface.co/gpt2).\n",
      "Using a pipeline without specifying a model name and revision in production is not recommended.\n"
     ]
    }
   ],
   "source": [
    "# use the pipeline\n",
    "gen = pipeline('text-generation')"
   ]
  },
  {
   "cell_type": "code",
   "execution_count": 5,
   "metadata": {},
   "outputs": [
    {
     "name": "stderr",
     "output_type": "stream",
     "text": [
      "Setting `pad_token_id` to `eos_token_id`:50256 for open-end generation.\n"
     ]
    },
    {
     "name": "stdout",
     "output_type": "stream",
     "text": [
      "[{'generated_text': 'The melancholy waters lie. But those long-lost hours do '\n",
      "                    'not lie in her. The sorrow of his days does not rest in '\n",
      "                    'her. At one'}]\n"
     ]
    }
   ],
   "source": [
    "# generate a text\n",
    "pprint(gen(lines[13], max_length=30))"
   ]
  },
  {
   "cell_type": "code",
   "execution_count": 6,
   "metadata": {},
   "outputs": [
    {
     "name": "stderr",
     "output_type": "stream",
     "text": [
      "Setting `pad_token_id` to `eos_token_id`:50256 for open-end generation.\n"
     ]
    },
    {
     "name": "stdout",
     "output_type": "stream",
     "text": [
      "The waves have now a redder glow in the northern sky.\n",
      "\n",
      "As the wind\n",
      "comes in, the sun shines in different colors and shapes.\n"
     ]
    }
   ],
   "source": [
    "out = gen(lines[45], max_length=30)\n",
    "print(textwrap.fill(out[0]['generated_text'], replace_whitespace=False, fix_sentence_endings=True))"
   ]
  },
  {
   "cell_type": "code",
   "execution_count": 7,
   "metadata": {},
   "outputs": [],
   "source": [
    "prev = 'The waves have now a redder glow.  The waves can pass very high, and' + \\\n",
    "'the wind is blowing in many directions, so you can barely see'"
   ]
  },
  {
   "cell_type": "code",
   "execution_count": 8,
   "metadata": {},
   "outputs": [
    {
     "name": "stderr",
     "output_type": "stream",
     "text": [
      "Setting `pad_token_id` to `eos_token_id`:50256 for open-end generation.\n"
     ]
    },
    {
     "name": "stdout",
     "output_type": "stream",
     "text": [
      "The waves have now a redder glow.  The waves can pass very high,\n",
      "andthe wind is blowing in many directions, so you can barely see\n",
      "The\n",
      "very hours are breathing low.  So there are some moments when the wind\n",
      "moves up a bit to try and see the light\n",
      "It is\n"
     ]
    }
   ],
   "source": [
    "# generate text based on previous part\n",
    "out_with_prev = gen(prev + '\\n' + lines[46], max_length=60)\n",
    "print(textwrap.fill(out_with_prev[0]['generated_text'], replace_whitespace=False, fix_sentence_endings=True))"
   ]
  },
  {
   "cell_type": "code",
   "execution_count": 9,
   "metadata": {},
   "outputs": [
    {
     "name": "stderr",
     "output_type": "stream",
     "text": [
      "Setting `pad_token_id` to `eos_token_id`:50256 for open-end generation.\n"
     ]
    },
    {
     "name": "stdout",
     "output_type": "stream",
     "text": [
      "The human brain is one of the most complex things in the whole\n",
      "universe.  One of the things which we know as the 'happiness' factor\n",
      "is the experience of a person's personality-of-being.  Our brain\n",
      "doesn't have any internal ego-the mind is in a state of self-\n",
      "recognition.  Our brain also works more optimally by concentrating on\n",
      "our actions and trying to be good or bad.\n",
      "\n",
      "\n",
      "When it comes to mental\n",
      "health, the one good side is that most of us are better than others\n",
      "and so mental health is pretty high.  We should probably focus on\n",
      "things like being in well-nourished settings and staying up to date\n",
      "with your daily activities and life life-cycle.  We may be better off\n",
      "having a mental health plan with the 'Happiness Factor' such as the\n",
      "Sutra, Prakashan, etc.\n",
      "\n",
      "\n",
      "When you live a normal life and focus on what\n",
      "you have to live that way you can go out of your way to have fun and\n",
      "be satisfied.\n",
      "\n",
      "\n",
      "It may sound confusing at first but if you're taking\n",
      "care of yourself it's important to take it seriously.  This is the\n",
      "life-cycle of your life.  You are not just going to spend the hours to\n",
      "do the things you're in and live the life you want to live, or you may\n",
      "end up suffering.  But be mindful of what you and your other selves\n",
      "are doing, and be mindful of what it is that you want to do which\n",
      "involves things like\n"
     ]
    }
   ],
   "source": [
    "# generate a text on another topic\n",
    "prompt = \"The human brain is one of the most complex things in the whole universe.\"\n",
    "out_prompt = gen(prompt, max_length=300)\n",
    "print(textwrap.fill(out_prompt[0]['generated_text'], replace_whitespace=False, fix_sentence_endings=True))"
   ]
  },
  {
   "cell_type": "code",
   "execution_count": null,
   "metadata": {},
   "outputs": [],
   "source": []
  }
 ],
 "metadata": {
  "kernelspec": {
   "display_name": "Python 3",
   "language": "python",
   "name": "python3"
  },
  "language_info": {
   "codemirror_mode": {
    "name": "ipython",
    "version": 3
   },
   "file_extension": ".py",
   "mimetype": "text/x-python",
   "name": "python",
   "nbconvert_exporter": "python",
   "pygments_lexer": "ipython3",
   "version": "3.7.6"
  }
 },
 "nbformat": 4,
 "nbformat_minor": 4
}

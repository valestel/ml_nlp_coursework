{
 "cells": [
  {
   "cell_type": "markdown",
   "metadata": {},
   "source": [
    "The task is to explore how to preprocess text in Tensorflow."
   ]
  },
  {
   "cell_type": "code",
   "execution_count": 1,
   "metadata": {},
   "outputs": [],
   "source": [
    "import tensorflow as tf\n",
    "from tensorflow.keras.preprocessing.text import Tokenizer\n",
    "from tensorflow.keras.preprocessing.sequence import pad_sequences"
   ]
  },
  {
   "cell_type": "code",
   "execution_count": 2,
   "metadata": {},
   "outputs": [],
   "source": [
    "# sentences from \"The Hobbit, or There and Back Again\" by J. R. R. Tolkien\n",
    "sentences = [\n",
    "    'In a hole in the ground there lived a hobbit.',\n",
    "    'It had a perfectly round door like a porthole, painted green, with a shiny yellow brass knob in the exact middle.',\n",
    "    'Tales and adventures sprouted up all over the place wherever he went, in the most extraordinary fashion.',\n",
    "    'All that the unsuspecting Bilbo saw that morning was an old man with a staff.',\n",
    "    'But Gandalf looked at him from under long bushy eyebrows that stuck out further than the brim of his shady hat.'\n",
    "]"
   ]
  },
  {
   "cell_type": "code",
   "execution_count": 4,
   "metadata": {},
   "outputs": [],
   "source": [
    "tokenizer = Tokenizer(num_words=20000)\n",
    "tokenizer.fit_on_texts(sentences)\n",
    "sequences = tokenizer.texts_to_sequences(sentences)"
   ]
  },
  {
   "cell_type": "code",
   "execution_count": 5,
   "metadata": {},
   "outputs": [
    {
     "name": "stdout",
     "output_type": "stream",
     "text": [
      "[[3, 1, 7, 3, 2, 8, 9, 10, 1, 11], [12, 13, 1, 14, 15, 16, 17, 1, 18, 19, 20, 5, 1, 21, 22, 23, 24, 3, 2, 25, 26], [27, 28, 29, 30, 31, 6, 32, 2, 33, 34, 35, 36, 3, 2, 37, 38, 39], [6, 4, 2, 40, 41, 42, 4, 43, 44, 45, 46, 47, 5, 1, 48], [49, 50, 51, 52, 53, 54, 55, 56, 57, 58, 4, 59, 60, 61, 62, 2, 63, 64, 65, 66, 67]]\n"
     ]
    }
   ],
   "source": [
    "print(sequences)"
   ]
  },
  {
   "cell_type": "code",
   "execution_count": 6,
   "metadata": {},
   "outputs": [
    {
     "data": {
      "text/plain": [
       "{'a': 1,\n",
       " 'the': 2,\n",
       " 'in': 3,\n",
       " 'that': 4,\n",
       " 'with': 5,\n",
       " 'all': 6,\n",
       " 'hole': 7,\n",
       " 'ground': 8,\n",
       " 'there': 9,\n",
       " 'lived': 10,\n",
       " 'hobbit': 11,\n",
       " 'it': 12,\n",
       " 'had': 13,\n",
       " 'perfectly': 14,\n",
       " 'round': 15,\n",
       " 'door': 16,\n",
       " 'like': 17,\n",
       " 'porthole': 18,\n",
       " 'painted': 19,\n",
       " 'green': 20,\n",
       " 'shiny': 21,\n",
       " 'yellow': 22,\n",
       " 'brass': 23,\n",
       " 'knob': 24,\n",
       " 'exact': 25,\n",
       " 'middle': 26,\n",
       " 'tales': 27,\n",
       " 'and': 28,\n",
       " 'adventures': 29,\n",
       " 'sprouted': 30,\n",
       " 'up': 31,\n",
       " 'over': 32,\n",
       " 'place': 33,\n",
       " 'wherever': 34,\n",
       " 'he': 35,\n",
       " 'went': 36,\n",
       " 'most': 37,\n",
       " 'extraordinary': 38,\n",
       " 'fashion': 39,\n",
       " 'unsuspecting': 40,\n",
       " 'bilbo': 41,\n",
       " 'saw': 42,\n",
       " 'morning': 43,\n",
       " 'was': 44,\n",
       " 'an': 45,\n",
       " 'old': 46,\n",
       " 'man': 47,\n",
       " 'staff': 48,\n",
       " 'but': 49,\n",
       " 'gandalf': 50,\n",
       " 'looked': 51,\n",
       " 'at': 52,\n",
       " 'him': 53,\n",
       " 'from': 54,\n",
       " 'under': 55,\n",
       " 'long': 56,\n",
       " 'bushy': 57,\n",
       " 'eyebrows': 58,\n",
       " 'stuck': 59,\n",
       " 'out': 60,\n",
       " 'further': 61,\n",
       " 'than': 62,\n",
       " 'brim': 63,\n",
       " 'of': 64,\n",
       " 'his': 65,\n",
       " 'shady': 66,\n",
       " 'hat': 67}"
      ]
     },
     "execution_count": 6,
     "metadata": {},
     "output_type": "execute_result"
    }
   ],
   "source": [
    "tokenizer.word_index"
   ]
  },
  {
   "cell_type": "code",
   "execution_count": 7,
   "metadata": {},
   "outputs": [
    {
     "name": "stdout",
     "output_type": "stream",
     "text": [
      "[[ 0  0  0  0  0  0  0  0  0  0  0  3  1  7  3  2  8  9 10  1 11]\n",
      " [12 13  1 14 15 16 17  1 18 19 20  5  1 21 22 23 24  3  2 25 26]\n",
      " [ 0  0  0  0 27 28 29 30 31  6 32  2 33 34 35 36  3  2 37 38 39]\n",
      " [ 0  0  0  0  0  0  6  4  2 40 41 42  4 43 44 45 46 47  5  1 48]\n",
      " [49 50 51 52 53 54 55 56 57 58  4 59 60 61 62  2 63 64 65 66 67]]\n"
     ]
    }
   ],
   "source": [
    "data = pad_sequences(sequences)\n",
    "print(data)"
   ]
  },
  {
   "cell_type": "code",
   "execution_count": null,
   "metadata": {},
   "outputs": [],
   "source": []
  }
 ],
 "metadata": {
  "kernelspec": {
   "display_name": "Python 3",
   "language": "python",
   "name": "python3"
  },
  "language_info": {
   "codemirror_mode": {
    "name": "ipython",
    "version": 3
   },
   "file_extension": ".py",
   "mimetype": "text/x-python",
   "name": "python",
   "nbconvert_exporter": "python",
   "pygments_lexer": "ipython3",
   "version": "3.7.6"
  }
 },
 "nbformat": 4,
 "nbformat_minor": 4
}

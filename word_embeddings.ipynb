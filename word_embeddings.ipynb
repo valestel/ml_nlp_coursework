{
 "cells": [
  {
   "cell_type": "markdown",
   "metadata": {},
   "source": [
    "The task is to explore word vectors in gensim."
   ]
  },
  {
   "cell_type": "code",
   "execution_count": 1,
   "metadata": {},
   "outputs": [],
   "source": [
    "from gensim.models import KeyedVectors"
   ]
  },
  {
   "cell_type": "code",
   "execution_count": null,
   "metadata": {},
   "outputs": [],
   "source": [
    "# download the dataset GoogleNews vectors\n",
    "# original dataset on Kaggle: https://www.kaggle.com/datasets/leadbest/googlenewsvectorsnegative300\n",
    "!wget -nc https://lazyprogrammer.me/course_files/nlp/GoogleNews-vectors-negative300.bin.gz\n",
    "!gunzip GoogleNews-vectors-negative300.bin.gz"
   ]
  },
  {
   "cell_type": "code",
   "execution_count": 2,
   "metadata": {},
   "outputs": [],
   "source": [
    "# load the dataset in word2vec format\n",
    "word_vectors = KeyedVectors.load_word2vec_format('GoogleNews-vectors-negative300.bin', binary=True)"
   ]
  },
  {
   "cell_type": "code",
   "execution_count": 3,
   "metadata": {},
   "outputs": [],
   "source": [
    "# create a function to find semantic analogies\n",
    "def find_analogies(w1, w2, w3):\n",
    "    r = word_vectors.most_similar(positive=[w1, w3], negative=[w2])\n",
    "    print(f'{w1} - {w2} = {r[0][0]} - {w3}')"
   ]
  },
  {
   "cell_type": "code",
   "execution_count": 4,
   "metadata": {},
   "outputs": [
    {
     "name": "stdout",
     "output_type": "stream",
     "text": [
      "king - man = queen - woman\n"
     ]
    }
   ],
   "source": [
    "find_analogies('king', 'man', 'woman')"
   ]
  },
  {
   "cell_type": "code",
   "execution_count": 5,
   "metadata": {},
   "outputs": [
    {
     "name": "stdout",
     "output_type": "stream",
     "text": [
      "paris - france = berlin - germany\n"
     ]
    }
   ],
   "source": [
    "find_analogies('paris', 'france', 'germany')"
   ]
  },
  {
   "cell_type": "code",
   "execution_count": 6,
   "metadata": {},
   "outputs": [
    {
     "name": "stdout",
     "output_type": "stream",
     "text": [
      "teacher - student = nurse - patient\n"
     ]
    }
   ],
   "source": [
    "find_analogies('teacher', 'student', 'patient')"
   ]
  },
  {
   "cell_type": "code",
   "execution_count": 7,
   "metadata": {},
   "outputs": [
    {
     "name": "stdout",
     "output_type": "stream",
     "text": [
      "black - white = silver - gold\n"
     ]
    }
   ],
   "source": [
    "find_analogies('black', 'white', 'gold')"
   ]
  },
  {
   "cell_type": "code",
   "execution_count": 8,
   "metadata": {},
   "outputs": [],
   "source": [
    "# create a function to find semantic neighbors\n",
    "def nearest_neighbors(w):\n",
    "    r = word_vectors.most_similar(positive=[w])\n",
    "    print(f'Neighbors of {w}:\\n')\n",
    "    for word, score in r:\n",
    "        print(word)"
   ]
  },
  {
   "cell_type": "code",
   "execution_count": 12,
   "metadata": {},
   "outputs": [
    {
     "name": "stdout",
     "output_type": "stream",
     "text": [
      "Neighbors of music:\n",
      "\n",
      "classical_music\n",
      "jazz\n",
      "Music\n",
      "Without_Donny_Kirshner\n",
      "songs\n",
      "musicians\n",
      "tunes\n",
      "musical\n",
      "Logue_typed\n",
      "musics\n"
     ]
    }
   ],
   "source": [
    "nearest_neighbors('music')"
   ]
  },
  {
   "cell_type": "code",
   "execution_count": 10,
   "metadata": {},
   "outputs": [
    {
     "name": "stdout",
     "output_type": "stream",
     "text": [
      "Neighbors of science:\n",
      "\n",
      "faith_Jezierski\n",
      "sciences\n",
      "biology\n",
      "scientific\n",
      "mathematics\n",
      "Hilal_Khashan_professor\n",
      "impeach_USADA\n",
      "professor_Kent_Redfield\n",
      "physics_astronomy\n",
      "bionic_prosthetic_fingers\n"
     ]
    }
   ],
   "source": [
    "nearest_neighbors('science')"
   ]
  },
  {
   "cell_type": "code",
   "execution_count": 11,
   "metadata": {},
   "outputs": [
    {
     "name": "stdout",
     "output_type": "stream",
     "text": [
      "Neighbors of germany:\n",
      "\n",
      "german\n",
      "europe\n",
      "european\n",
      "sweden\n",
      "switzerland\n",
      "austria\n",
      "france\n",
      "spain\n",
      "poland\n",
      "russia\n"
     ]
    }
   ],
   "source": [
    "nearest_neighbors('germany')"
   ]
  },
  {
   "cell_type": "code",
   "execution_count": 13,
   "metadata": {},
   "outputs": [
    {
     "name": "stdout",
     "output_type": "stream",
     "text": [
      "Neighbors of cheese:\n",
      "\n",
      "cheeses\n",
      "cheddar\n",
      "goat_cheese\n",
      "Cheese\n",
      "cheddar_cheese\n",
      "Cheddar_cheese\n",
      "mozzarella\n",
      "cheddar_cheeses\n",
      "Camembert\n",
      "gruyere\n"
     ]
    }
   ],
   "source": [
    "nearest_neighbors('cheese')"
   ]
  },
  {
   "cell_type": "code",
   "execution_count": null,
   "metadata": {},
   "outputs": [],
   "source": []
  }
 ],
 "metadata": {
  "kernelspec": {
   "display_name": "Python 3",
   "language": "python",
   "name": "python3"
  },
  "language_info": {
   "codemirror_mode": {
    "name": "ipython",
    "version": 3
   },
   "file_extension": ".py",
   "mimetype": "text/x-python",
   "name": "python",
   "nbconvert_exporter": "python",
   "pygments_lexer": "ipython3",
   "version": "3.7.6"
  }
 },
 "nbformat": 4,
 "nbformat_minor": 4
}

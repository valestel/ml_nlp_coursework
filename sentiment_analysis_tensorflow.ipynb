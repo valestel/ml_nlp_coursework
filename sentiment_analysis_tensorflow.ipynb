{
 "cells": [
  {
   "cell_type": "markdown",
   "metadata": {},
   "source": [
    "The task is to build a sentiment analysis model using Tensorflow."
   ]
  },
  {
   "cell_type": "code",
   "execution_count": 1,
   "metadata": {},
   "outputs": [],
   "source": [
    "import pandas as pd\n",
    "import numpy as np\n",
    "import tensorflow as tf\n",
    "import matplotlib.pyplot as plt\n",
    "from sklearn.model_selection import train_test_split\n",
    "from sklearn.feature_extraction.text import TfidfVectorizer\n",
    "from sklearn.metrics import confusion_matrix, ConfusionMatrixDisplay, roc_auc_score, f1_score\n",
    "\n",
    "from tensorflow.keras.layers import Dense, Input\n",
    "from tensorflow.keras.models import Model\n",
    "from tensorflow.keras.losses import BinaryCrossentropy\n",
    "from tensorflow.keras.optimizers import Adam"
   ]
  },
  {
   "cell_type": "code",
   "execution_count": 2,
   "metadata": {},
   "outputs": [
    {
     "name": "stdout",
     "output_type": "stream",
     "text": [
      "File ‘AirlineTweets.csv’ already there; not retrieving.\r\n",
      "\r\n"
     ]
    }
   ],
   "source": [
    "# download the dataset: airline tweets\n",
    "# original dataset on Kaggle: https://www.kaggle.com/crowdflower/twitter-airline-sentiment\n",
    "!wget -nc https://lazyprogrammer.me/course_files/AirlineTweets.csv"
   ]
  },
  {
   "cell_type": "code",
   "execution_count": 3,
   "metadata": {},
   "outputs": [],
   "source": [
    "# save the dataset in Pandas dataframe\n",
    "df = pd.read_csv('AirlineTweets.csv')"
   ]
  },
  {
   "cell_type": "code",
   "execution_count": 4,
   "metadata": {},
   "outputs": [],
   "source": [
    "df = df[['airline_sentiment', 'text']]"
   ]
  },
  {
   "cell_type": "code",
   "execution_count": 5,
   "metadata": {},
   "outputs": [
    {
     "data": {
      "text/plain": [
       "<matplotlib.axes._subplots.AxesSubplot at 0x7fe419304b10>"
      ]
     },
     "execution_count": 5,
     "metadata": {},
     "output_type": "execute_result"
    },
    {
     "data": {
      "image/png": "[encoded data removed]",
      "text/plain": [
       "<Figure size 432x288 with 1 Axes>"
      ]
     },
     "metadata": {
      "needs_background": "light"
     },
     "output_type": "display_data"
    }
   ],
   "source": [
    "# check the sentiment distribution: it looks imbalanced\n",
    "df['airline_sentiment'].hist()"
   ]
  },
  {
   "cell_type": "code",
   "execution_count": 6,
   "metadata": {},
   "outputs": [],
   "source": [
    "# leave out the neutral tweets\n",
    "df = df[df['airline_sentiment'] != 'neutral'].copy()"
   ]
  },
  {
   "cell_type": "code",
   "execution_count": 7,
   "metadata": {},
   "outputs": [],
   "source": [
    "# assign integers to sentiment classes\n",
    "target_map = {'positive': 1, 'negative': 0}\n",
    "df['sentiment_class'] = df['airline_sentiment'].map(target_map)"
   ]
  },
  {
   "cell_type": "code",
   "execution_count": 8,
   "metadata": {},
   "outputs": [
    {
     "data": {
      "text/html": [
       "<div>\n",
       "<style scoped>\n",
       "    .dataframe tbody tr th:only-of-type {\n",
       "        vertical-align: middle;\n",
       "    }\n",
       "\n",
       "    .dataframe tbody tr th {\n",
       "        vertical-align: top;\n",
       "    }\n",
       "\n",
       "    .dataframe thead th {\n",
       "        text-align: right;\n",
       "    }\n",
       "</style>\n",
       "<table border=\"1\" class=\"dataframe\">\n",
       "  <thead>\n",
       "    <tr style=\"text-align: right;\">\n",
       "      <th></th>\n",
       "      <th>airline_sentiment</th>\n",
       "      <th>text</th>\n",
       "      <th>sentiment_class</th>\n",
       "    </tr>\n",
       "  </thead>\n",
       "  <tbody>\n",
       "    <tr>\n",
       "      <th>1</th>\n",
       "      <td>positive</td>\n",
       "      <td>@VirginAmerica plus you've added commercials t...</td>\n",
       "      <td>1</td>\n",
       "    </tr>\n",
       "    <tr>\n",
       "      <th>3</th>\n",
       "      <td>negative</td>\n",
       "      <td>@VirginAmerica it's really aggressive to blast...</td>\n",
       "      <td>0</td>\n",
       "    </tr>\n",
       "    <tr>\n",
       "      <th>4</th>\n",
       "      <td>negative</td>\n",
       "      <td>@VirginAmerica and it's a really big bad thing...</td>\n",
       "      <td>0</td>\n",
       "    </tr>\n",
       "    <tr>\n",
       "      <th>5</th>\n",
       "      <td>negative</td>\n",
       "      <td>@VirginAmerica seriously would pay $30 a fligh...</td>\n",
       "      <td>0</td>\n",
       "    </tr>\n",
       "    <tr>\n",
       "      <th>6</th>\n",
       "      <td>positive</td>\n",
       "      <td>@VirginAmerica yes, nearly every time I fly VX...</td>\n",
       "      <td>1</td>\n",
       "    </tr>\n",
       "  </tbody>\n",
       "</table>\n",
       "</div>"
      ],
      "text/plain": [
       "  airline_sentiment                                               text  \\\n",
       "1          positive  @VirginAmerica plus you've added commercials t...   \n",
       "3          negative  @VirginAmerica it's really aggressive to blast...   \n",
       "4          negative  @VirginAmerica and it's a really big bad thing...   \n",
       "5          negative  @VirginAmerica seriously would pay $30 a fligh...   \n",
       "6          positive  @VirginAmerica yes, nearly every time I fly VX...   \n",
       "\n",
       "   sentiment_class  \n",
       "1                1  \n",
       "3                0  \n",
       "4                0  \n",
       "5                0  \n",
       "6                1  "
      ]
     },
     "execution_count": 8,
     "metadata": {},
     "output_type": "execute_result"
    }
   ],
   "source": [
    "df.head()"
   ]
  },
  {
   "cell_type": "code",
   "execution_count": 9,
   "metadata": {},
   "outputs": [],
   "source": [
    "# make train and test sets\n",
    "df_train, df_test = train_test_split(df)"
   ]
  },
  {
   "cell_type": "code",
   "execution_count": 10,
   "metadata": {},
   "outputs": [],
   "source": [
    "# use TF-IDF vectorizer\n",
    "vectorizer = TfidfVectorizer(max_features=2000)\n",
    "X_train = vectorizer.fit_transform(df_train['text'])\n",
    "X_test = vectorizer.transform(df_test['text'])"
   ]
  },
  {
   "cell_type": "code",
   "execution_count": 11,
   "metadata": {},
   "outputs": [],
   "source": [
    "# data must not be sparse matrix before passing into tensorflow\n",
    "X_train = X_train.toarray()\n",
    "X_test = X_test.toarray()"
   ]
  },
  {
   "cell_type": "code",
   "execution_count": 12,
   "metadata": {},
   "outputs": [],
   "source": [
    "Y_train = df_train['sentiment_class']\n",
    "Y_test = df_test['sentiment_class']"
   ]
  },
  {
   "cell_type": "code",
   "execution_count": 13,
   "metadata": {},
   "outputs": [],
   "source": [
    "# input dimensions\n",
    "D = X_train.shape[1]"
   ]
  },
  {
   "cell_type": "code",
   "execution_count": 14,
   "metadata": {},
   "outputs": [],
   "source": [
    "# build a model\n",
    "i = Input(shape=(D,))\n",
    "x = Dense(1)(i)\n",
    "\n",
    "model = Model(i, x)"
   ]
  },
  {
   "cell_type": "code",
   "execution_count": 15,
   "metadata": {},
   "outputs": [
    {
     "name": "stdout",
     "output_type": "stream",
     "text": [
      "Model: \"model\"\n",
      "_________________________________________________________________\n",
      " Layer (type)                Output Shape              Param #   \n",
      "=================================================================\n",
      " input_1 (InputLayer)        [(None, 2000)]            0         \n",
      "                                                                 \n",
      " dense (Dense)               (None, 1)                 2001      \n",
      "                                                                 \n",
      "=================================================================\n",
      "Total params: 2,001\n",
      "Trainable params: 2,001\n",
      "Non-trainable params: 0\n",
      "_________________________________________________________________\n"
     ]
    }
   ],
   "source": [
    "model.summary()"
   ]
  },
  {
   "cell_type": "code",
   "execution_count": 16,
   "metadata": {},
   "outputs": [],
   "source": [
    "model.compile(loss=BinaryCrossentropy(from_logits=True), optimizer=Adam(learning_rate=0.01), metrics=['accuracy'])"
   ]
  },
  {
   "cell_type": "code",
   "execution_count": 17,
   "metadata": {},
   "outputs": [
    {
     "name": "stdout",
     "output_type": "stream",
     "text": [
      "Epoch 1/40\n",
      "68/68 [==============================] - 1s 4ms/step - loss: 0.4997 - accuracy: 0.7978 - val_loss: 0.4164 - val_accuracy: 0.7876\n",
      "Epoch 2/40\n",
      "68/68 [==============================] - 0s 2ms/step - loss: 0.3720 - accuracy: 0.8017 - val_loss: 0.3578 - val_accuracy: 0.8001\n",
      "Epoch 3/40\n",
      "68/68 [==============================] - 0s 2ms/step - loss: 0.3193 - accuracy: 0.8217 - val_loss: 0.3179 - val_accuracy: 0.8236\n",
      "Epoch 4/40\n",
      "68/68 [==============================] - 0s 2ms/step - loss: 0.2824 - accuracy: 0.8495 - val_loss: 0.2906 - val_accuracy: 0.8416\n",
      "Epoch 5/40\n",
      "68/68 [==============================] - 0s 2ms/step - loss: 0.2554 - accuracy: 0.8656 - val_loss: 0.2710 - val_accuracy: 0.8590\n",
      "Epoch 6/40\n",
      "68/68 [==============================] - 0s 2ms/step - loss: 0.2347 - accuracy: 0.8811 - val_loss: 0.2558 - val_accuracy: 0.8725\n",
      "Epoch 7/40\n",
      "68/68 [==============================] - 0s 2ms/step - loss: 0.2184 - accuracy: 0.8946 - val_loss: 0.2442 - val_accuracy: 0.8839\n",
      "Epoch 8/40\n",
      "68/68 [==============================] - 0s 2ms/step - loss: 0.2051 - accuracy: 0.9034 - val_loss: 0.2351 - val_accuracy: 0.8877\n",
      "Epoch 9/40\n",
      "68/68 [==============================] - 0s 2ms/step - loss: 0.1940 - accuracy: 0.9080 - val_loss: 0.2277 - val_accuracy: 0.8943\n",
      "Epoch 10/40\n",
      "68/68 [==============================] - 0s 2ms/step - loss: 0.1847 - accuracy: 0.9155 - val_loss: 0.2219 - val_accuracy: 0.8964\n",
      "Epoch 11/40\n",
      "68/68 [==============================] - 0s 2ms/step - loss: 0.1765 - accuracy: 0.9205 - val_loss: 0.2171 - val_accuracy: 0.8992\n",
      "Epoch 12/40\n",
      "68/68 [==============================] - 0s 2ms/step - loss: 0.1694 - accuracy: 0.9234 - val_loss: 0.2130 - val_accuracy: 0.9040\n",
      "Epoch 13/40\n",
      "68/68 [==============================] - 0s 2ms/step - loss: 0.1631 - accuracy: 0.9285 - val_loss: 0.2097 - val_accuracy: 0.9071\n",
      "Epoch 14/40\n",
      "68/68 [==============================] - 0s 2ms/step - loss: 0.1576 - accuracy: 0.9318 - val_loss: 0.2070 - val_accuracy: 0.9075\n",
      "Epoch 15/40\n",
      "68/68 [==============================] - 0s 2ms/step - loss: 0.1524 - accuracy: 0.9325 - val_loss: 0.2044 - val_accuracy: 0.9096\n",
      "Epoch 16/40\n",
      "68/68 [==============================] - 0s 2ms/step - loss: 0.1478 - accuracy: 0.9380 - val_loss: 0.2024 - val_accuracy: 0.9106\n",
      "Epoch 17/40\n",
      "68/68 [==============================] - 0s 2ms/step - loss: 0.1436 - accuracy: 0.9382 - val_loss: 0.2008 - val_accuracy: 0.9113\n",
      "Epoch 18/40\n",
      "68/68 [==============================] - 0s 2ms/step - loss: 0.1396 - accuracy: 0.9414 - val_loss: 0.1993 - val_accuracy: 0.9120\n",
      "Epoch 19/40\n",
      "68/68 [==============================] - 0s 2ms/step - loss: 0.1361 - accuracy: 0.9422 - val_loss: 0.1981 - val_accuracy: 0.9113\n",
      "Epoch 20/40\n",
      "68/68 [==============================] - 0s 2ms/step - loss: 0.1328 - accuracy: 0.9438 - val_loss: 0.1972 - val_accuracy: 0.9130\n",
      "Epoch 21/40\n",
      "68/68 [==============================] - 0s 2ms/step - loss: 0.1297 - accuracy: 0.9458 - val_loss: 0.1968 - val_accuracy: 0.9123\n",
      "Epoch 22/40\n",
      "68/68 [==============================] - 0s 2ms/step - loss: 0.1269 - accuracy: 0.9453 - val_loss: 0.1959 - val_accuracy: 0.9141\n",
      "Epoch 23/40\n",
      "68/68 [==============================] - 0s 2ms/step - loss: 0.1242 - accuracy: 0.9485 - val_loss: 0.1955 - val_accuracy: 0.9137\n",
      "Epoch 24/40\n",
      "68/68 [==============================] - 0s 2ms/step - loss: 0.1216 - accuracy: 0.9487 - val_loss: 0.1951 - val_accuracy: 0.9161\n",
      "Epoch 25/40\n",
      "68/68 [==============================] - 0s 2ms/step - loss: 0.1192 - accuracy: 0.9494 - val_loss: 0.1950 - val_accuracy: 0.9168\n",
      "Epoch 26/40\n",
      "68/68 [==============================] - 0s 2ms/step - loss: 0.1170 - accuracy: 0.9514 - val_loss: 0.1950 - val_accuracy: 0.9165\n",
      "Epoch 27/40\n",
      "68/68 [==============================] - 0s 2ms/step - loss: 0.1148 - accuracy: 0.9524 - val_loss: 0.1947 - val_accuracy: 0.9182\n",
      "Epoch 28/40\n",
      "68/68 [==============================] - 0s 2ms/step - loss: 0.1128 - accuracy: 0.9549 - val_loss: 0.1951 - val_accuracy: 0.9172\n",
      "Epoch 29/40\n",
      "68/68 [==============================] - 0s 2ms/step - loss: 0.1109 - accuracy: 0.9547 - val_loss: 0.1953 - val_accuracy: 0.9182\n",
      "Epoch 30/40\n",
      "68/68 [==============================] - 0s 2ms/step - loss: 0.1090 - accuracy: 0.9551 - val_loss: 0.1952 - val_accuracy: 0.9193\n",
      "Epoch 31/40\n",
      "68/68 [==============================] - 0s 2ms/step - loss: 0.1073 - accuracy: 0.9567 - val_loss: 0.1955 - val_accuracy: 0.9200\n",
      "Epoch 32/40\n",
      "68/68 [==============================] - 0s 2ms/step - loss: 0.1057 - accuracy: 0.9574 - val_loss: 0.1958 - val_accuracy: 0.9186\n",
      "Epoch 33/40\n",
      "68/68 [==============================] - 0s 2ms/step - loss: 0.1041 - accuracy: 0.9588 - val_loss: 0.1964 - val_accuracy: 0.9186\n",
      "Epoch 34/40\n",
      "68/68 [==============================] - 0s 2ms/step - loss: 0.1025 - accuracy: 0.9593 - val_loss: 0.1964 - val_accuracy: 0.9196\n",
      "Epoch 35/40\n",
      "68/68 [==============================] - 0s 2ms/step - loss: 0.1009 - accuracy: 0.9606 - val_loss: 0.1971 - val_accuracy: 0.9193\n",
      "Epoch 36/40\n",
      "68/68 [==============================] - 0s 2ms/step - loss: 0.0996 - accuracy: 0.9604 - val_loss: 0.1976 - val_accuracy: 0.9189\n",
      "Epoch 37/40\n",
      "68/68 [==============================] - 0s 2ms/step - loss: 0.0982 - accuracy: 0.9623 - val_loss: 0.1981 - val_accuracy: 0.9189\n",
      "Epoch 38/40\n",
      "68/68 [==============================] - 0s 2ms/step - loss: 0.0969 - accuracy: 0.9614 - val_loss: 0.1988 - val_accuracy: 0.9200\n",
      "Epoch 39/40\n",
      "68/68 [==============================] - 0s 2ms/step - loss: 0.0956 - accuracy: 0.9633 - val_loss: 0.1993 - val_accuracy: 0.9196\n",
      "Epoch 40/40\n",
      "68/68 [==============================] - 0s 2ms/step - loss: 0.0944 - accuracy: 0.9637 - val_loss: 0.1999 - val_accuracy: 0.9186\n"
     ]
    }
   ],
   "source": [
    "r = model.fit(X_train, Y_train, validation_data=(X_test, Y_test), epochs=40, batch_size=128)"
   ]
  },
  {
   "cell_type": "code",
   "execution_count": 18,
   "metadata": {},
   "outputs": [
    {
     "data": {
      "text/plain": [
       "<matplotlib.legend.Legend at 0x7fe43de01510>"
      ]
     },
     "execution_count": 18,
     "metadata": {},
     "output_type": "execute_result"
    },
    {
     "data": {
      "image/png": "[encoded data removed]",
      "text/plain": [
       "<Figure size 432x288 with 1 Axes>"
      ]
     },
     "metadata": {
      "needs_background": "light"
     },
     "output_type": "display_data"
    }
   ],
   "source": [
    "# loss per iteration\n",
    "plt.plot(r.history['loss'], label='train loss')\n",
    "plt.plot(r.history['val_loss'], label='validation loss')\n",
    "plt.legend()"
   ]
  },
  {
   "cell_type": "code",
   "execution_count": 19,
   "metadata": {},
   "outputs": [
    {
     "data": {
      "text/plain": [
       "<matplotlib.legend.Legend at 0x7fe44971c590>"
      ]
     },
     "execution_count": 19,
     "metadata": {},
     "output_type": "execute_result"
    },
    {
     "data": {
      "image/png": "[encoded data removed]",
      "text/plain": [
       "<Figure size 432x288 with 1 Axes>"
      ]
     },
     "metadata": {
      "needs_background": "light"
     },
     "output_type": "display_data"
    }
   ],
   "source": [
    "# aacuracy per iteration\n",
    "plt.plot(r.history['accuracy'], label='train accuracy')\n",
    "plt.plot(r.history['val_accuracy'], label='validation accuracy')\n",
    "plt.legend()"
   ]
  },
  {
   "cell_type": "code",
   "execution_count": 20,
   "metadata": {},
   "outputs": [
    {
     "name": "stdout",
     "output_type": "stream",
     "text": [
      "271/271 [==============================] - 0s 623us/step\n",
      "91/91 [==============================] - 0s 718us/step\n"
     ]
    }
   ],
   "source": [
    "# make predictions\n",
    "p_train = ((model.predict(X_train) > 0) * 1.0).flatten()\n",
    "p_test = ((model.predict(X_test) > 0) * 1.0).flatten()"
   ]
  },
  {
   "cell_type": "code",
   "execution_count": 21,
   "metadata": {},
   "outputs": [
    {
     "data": {
      "text/plain": [
       "array([[0.98942795, 0.01057205],\n",
       "       [0.09885714, 0.90114286]])"
      ]
     },
     "execution_count": 21,
     "metadata": {},
     "output_type": "execute_result"
    }
   ],
   "source": [
    "# make confusion matrix for the train set\n",
    "cm = confusion_matrix(Y_train, p_train, normalize='true')\n",
    "cm"
   ]
  },
  {
   "cell_type": "code",
   "execution_count": 22,
   "metadata": {},
   "outputs": [
    {
     "data": {
      "text/plain": [
       "<sklearn.metrics._plot.confusion_matrix.ConfusionMatrixDisplay at 0x7fe408eb37d0>"
      ]
     },
     "execution_count": 22,
     "metadata": {},
     "output_type": "execute_result"
    },
    {
     "data": {
      "image/png": "[encoded data removed]",
      "text/plain": [
       "<Figure size 432x288 with 2 Axes>"
      ]
     },
     "metadata": {
      "needs_background": "light"
     },
     "output_type": "display_data"
    }
   ],
   "source": [
    "cm_plot = ConfusionMatrixDisplay(cm, display_labels=['positive', 'negative'])\n",
    "cm_plot.plot()"
   ]
  },
  {
   "cell_type": "code",
   "execution_count": 23,
   "metadata": {},
   "outputs": [
    {
     "data": {
      "text/plain": [
       "array([[0.96260449, 0.03739551],\n",
       "       [0.25285481, 0.74714519]])"
      ]
     },
     "execution_count": 23,
     "metadata": {},
     "output_type": "execute_result"
    }
   ],
   "source": [
    "# make confusion matrix for the test set\n",
    "cm_test = confusion_matrix(Y_test, p_test, normalize='true')\n",
    "cm_test"
   ]
  },
  {
   "cell_type": "code",
   "execution_count": 24,
   "metadata": {},
   "outputs": [
    {
     "data": {
      "text/plain": [
       "<sklearn.metrics._plot.confusion_matrix.ConfusionMatrixDisplay at 0x7fe41979efd0>"
      ]
     },
     "execution_count": 24,
     "metadata": {},
     "output_type": "execute_result"
    },
    {
     "data": {
      "image/png": "[encoded data removed]",
      "text/plain": [
       "<Figure size 432x288 with 2 Axes>"
      ]
     },
     "metadata": {
      "needs_background": "light"
     },
     "output_type": "display_data"
    }
   ],
   "source": [
    "cm_test_plot = ConfusionMatrixDisplay(cm_test, display_labels=['positive', 'negative'])\n",
    "cm_test_plot.plot()"
   ]
  },
  {
   "cell_type": "code",
   "execution_count": 25,
   "metadata": {},
   "outputs": [
    {
     "name": "stdout",
     "output_type": "stream",
     "text": [
      "271/271 [==============================] - 0s 640us/step\n",
      "91/91 [==============================] - 0s 630us/step\n",
      "Train AUC 0.994699824143995\n",
      "Test AUC 0.9568927095795813\n"
     ]
    }
   ],
   "source": [
    "# calculate AUC score and F1 score\n",
    "pr_train = model.predict(X_train)\n",
    "pr_test = model.predict(X_test)\n",
    "print('Train AUC', roc_auc_score(Y_train, pr_train))\n",
    "print('Test AUC', roc_auc_score(Y_test, pr_test))"
   ]
  },
  {
   "cell_type": "code",
   "execution_count": 26,
   "metadata": {},
   "outputs": [
    {
     "name": "stdout",
     "output_type": "stream",
     "text": [
      "Train F1 0.9276470588235295\n",
      "Test F1 0.7923875432525952\n"
     ]
    }
   ],
   "source": [
    "print('Train F1', f1_score(Y_train, p_train))\n",
    "print('Test F1', f1_score(Y_test, p_test))"
   ]
  },
  {
   "cell_type": "code",
   "execution_count": 27,
   "metadata": {},
   "outputs": [],
   "source": [
    "w = model.layers[1].get_weights()[0]"
   ]
  },
  {
   "cell_type": "code",
   "execution_count": 28,
   "metadata": {},
   "outputs": [],
   "source": [
    "word_index_map = vectorizer.vocabulary_"
   ]
  },
  {
   "cell_type": "code",
   "execution_count": 29,
   "metadata": {},
   "outputs": [],
   "source": [
    "# print positive and negative words\n",
    "def print_top_words(positive=True, threshold=2):\n",
    "    sentiment = 'positive' if positive else 'negative'\n",
    "    print(f\"Most {sentiment} words:\")\n",
    "    word_weight_tuples_pos = []\n",
    "    word_weight_tuples_neg = []\n",
    "    for word, index in word_index_map.items():\n",
    "        weight = w[index, 0]\n",
    "        if weight > threshold:\n",
    "            word_weight_tuples_pos.append((word, weight))\n",
    "        elif weight < -threshold:\n",
    "            word_weight_tuples_neg.append((word, weight))\n",
    "    word_weight_tuples_pos = sorted(word_weight_tuples_pos, key=lambda x: -x[1])\n",
    "    word_weight_tuples_neg = sorted(word_weight_tuples_neg, key=lambda x: x[1])\n",
    "    for i in range(10):\n",
    "        word, weight = word_weight_tuples_pos[i] if positive else word_weight_tuples_neg[i]\n",
    "        print(word, weight)"
   ]
  },
  {
   "cell_type": "code",
   "execution_count": 30,
   "metadata": {},
   "outputs": [
    {
     "name": "stdout",
     "output_type": "stream",
     "text": [
      "Most positive words:\n",
      "thank 9.260481\n",
      "thanks 9.023598\n",
      "great 7.899902\n",
      "love 7.419631\n",
      "amazing 7.3667574\n",
      "awesome 6.7656317\n",
      "kudos 6.738107\n",
      "wonderful 6.373736\n",
      "excellent 5.8526034\n",
      "best 5.58446\n"
     ]
    }
   ],
   "source": [
    "print_top_words(positive=True)"
   ]
  },
  {
   "cell_type": "code",
   "execution_count": 31,
   "metadata": {},
   "outputs": [
    {
     "name": "stdout",
     "output_type": "stream",
     "text": [
      "Most negative words:\n",
      "worst -9.533064\n",
      "paid -7.649934\n",
      "rude -7.3315744\n",
      "disappointed -7.277403\n",
      "not -7.0899262\n",
      "pay -6.9319305\n",
      "delayed -6.780027\n",
      "hours -6.693833\n",
      "terrible -6.5821643\n",
      "stranded -6.5397744\n"
     ]
    }
   ],
   "source": [
    "print_top_words(positive=False)"
   ]
  },
  {
   "cell_type": "code",
   "execution_count": null,
   "metadata": {},
   "outputs": [],
   "source": []
  }
 ],
 "metadata": {
  "kernelspec": {
   "display_name": "Python 3",
   "language": "python",
   "name": "python3"
  },
  "language_info": {
   "codemirror_mode": {
    "name": "ipython",
    "version": 3
   },
   "file_extension": ".py",
   "mimetype": "text/x-python",
   "name": "python",
   "nbconvert_exporter": "python",
   "pygments_lexer": "ipython3",
   "version": "3.7.6"
  }
 },
 "nbformat": 4,
 "nbformat_minor": 4
}

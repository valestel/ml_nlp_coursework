{
 "cells": [
  {
   "cell_type": "markdown",
   "metadata": {},
   "source": [
    "The task is to build a continuous bag of words model using Tensorflow."
   ]
  },
  {
   "cell_type": "code",
   "execution_count": 1,
   "metadata": {},
   "outputs": [],
   "source": [
    "import gensim.downloader as api\n",
    "import matplotlib.pyplot as plt\n",
    "import numpy as np\n",
    "import random\n",
    "import tensorflow as tf\n",
    "\n",
    "from sklearn.neighbors import NearestNeighbors\n",
    "from tensorflow.keras.preprocessing.text import Tokenizer\n",
    "from tensorflow.keras.layers import Dense, Input, Embedding, Lambda\n",
    "from tensorflow.keras.models import Model"
   ]
  },
  {
   "cell_type": "code",
   "execution_count": 2,
   "metadata": {},
   "outputs": [],
   "source": [
    "# using the Gensim corpus \n",
    "dataset = api.load('text8')"
   ]
  },
  {
   "cell_type": "code",
   "execution_count": 3,
   "metadata": {},
   "outputs": [],
   "source": [
    "doc_lengths = []\n",
    "for x in dataset:\n",
    "    l = len(x)\n",
    "    doc_lengths.append(l)"
   ]
  },
  {
   "cell_type": "code",
   "execution_count": 4,
   "metadata": {},
   "outputs": [
    {
     "data": {
      "text/plain": [
       "(9997.182245737802, 116.17898450079628)"
      ]
     },
     "execution_count": 4,
     "metadata": {},
     "output_type": "execute_result"
    }
   ],
   "source": [
    "# estimating the texts length\n",
    "np.mean(doc_lengths), np.std(doc_lengths)"
   ]
  },
  {
   "cell_type": "code",
   "execution_count": 5,
   "metadata": {},
   "outputs": [],
   "source": [
    "# convert texts to sequences\n",
    "vocab_size = 20000\n",
    "tokenizer = Tokenizer(num_words = vocab_size)\n",
    "tokenizer.fit_on_texts(dataset)\n",
    "sequences = tokenizer.texts_to_sequences(dataset)"
   ]
  },
  {
   "cell_type": "code",
   "execution_count": 6,
   "metadata": {},
   "outputs": [],
   "source": [
    "# build a model\n",
    "context_size = 10\n",
    "embedding_dim = 50\n",
    "\n",
    "i = Input(shape=(context_size,))\n",
    "x = Embedding(vocab_size, embedding_dim)(i)\n",
    "x = Lambda(lambda t: tf.reduce_mean(t, axis=1))(x)\n",
    "x = Dense(vocab_size, use_bias=False)(x)\n",
    "\n",
    "model = Model(i, x)"
   ]
  },
  {
   "cell_type": "code",
   "execution_count": 7,
   "metadata": {},
   "outputs": [
    {
     "name": "stdout",
     "output_type": "stream",
     "text": [
      "Model: \"model\"\n",
      "_________________________________________________________________\n",
      " Layer (type)                Output Shape              Param #   \n",
      "=================================================================\n",
      " input_1 (InputLayer)        [(None, 10)]              0         \n",
      "                                                                 \n",
      " embedding (Embedding)       (None, 10, 50)            1000000   \n",
      "                                                                 \n",
      " lambda (Lambda)             (None, 50)                0         \n",
      "                                                                 \n",
      " dense (Dense)               (None, 20000)             1000000   \n",
      "                                                                 \n",
      "=================================================================\n",
      "Total params: 2,000,000\n",
      "Trainable params: 2,000,000\n",
      "Non-trainable params: 0\n",
      "_________________________________________________________________\n"
     ]
    }
   ],
   "source": [
    "model.summary()"
   ]
  },
  {
   "cell_type": "code",
   "execution_count": 8,
   "metadata": {},
   "outputs": [],
   "source": [
    "# use data generator to pass data in batches while fitting\n",
    "half_context_size = context_size // 2\n",
    "\n",
    "def data_generator(sequences, batch_size=128):\n",
    "    X_batch = np.zeros((batch_size, context_size))\n",
    "    Y_batch = np.zeros(batch_size)\n",
    "    n_batches = int(np.ceil(len(sequences)) / batch_size)\n",
    "    while True:\n",
    "        random.shuffle(sequences)\n",
    "        \n",
    "        for i in range(n_batches):\n",
    "            batch_sequences = sequences[i * batch_size:(i+1) * batch_size]\n",
    "            current_batch_size = len(batch_sequences)\n",
    "            \n",
    "            for ii in range(current_batch_size):\n",
    "                seq = batch_sequences[ii]\n",
    "                j = np.random.randint(0, len(seq) - context_size - 1)\n",
    "                x1 = seq[j:j + half_context_size]\n",
    "                x2 = seq[j + half_context_size + 1:j + context_size + 1]\n",
    "                X_batch[ii, :half_context_size] = x1\n",
    "                X_batch[ii, half_context_size:] = x2\n",
    "                y = seq[j + half_context_size]\n",
    "                Y_batch[ii] = y\n",
    "            \n",
    "            yield X_batch[:current_batch_size], Y_batch[:current_batch_size]"
   ]
  },
  {
   "cell_type": "code",
   "execution_count": 9,
   "metadata": {},
   "outputs": [],
   "source": [
    "model.compile(loss=tf.keras.losses.SparseCategoricalCrossentropy(from_logits=True),\n",
    "              optimizer='adam', metrics=['accuracy'])"
   ]
  },
  {
   "cell_type": "code",
   "execution_count": 10,
   "metadata": {},
   "outputs": [],
   "source": [
    "batch_size = 128\n",
    "r = model.fit(data_generator(sequences, batch_size),\n",
    "              epochs=10000,\n",
    "              steps_per_epoch=int(np.ceil(len(sequences)) / batch_size), verbose=0)"
   ]
  },
  {
   "cell_type": "code",
   "execution_count": 21,
   "metadata": {},
   "outputs": [
    {
     "data": {
      "text/plain": [
       "<matplotlib.legend.Legend at 0x7fc8237228d0>"
      ]
     },
     "execution_count": 21,
     "metadata": {},
     "output_type": "execute_result"
    },
    {
     "data": {
      "image/png": "[encoded data removed]",
      "text/plain": [
       "<Figure size 432x288 with 1 Axes>"
      ]
     },
     "metadata": {
      "needs_background": "light"
     },
     "output_type": "display_data"
    }
   ],
   "source": [
    "# loss per iteration\n",
    "plt.plot(r.history['loss'], label='loss')\n",
    "plt.legend()"
   ]
  },
  {
   "cell_type": "code",
   "execution_count": 22,
   "metadata": {},
   "outputs": [
    {
     "data": {
      "text/plain": [
       "<matplotlib.legend.Legend at 0x7fc7f1b79390>"
      ]
     },
     "execution_count": 22,
     "metadata": {},
     "output_type": "execute_result"
    },
    {
     "data": {
      "image/png": "[encoded data removed]",
      "text/plain": [
       "<Figure size 432x288 with 1 Axes>"
      ]
     },
     "metadata": {
      "needs_background": "light"
     },
     "output_type": "display_data"
    }
   ],
   "source": [
    "# accuracy per iteration\n",
    "plt.plot(r.history['accuracy'], label='accuracy')\n",
    "plt.legend()"
   ]
  },
  {
   "cell_type": "code",
   "execution_count": 23,
   "metadata": {},
   "outputs": [],
   "source": [
    "embeddings = model.layers[1].get_weights()[0]"
   ]
  },
  {
   "cell_type": "code",
   "execution_count": 24,
   "metadata": {},
   "outputs": [
    {
     "data": {
      "text/plain": [
       "NearestNeighbors(algorithm='ball_tree', leaf_size=30, metric='minkowski',\n",
       "                 metric_params=None, n_jobs=None, n_neighbors=6, p=2,\n",
       "                 radius=1.0)"
      ]
     },
     "execution_count": 24,
     "metadata": {},
     "output_type": "execute_result"
    }
   ],
   "source": [
    "neighbors = NearestNeighbors(n_neighbors=6, algorithm='ball_tree')\n",
    "neighbors.fit(embeddings)"
   ]
  },
  {
   "cell_type": "code",
   "execution_count": 25,
   "metadata": {},
   "outputs": [],
   "source": [
    "# find semantic neighbors\n",
    "def print_neighbors(query):\n",
    "    query_idx = tokenizer.word_index[query]\n",
    "    query = embeddings[query_idx:query_idx+1]\n",
    "    distances, indices = neighbors.kneighbors(query)\n",
    "    for idx in indices[0][1:]:\n",
    "        word = tokenizer.index_word[idx]\n",
    "        print(word)"
   ]
  },
  {
   "cell_type": "code",
   "execution_count": 26,
   "metadata": {},
   "outputs": [
    {
     "name": "stdout",
     "output_type": "stream",
     "text": [
      "elizabeth\n",
      "king\n",
      "princess\n",
      "regent\n",
      "prince\n"
     ]
    }
   ],
   "source": [
    "print_neighbors('queen')"
   ]
  },
  {
   "cell_type": "code",
   "execution_count": 27,
   "metadata": {},
   "outputs": [
    {
     "name": "stdout",
     "output_type": "stream",
     "text": [
      "munich\n",
      "bonn\n",
      "frankfurt\n",
      "hamburg\n",
      "stockholm\n"
     ]
    }
   ],
   "source": [
    "print_neighbors('berlin')"
   ]
  },
  {
   "cell_type": "code",
   "execution_count": 28,
   "metadata": {},
   "outputs": [
    {
     "name": "stdout",
     "output_type": "stream",
     "text": [
      "psychologist\n",
      "anthropologist\n",
      "architect\n",
      "astronomer\n",
      "physician\n"
     ]
    }
   ],
   "source": [
    "print_neighbors('scientist')"
   ]
  },
  {
   "cell_type": "code",
   "execution_count": 29,
   "metadata": {},
   "outputs": [
    {
     "name": "stdout",
     "output_type": "stream",
     "text": [
      "cheese\n",
      "soup\n",
      "fermented\n",
      "ale\n",
      "chocolate\n"
     ]
    }
   ],
   "source": [
    "print_neighbors('beer')"
   ]
  },
  {
   "cell_type": "code",
   "execution_count": 30,
   "metadata": {},
   "outputs": [
    {
     "name": "stdout",
     "output_type": "stream",
     "text": [
      "king\n",
      "queen\n",
      "henry\n",
      "prince\n",
      "elizabeth\n",
      "vi\n"
     ]
    }
   ],
   "source": [
    "# find analogies\n",
    "def get_embedding(word):\n",
    "    idx = tokenizer.word_index[word]\n",
    "    return embeddings[idx:idx+1]\n",
    "\n",
    "king = get_embedding('king')\n",
    "man = get_embedding('man')\n",
    "woman = get_embedding('woman')\n",
    "query = king - man + woman\n",
    "\n",
    "distances, indices = neighbors.kneighbors(query)\n",
    "for idx in indices[0]:\n",
    "    word = tokenizer.index_word[idx]\n",
    "    print(word)"
   ]
  },
  {
   "cell_type": "code",
   "execution_count": null,
   "metadata": {},
   "outputs": [],
   "source": []
  }
 ],
 "metadata": {
  "kernelspec": {
   "display_name": "Python 3",
   "language": "python",
   "name": "python3"
  },
  "language_info": {
   "codemirror_mode": {
    "name": "ipython",
    "version": 3
   },
   "file_extension": ".py",
   "mimetype": "text/x-python",
   "name": "python",
   "nbconvert_exporter": "python",
   "pygments_lexer": "ipython3",
   "version": "3.7.6"
  }
 },
 "nbformat": 4,
 "nbformat_minor": 4
}

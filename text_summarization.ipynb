{
 "cells": [
  {
   "cell_type": "markdown",
   "metadata": {},
   "source": [
    "The task to use TF-IDF vectorizer for text summarization."
   ]
  },
  {
   "cell_type": "code",
   "execution_count": 1,
   "metadata": {},
   "outputs": [],
   "source": [
    "import numpy as np\n",
    "import pandas as pd\n",
    "import textwrap\n",
    "import nltk\n",
    "from nltk.corpus import stopwords\n",
    "from nltk import sent_tokenize\n",
    "from sklearn.feature_extraction.text import TfidfVectorizer"
   ]
  },
  {
   "cell_type": "code",
   "execution_count": 2,
   "metadata": {},
   "outputs": [
    {
     "name": "stderr",
     "output_type": "stream",
     "text": [
      "[nltk_data] Downloading package punkt to /Users/valentine/nltk_data...\n",
      "[nltk_data]   Package punkt is already up-to-date!\n",
      "[nltk_data] Downloading package stopwords to\n",
      "[nltk_data]     /Users/valentine/nltk_data...\n",
      "[nltk_data]   Package stopwords is already up-to-date!\n"
     ]
    },
    {
     "data": {
      "text/plain": [
       "True"
      ]
     },
     "execution_count": 2,
     "metadata": {},
     "output_type": "execute_result"
    }
   ],
   "source": [
    "nltk.download('punkt')\n",
    "nltk.download('stopwords')"
   ]
  },
  {
   "cell_type": "code",
   "execution_count": 3,
   "metadata": {},
   "outputs": [
    {
     "name": "stdout",
     "output_type": "stream",
     "text": [
      "File ‘bbc_text_cls.csv’ already there; not retrieving.\r\n",
      "\r\n"
     ]
    }
   ],
   "source": [
    "# download BBC text classification dataset\n",
    "# original dataset on Kaggle: https://www.kaggle.com/datasets/shivamkushwaha/bbc-full-text-document-classification)\n",
    "!wget -nc https://lazyprogrammer.me/course_files/nlp/bbc_text_cls.csv"
   ]
  },
  {
   "cell_type": "code",
   "execution_count": 4,
   "metadata": {},
   "outputs": [],
   "source": [
    "# save the dataset in Pandas dataframe\n",
    "df = pd.read_csv('bbc_text_cls.csv')"
   ]
  },
  {
   "cell_type": "code",
   "execution_count": 5,
   "metadata": {},
   "outputs": [],
   "source": [
    "# use TF-IDF vectorizer with stopwords\n",
    "featurizer = TfidfVectorizer(stop_words=stopwords.words('english'), norm='l1')"
   ]
  },
  {
   "cell_type": "code",
   "execution_count": 6,
   "metadata": {},
   "outputs": [],
   "source": [
    "# create a summarization function\n",
    "def get_sentence_score(tfidf_row):\n",
    "    # return the average of the non-zero values of the tf-idf vector representation of a sentence\n",
    "    x = tfidf_row[tfidf_row != 0]\n",
    "    return x.mean()\n",
    "\n",
    "def summarize(text, show_scores=False, include_title=False):\n",
    "    #extract title and sentences\n",
    "    title = text.iloc[0].split('\\n', 1)[0] if include_title else None\n",
    "    sents = sent_tokenize(text.iloc[0].split(\"\\n\", 1)[1])\n",
    "    # perform TF-IDF\n",
    "    X = featurizer.fit_transform(sents)\n",
    "    # get sentence scores\n",
    "    scores = np.zeros(len(sents))\n",
    "    for i in range(len(sents)):\n",
    "        score = get_sentence_score(X[i,:])\n",
    "        scores[i] = score\n",
    "    # sort the scores    \n",
    "    sort_idx = np.argsort(-scores)\n",
    "    # create a summary\n",
    "    res = ''\n",
    "    for i in sort_idx[:5]:\n",
    "        if show_scores:\n",
    "            res = res + f'(score: {scores[i]}) {sents[i]} '\n",
    "        else:\n",
    "            res = res + sents[i] + ' '\n",
    "    return title + \"\\n\" + res if title else res "
   ]
  },
  {
   "cell_type": "code",
   "execution_count": 17,
   "metadata": {},
   "outputs": [],
   "source": [
    "# example of a random business text summary, printing out with scores\n",
    "doc = df[df['labels'] == 'business']['text'].sample()"
   ]
  },
  {
   "cell_type": "code",
   "execution_count": 18,
   "metadata": {},
   "outputs": [],
   "source": [
    "res = summarize(doc, show_scores=True, include_title=True)"
   ]
  },
  {
   "cell_type": "code",
   "execution_count": 19,
   "metadata": {},
   "outputs": [
    {
     "name": "stdout",
     "output_type": "stream",
     "text": [
      "Cairn shares up on new oil find\n",
      "(score: 0.14285714285714288) Cairn's shares closed up 64 pence, or 6%, at 1130p on Thursday. (score: 0.1111111111111111) Chief executive Bill Gammell added: \"The more we progress in Rajasthan the better we feel about it.\" (score: 0.09999999999999999) Cairn made the discovery after having been granted an extension to their drilling licence in January by Indian authorities. (score: 0.0909090909090909) Cairn said drilling to the north-west of its development site in Rajasthan had produced \"very strong results\". (score: 0.09090909090909088) \n",
      "Shares in Cairn Energy have jumped 6% after the firm said an Indian oilfield was larger than previously thought. \n"
     ]
    }
   ],
   "source": [
    "print(res)"
   ]
  },
  {
   "cell_type": "code",
   "execution_count": 31,
   "metadata": {},
   "outputs": [
    {
     "name": "stdout",
     "output_type": "stream",
     "text": [
      "Topic: business\n",
      "UK Coal plunges into deeper loss\n",
      "\"We have a long journey ahead to fix these issues. The company said these actions should \"significantly uplift earnings\". In early trade on Thursday, its shares were down 10% at 119 pence. It expected 2005 to be a \"transitional year\" and to return to profitability in 2006. UK Coal said it was making \"significant progress\" in shaking up the business.  \n",
      "\n",
      "Topic: entertainment\n",
      "Band Aid retains number one spot\n",
      "Opera band Il Divo have moved up one place with their eponymous album to number three. Maroon 5's album Songs About Jane has moved up to number seven despite being released 47 weeks ago. U2's How to Dismantle a Bomb remains at number one for a third week in a row, followed by Williams' Greatest Hits. The only other new entry in the top 10 came from Robbie Williams track Misunderstood, a new track written for his Greatest Hits album. And the Abba Gold greatest hits album has crept back into the top 40 more than nine years after it was first released.  \n",
      "\n",
      "Topic: politics\n",
      "Sayeed to stand down as Tory MP\n",
      "He represented Bristol East from 1983 to 1992. The Conservative Party had already been withdrawn the whip for a month. He insisted that the committee's report had contained a \"few errors of fact\". Mr Sayeed has been MP for Mid-Bedfordshire since 1997. \n",
      "Tory MP Jonathan Sayeed is to stand down on the grounds of ill health.  \n",
      "\n",
      "Topic: sport\n",
      "Davies favours Gloucester future\n",
      "\"The WRU didn't give me any help off the field, it was very disappointing,\" Davies said at the time. BBC Wales understands the Ospreys are interested in the 32-year-old, but that he would prefer to stay where he is. Davies, one of the stars of Saturday's RBS Six Nations win over England, is only on a year contract at Kingsholm. But the hooker has proved his worth to the Zurich Premiership side and is likely to get a new deal next season. Although he got match time with the Ospreys at the request of the Wales management, he admitted before his move to Gloucester that he was angry with the way he was treated.  \n",
      "\n",
      "Topic: tech\n",
      "US top of supercomputing charts\n",
      "It is presented at the International Supercomputer Conference in Pittsburgh. It is dedicated to climate modelling and simulating seismic activity. The Cray-1 was capable of 80 megaflops (80 million operations a second). Once completed in 2005, Blue Gene/L will be more powerful than its current prototype. It is being assembled for the Lawrence Livermore National Laboratory, under the US Department of Energy.  \n",
      "\n"
     ]
    }
   ],
   "source": [
    "# make summaries of a random text from each class\n",
    "for topic in df['labels'].unique():\n",
    "    print(f'Topic: {topic}')\n",
    "    doc = df[df['labels'] == topic]['text'].sample()\n",
    "    print(summarize(doc, include_title=True),'\\n')"
   ]
  },
  {
   "cell_type": "code",
   "execution_count": null,
   "metadata": {},
   "outputs": [],
   "source": []
  }
 ],
 "metadata": {
  "kernelspec": {
   "display_name": "Python 3",
   "language": "python",
   "name": "python3"
  },
  "language_info": {
   "codemirror_mode": {
    "name": "ipython",
    "version": 3
   },
   "file_extension": ".py",
   "mimetype": "text/x-python",
   "name": "python",
   "nbconvert_exporter": "python",
   "pygments_lexer": "ipython3",
   "version": "3.7.6"
  }
 },
 "nbformat": 4,
 "nbformat_minor": 4
}

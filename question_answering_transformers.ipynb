{
 "cells": [
  {
   "cell_type": "markdown",
   "metadata": {},
   "source": [
    "The task is to try out the question answering pipeline in Transformers."
   ]
  },
  {
   "cell_type": "code",
   "execution_count": 1,
   "metadata": {},
   "outputs": [],
   "source": [
    "from transformers import pipeline"
   ]
  },
  {
   "cell_type": "code",
   "execution_count": 2,
   "metadata": {},
   "outputs": [
    {
     "name": "stderr",
     "output_type": "stream",
     "text": [
      "No model was supplied, defaulted to distilbert-base-cased-distilled-squad and revision 626af31 (https://huggingface.co/distilbert-base-cased-distilled-squad).\n",
      "Using a pipeline without specifying a model name and revision in production is not recommended.\n"
     ]
    }
   ],
   "source": [
    "# load the pipeline\n",
    "qa = pipeline('question-answering')"
   ]
  },
  {
   "cell_type": "code",
   "execution_count": 3,
   "metadata": {},
   "outputs": [],
   "source": [
    "# test with a simple prompt\n",
    "context = 'I went to the store to get some cookies.'\n",
    "question = 'What did I buy?'"
   ]
  },
  {
   "cell_type": "code",
   "execution_count": 4,
   "metadata": {},
   "outputs": [
    {
     "data": {
      "text/plain": [
       "{'score': 0.8570088744163513, 'start': 32, 'end': 39, 'answer': 'cookies'}"
      ]
     },
     "execution_count": 4,
     "metadata": {},
     "output_type": "execute_result"
    }
   ],
   "source": [
    "qa(context=context, question=question)"
   ]
  },
  {
   "cell_type": "code",
   "execution_count": 5,
   "metadata": {},
   "outputs": [],
   "source": [
    "# the text from Wikipedia article: https://en.wikipedia.org/wiki/Oliver_Sacks\n",
    "context = \"Oliver Wolf Sacks (9 July 1933 – 30 August 2015) was a British neurologist, naturalist,\" + \\\n",
    "\" historian of science, and writer. Born in Britain, Sacks received his medical degree in 1958 from\" + \\\n",
    "\"The Queen's College, Oxford, before moving to the United States, where he spent most of his career. \" + \\\n",
    "\"After a fellowship at the Albert Einstein College of Medicine, he served as neurologist at Beth Abraham Hospital's\" + \\\n",
    "\" chronic-care facility in the Bronx, where he worked with a group of survivors of the 1920s sleeping sickness \" + \\\n",
    "\"encephalitis lethargica, who had been unable to move on their own for decades. His treatment of those patients \" + \\\n",
    "\"became the basis of his 1973 book Awakenings\""
   ]
  },
  {
   "cell_type": "code",
   "execution_count": 6,
   "metadata": {},
   "outputs": [
    {
     "data": {
      "text/plain": [
       "{'score': 0.8951238393783569, 'start': 176, 'end': 180, 'answer': '1958'}"
      ]
     },
     "execution_count": 6,
     "metadata": {},
     "output_type": "execute_result"
    }
   ],
   "source": [
    "question = 'When did Oliver Sacks get his degree?'\n",
    "qa(context=context, question=question)"
   ]
  },
  {
   "cell_type": "code",
   "execution_count": 7,
   "metadata": {},
   "outputs": [
    {
     "data": {
      "text/plain": [
       "{'score': 0.1486484259366989,\n",
       " 'start': 376,\n",
       " 'end': 434,\n",
       " 'answer': \"Beth Abraham Hospital's chronic-care facility in the Bronx\"}"
      ]
     },
     "execution_count": 7,
     "metadata": {},
     "output_type": "execute_result"
    }
   ],
   "source": [
    "question = 'Where did Oliver Sacks work?'\n",
    "qa(context=context, question=question)"
   ]
  },
  {
   "cell_type": "code",
   "execution_count": 8,
   "metadata": {},
   "outputs": [
    {
     "data": {
      "text/plain": [
       "{'score': 0.4003661274909973, 'start': 63, 'end': 74, 'answer': 'neurologist'}"
      ]
     },
     "execution_count": 8,
     "metadata": {},
     "output_type": "execute_result"
    }
   ],
   "source": [
    "question = \"What was Oliver Sacks' occupation?\"\n",
    "qa(context=context, question=question)"
   ]
  },
  {
   "cell_type": "code",
   "execution_count": null,
   "metadata": {},
   "outputs": [],
   "source": []
  }
 ],
 "metadata": {
  "kernelspec": {
   "display_name": "Python 3",
   "language": "python",
   "name": "python3"
  },
  "language_info": {
   "codemirror_mode": {
    "name": "ipython",
    "version": 3
   },
   "file_extension": ".py",
   "mimetype": "text/x-python",
   "name": "python",
   "nbconvert_exporter": "python",
   "pygments_lexer": "ipython3",
   "version": "3.7.6"
  }
 },
 "nbformat": 4,
 "nbformat_minor": 4
}

{
 "cells": [
  {
   "cell_type": "markdown",
   "metadata": {},
   "source": [
    "The task is to build a part of speech tagger using RNN in Tensorflow."
   ]
  },
  {
   "cell_type": "code",
   "execution_count": 1,
   "metadata": {},
   "outputs": [],
   "source": [
    "import matplotlib.pyplot as plt\n",
    "import nltk\n",
    "import numpy as np\n",
    "import tensorflow as tf\n",
    "\n",
    "from collections import Counter\n",
    "from nltk.corpus import brown\n",
    "from sklearn.model_selection import train_test_split\n",
    "from sklearn.metrics import accuracy_score, f1_score\n",
    "\n",
    "from tensorflow.keras.preprocessing.text import Tokenizer\n",
    "from tensorflow.keras.preprocessing.sequence import pad_sequences\n",
    "from tensorflow.keras.layers import Dense, Input, Bidirectional, LSTM, Embedding\n",
    "from tensorflow.keras.models import Model\n",
    "from tensorflow.keras.losses import SparseCategoricalCrossentropy"
   ]
  },
  {
   "cell_type": "code",
   "execution_count": 2,
   "metadata": {},
   "outputs": [
    {
     "name": "stderr",
     "output_type": "stream",
     "text": [
      "[nltk_data] Downloading package brown to /Users/valentine/nltk_data...\n",
      "[nltk_data]   Package brown is already up-to-date!\n",
      "[nltk_data] Downloading package universal_tagset to\n",
      "[nltk_data]     /Users/valentine/nltk_data...\n",
      "[nltk_data]   Package universal_tagset is already up-to-date!\n"
     ]
    },
    {
     "data": {
      "text/plain": [
       "True"
      ]
     },
     "execution_count": 2,
     "metadata": {},
     "output_type": "execute_result"
    }
   ],
   "source": [
    "nltk.download('brown')\n",
    "nltk.download('universal_tagset')"
   ]
  },
  {
   "cell_type": "code",
   "execution_count": 3,
   "metadata": {},
   "outputs": [],
   "source": [
    "# use Brown corpus from NLTK\n",
    "corpus = brown.tagged_sents(tagset='universal')"
   ]
  },
  {
   "cell_type": "code",
   "execution_count": 4,
   "metadata": {},
   "outputs": [
    {
     "data": {
      "text/plain": [
       "[('The', 'DET'),\n",
       " ('Fulton', 'NOUN'),\n",
       " ('County', 'NOUN'),\n",
       " ('Grand', 'ADJ'),\n",
       " ('Jury', 'NOUN'),\n",
       " ('said', 'VERB'),\n",
       " ('Friday', 'NOUN'),\n",
       " ('an', 'DET'),\n",
       " ('investigation', 'NOUN'),\n",
       " ('of', 'ADP'),\n",
       " (\"Atlanta's\", 'NOUN'),\n",
       " ('recent', 'ADJ'),\n",
       " ('primary', 'NOUN'),\n",
       " ('election', 'NOUN'),\n",
       " ('produced', 'VERB'),\n",
       " ('``', '.'),\n",
       " ('no', 'DET'),\n",
       " ('evidence', 'NOUN'),\n",
       " (\"''\", '.'),\n",
       " ('that', 'ADP'),\n",
       " ('any', 'DET'),\n",
       " ('irregularities', 'NOUN'),\n",
       " ('took', 'VERB'),\n",
       " ('place', 'NOUN'),\n",
       " ('.', '.')]"
      ]
     },
     "execution_count": 4,
     "metadata": {},
     "output_type": "execute_result"
    }
   ],
   "source": [
    "corpus[0]"
   ]
  },
  {
   "cell_type": "code",
   "execution_count": 5,
   "metadata": {},
   "outputs": [
    {
     "data": {
      "text/plain": [
       "57340"
      ]
     },
     "execution_count": 5,
     "metadata": {},
     "output_type": "execute_result"
    }
   ],
   "source": [
    "len(corpus)"
   ]
  },
  {
   "cell_type": "code",
   "execution_count": 6,
   "metadata": {},
   "outputs": [],
   "source": [
    "inputs = []\n",
    "targets = []"
   ]
  },
  {
   "cell_type": "code",
   "execution_count": 7,
   "metadata": {},
   "outputs": [],
   "source": [
    "# split tags and words\n",
    "for sentence_tag_pairs in corpus:\n",
    "    tokens = []\n",
    "    target = []\n",
    "    for token, tag in sentence_tag_pairs:\n",
    "        tokens.append(token)\n",
    "        target.append(tag)\n",
    "    inputs.append(tokens)\n",
    "    targets.append(target)"
   ]
  },
  {
   "cell_type": "code",
   "execution_count": 8,
   "metadata": {},
   "outputs": [],
   "source": [
    "# make train and test sets\n",
    "train_inputs, test_inputs, train_targets, test_targets = train_test_split(inputs, targets, test_size=0.3)"
   ]
  },
  {
   "cell_type": "code",
   "execution_count": 9,
   "metadata": {},
   "outputs": [],
   "source": [
    "# convert texts to sequences\n",
    "MAX_VOCAB_SIZE = None\n",
    "should_lowercase = False\n",
    "word_tokenizer = Tokenizer(num_words=MAX_VOCAB_SIZE, lower=should_lowercase, oov_token='UNK')\n",
    "word_tokenizer.fit_on_texts(train_inputs)\n",
    "train_inputs_int = word_tokenizer.texts_to_sequences(train_inputs)\n",
    "test_inputs_int = word_tokenizer.texts_to_sequences(test_inputs)"
   ]
  },
  {
   "cell_type": "code",
   "execution_count": 10,
   "metadata": {},
   "outputs": [
    {
     "name": "stdout",
     "output_type": "stream",
     "text": [
      "Found 47398 unique tokens.\n"
     ]
    }
   ],
   "source": [
    "# make a dictionary of words to indices\n",
    "word2idx = word_tokenizer.word_index\n",
    "V = len(word2idx)\n",
    "print(f\"Found {V} unique tokens.\")"
   ]
  },
  {
   "cell_type": "code",
   "execution_count": 11,
   "metadata": {},
   "outputs": [],
   "source": [
    "def flatten(list_of_lists):\n",
    "    return [val for sublist in list_of_lists for val in sublist]"
   ]
  },
  {
   "cell_type": "code",
   "execution_count": 12,
   "metadata": {},
   "outputs": [],
   "source": [
    "# flatten targets\n",
    "all_train_targets = set(flatten(train_targets))"
   ]
  },
  {
   "cell_type": "code",
   "execution_count": 13,
   "metadata": {},
   "outputs": [],
   "source": [
    "all_test_targets = set(flatten(test_targets))"
   ]
  },
  {
   "cell_type": "code",
   "execution_count": 14,
   "metadata": {},
   "outputs": [
    {
     "data": {
      "text/plain": [
       "True"
      ]
     },
     "execution_count": 14,
     "metadata": {},
     "output_type": "execute_result"
    }
   ],
   "source": [
    "all_train_targets == all_test_targets"
   ]
  },
  {
   "cell_type": "code",
   "execution_count": 15,
   "metadata": {},
   "outputs": [
    {
     "data": {
      "text/plain": [
       "{'.',\n",
       " 'ADJ',\n",
       " 'ADP',\n",
       " 'ADV',\n",
       " 'CONJ',\n",
       " 'DET',\n",
       " 'NOUN',\n",
       " 'NUM',\n",
       " 'PRON',\n",
       " 'PRT',\n",
       " 'VERB',\n",
       " 'X'}"
      ]
     },
     "execution_count": 15,
     "metadata": {},
     "output_type": "execute_result"
    }
   ],
   "source": [
    "all_test_targets"
   ]
  },
  {
   "cell_type": "code",
   "execution_count": 16,
   "metadata": {},
   "outputs": [],
   "source": [
    "# convert texts to sequences\n",
    "tag_tokenizer = Tokenizer()\n",
    "tag_tokenizer.fit_on_texts(train_targets)\n",
    "train_targets_int = tag_tokenizer.texts_to_sequences(train_targets)\n",
    "test_targets_int = tag_tokenizer.texts_to_sequences(test_targets)"
   ]
  },
  {
   "cell_type": "code",
   "execution_count": 17,
   "metadata": {},
   "outputs": [],
   "source": [
    "# save unpadded sequences for later\n",
    "train_targets_int_unpadded = train_targets_int\n",
    "test_targets_int_unpadded = test_targets_int"
   ]
  },
  {
   "cell_type": "code",
   "execution_count": 18,
   "metadata": {},
   "outputs": [],
   "source": [
    "# find maximum length before padding \n",
    "maxlen_train = max(len(sent) for sent in train_inputs)\n",
    "maxlen_test = max(len(sent) for sent in test_inputs)\n",
    "T = max(maxlen_train, maxlen_test)"
   ]
  },
  {
   "cell_type": "code",
   "execution_count": 19,
   "metadata": {},
   "outputs": [
    {
     "name": "stdout",
     "output_type": "stream",
     "text": [
      "Shape of data train tensor: (40138, 180)\n"
     ]
    }
   ],
   "source": [
    "# pad sequences to get a N x T matrix\n",
    "train_inputs_int = pad_sequences(train_inputs_int, maxlen=T)\n",
    "print('Shape of data train tensor:', train_inputs_int.shape)"
   ]
  },
  {
   "cell_type": "code",
   "execution_count": 20,
   "metadata": {},
   "outputs": [
    {
     "name": "stdout",
     "output_type": "stream",
     "text": [
      "Shape of data test tensor: (17202, 180)\n"
     ]
    }
   ],
   "source": [
    "test_inputs_int = pad_sequences(test_inputs_int, maxlen=T)\n",
    "print('Shape of data test tensor:', test_inputs_int.shape)"
   ]
  },
  {
   "cell_type": "code",
   "execution_count": 21,
   "metadata": {},
   "outputs": [
    {
     "name": "stdout",
     "output_type": "stream",
     "text": [
      "Shape of train targets tensor: (40138, 180)\n"
     ]
    }
   ],
   "source": [
    "train_targets_int = pad_sequences(train_targets_int, maxlen=T)\n",
    "print('Shape of train targets tensor:', train_targets_int.shape)"
   ]
  },
  {
   "cell_type": "code",
   "execution_count": 22,
   "metadata": {},
   "outputs": [
    {
     "name": "stdout",
     "output_type": "stream",
     "text": [
      "Shape of test targets tensor: (17202, 180)\n"
     ]
    }
   ],
   "source": [
    "test_targets_int = pad_sequences(test_targets_int, maxlen=T)\n",
    "print('Shape of test targets tensor:', test_targets_int.shape)"
   ]
  },
  {
   "cell_type": "code",
   "execution_count": 23,
   "metadata": {},
   "outputs": [
    {
     "data": {
      "text/plain": [
       "13"
      ]
     },
     "execution_count": 23,
     "metadata": {},
     "output_type": "execute_result"
    }
   ],
   "source": [
    "# number of classes\n",
    "K = len(tag_tokenizer.word_index) + 1\n",
    "K"
   ]
  },
  {
   "cell_type": "code",
   "execution_count": 24,
   "metadata": {},
   "outputs": [],
   "source": [
    "# build a model\n",
    "D = 32\n",
    "\n",
    "i = Input(shape=(T,))\n",
    "x = Embedding(V + 1, D, mask_zero=True)(i)\n",
    "x = Bidirectional(LSTM(32, return_sequences=True))(x)\n",
    "x = Dense(K)(x)\n",
    "\n",
    "model = Model(i, x)"
   ]
  },
  {
   "cell_type": "code",
   "execution_count": 25,
   "metadata": {},
   "outputs": [
    {
     "name": "stdout",
     "output_type": "stream",
     "text": [
      "Model: \"model\"\n",
      "_________________________________________________________________\n",
      " Layer (type)                Output Shape              Param #   \n",
      "=================================================================\n",
      " input_1 (InputLayer)        [(None, 180)]             0         \n",
      "                                                                 \n",
      " embedding (Embedding)       (None, 180, 32)           1516768   \n",
      "                                                                 \n",
      " bidirectional (Bidirectiona  (None, 180, 64)          16640     \n",
      " l)                                                              \n",
      "                                                                 \n",
      " dense (Dense)               (None, 180, 13)           845       \n",
      "                                                                 \n",
      "=================================================================\n",
      "Total params: 1,534,253\n",
      "Trainable params: 1,534,253\n",
      "Non-trainable params: 0\n",
      "_________________________________________________________________\n"
     ]
    }
   ],
   "source": [
    "model.summary()"
   ]
  },
  {
   "cell_type": "code",
   "execution_count": 26,
   "metadata": {},
   "outputs": [
    {
     "name": "stdout",
     "output_type": "stream",
     "text": [
      "Epoch 1/5\n",
      "1255/1255 [==============================] - 137s 105ms/step - loss: 0.0554 - accuracy: 0.8521 - val_loss: 0.0127 - val_accuracy: 0.9652\n",
      "Epoch 2/5\n",
      "1255/1255 [==============================] - 135s 108ms/step - loss: 0.0083 - accuracy: 0.9774 - val_loss: 0.0099 - val_accuracy: 0.9717\n",
      "Epoch 3/5\n",
      "1255/1255 [==============================] - 144s 115ms/step - loss: 0.0051 - accuracy: 0.9857 - val_loss: 0.0096 - val_accuracy: 0.9728\n",
      "Epoch 4/5\n",
      "1255/1255 [==============================] - 146s 116ms/step - loss: 0.0038 - accuracy: 0.9891 - val_loss: 0.0098 - val_accuracy: 0.9732\n",
      "Epoch 5/5\n",
      "1255/1255 [==============================] - 148s 118ms/step - loss: 0.0030 - accuracy: 0.9916 - val_loss: 0.0104 - val_accuracy: 0.9731\n"
     ]
    }
   ],
   "source": [
    "model.compile(loss=SparseCategoricalCrossentropy(from_logits=True), optimizer='adam', metrics=['accuracy'])\n",
    "\n",
    "r = model.fit(train_inputs_int, train_targets_int, epochs=5, validation_data=(test_inputs_int, test_targets_int))"
   ]
  },
  {
   "cell_type": "code",
   "execution_count": 27,
   "metadata": {},
   "outputs": [
    {
     "data": {
      "text/plain": [
       "<matplotlib.legend.Legend at 0x7fce6ae84a10>"
      ]
     },
     "execution_count": 27,
     "metadata": {},
     "output_type": "execute_result"
    },
    {
     "data": {
      "image/png": "[encoded data removed]",
      "text/plain": [
       "<Figure size 432x288 with 1 Axes>"
      ]
     },
     "metadata": {
      "needs_background": "light"
     },
     "output_type": "display_data"
    }
   ],
   "source": [
    "# loss per iteration\n",
    "plt.plot(r.history['loss'], label='train loss')\n",
    "plt.plot(r.history['val_loss'], label='validation loss')\n",
    "plt.legend()"
   ]
  },
  {
   "cell_type": "code",
   "execution_count": 28,
   "metadata": {},
   "outputs": [
    {
     "data": {
      "text/plain": [
       "<matplotlib.legend.Legend at 0x7fce7c30b710>"
      ]
     },
     "execution_count": 28,
     "metadata": {},
     "output_type": "execute_result"
    },
    {
     "data": {
      "image/png": "[encoded data removed]",
      "text/plain": [
       "<Figure size 432x288 with 1 Axes>"
      ]
     },
     "metadata": {
      "needs_background": "light"
     },
     "output_type": "display_data"
    }
   ],
   "source": [
    "# accuracy per iteration\n",
    "plt.plot(r.history['accuracy'], label='train accuracy')\n",
    "plt.plot(r.history['val_accuracy'], label='validation accuracy')\n",
    "plt.legend()"
   ]
  },
  {
   "cell_type": "code",
   "execution_count": 29,
   "metadata": {},
   "outputs": [],
   "source": [
    "train_lengths = [len(sentence) for sentence in train_inputs]\n",
    "test_lengths = [len(sentence) for sentence in test_inputs]"
   ]
  },
  {
   "cell_type": "code",
   "execution_count": 30,
   "metadata": {},
   "outputs": [
    {
     "name": "stdout",
     "output_type": "stream",
     "text": [
      "1255/1255 [==============================] - 24s 17ms/step\n"
     ]
    }
   ],
   "source": [
    "# calculate accuracy and F1 score without padding\n",
    "train_probs = model.predict(train_inputs_int)\n",
    "train_predictions = []\n",
    "for probs, length in zip(train_probs, train_lengths):\n",
    "    probs_ = probs[-length:]\n",
    "    preds = np.argmax(probs_, axis=1)\n",
    "    train_predictions.append(preds)"
   ]
  },
  {
   "cell_type": "code",
   "execution_count": 31,
   "metadata": {},
   "outputs": [],
   "source": [
    "flat_train_predictions = flatten(train_predictions)\n",
    "flat_train_targets = flatten(train_targets_int_unpadded)"
   ]
  },
  {
   "cell_type": "code",
   "execution_count": 32,
   "metadata": {},
   "outputs": [
    {
     "name": "stdout",
     "output_type": "stream",
     "text": [
      "538/538 [==============================] - 10s 18ms/step\n"
     ]
    }
   ],
   "source": [
    "test_probs = model.predict(test_inputs_int)\n",
    "test_predictions = []\n",
    "for probs, length in zip(test_probs, test_lengths):\n",
    "    probs_ = probs[-length:]\n",
    "    preds = np.argmax(probs_, axis=1)\n",
    "    test_predictions.append(preds)"
   ]
  },
  {
   "cell_type": "code",
   "execution_count": 33,
   "metadata": {},
   "outputs": [],
   "source": [
    "flat_test_predictions = flatten(test_predictions)\n",
    "flat_test_targets = flatten(test_targets_int_unpadded)"
   ]
  },
  {
   "cell_type": "code",
   "execution_count": 34,
   "metadata": {},
   "outputs": [
    {
     "name": "stdout",
     "output_type": "stream",
     "text": [
      "Train accuracy: 0.993907481705856\n",
      "Test accuracy: 0.9731323778737907 \n",
      "\n",
      "Train F1: 0.9879299654683208\n",
      "Test F1: 0.9251625320977309\n"
     ]
    }
   ],
   "source": [
    "print('Train accuracy:', accuracy_score(flat_train_targets, flat_train_predictions))\n",
    "print('Test accuracy:', accuracy_score(flat_test_targets, flat_test_predictions), '\\n')\n",
    "\n",
    "print('Train F1:', f1_score(flat_train_targets, flat_train_predictions, average='macro'))\n",
    "print('Test F1:', f1_score(flat_test_targets, flat_test_predictions, average='macro'))"
   ]
  },
  {
   "cell_type": "code",
   "execution_count": 35,
   "metadata": {},
   "outputs": [],
   "source": [
    "# make predictions and calculate accuracy\n",
    "def most_common(lst):\n",
    "    data = Counter(lst)\n",
    "    return data.most_common(1)[0][0]"
   ]
  },
  {
   "cell_type": "code",
   "execution_count": 36,
   "metadata": {},
   "outputs": [],
   "source": [
    "token2tags = {k : [] for k, v in word2idx.items()}"
   ]
  },
  {
   "cell_type": "code",
   "execution_count": 37,
   "metadata": {},
   "outputs": [],
   "source": [
    "del token2tags['UNK']"
   ]
  },
  {
   "cell_type": "code",
   "execution_count": 38,
   "metadata": {},
   "outputs": [],
   "source": [
    "for tokens, tags in zip(train_inputs, train_targets):\n",
    "    for token, tag in zip(tokens, tags):\n",
    "        if should_lowercase:\n",
    "            token = token.lower()\n",
    "        if token in token2tags:\n",
    "            token2tags[token].append(tag)\n",
    "            \n",
    "token2tag = {k: most_common(v) for k, v in token2tags.items()}"
   ]
  },
  {
   "cell_type": "code",
   "execution_count": 39,
   "metadata": {},
   "outputs": [],
   "source": [
    "train_predictions = []\n",
    "for sentence in train_inputs:\n",
    "    predictions = []\n",
    "    for token in sentence:\n",
    "        if should_lowercase:\n",
    "            token = token.lower()\n",
    "        predicted_tag = token2tag[token]\n",
    "        predictions.append(predicted_tag)\n",
    "    train_predictions.append(predictions)\n",
    "    \n",
    "flat_train_predictions = flatten(train_predictions)\n",
    "flat_train_targets = flatten(train_targets)"
   ]
  },
  {
   "cell_type": "code",
   "execution_count": 40,
   "metadata": {},
   "outputs": [],
   "source": [
    "test_predictions = []\n",
    "for sentence in test_inputs:\n",
    "    predictions = []\n",
    "    for token in sentence:\n",
    "        predicted_tag = token2tag.get(token, 'INCORRECT')\n",
    "        predictions.append(predicted_tag)\n",
    "    test_predictions.append(predictions)\n",
    "    \n",
    "flat_test_predictions = flatten(test_predictions)\n",
    "flat_test_targets = flatten(test_targets)"
   ]
  },
  {
   "cell_type": "code",
   "execution_count": 41,
   "metadata": {},
   "outputs": [
    {
     "name": "stdout",
     "output_type": "stream",
     "text": [
      "Train accuracy: 0.9574310167919045\n",
      "Test accuracy: 0.9271373345960214 \n",
      "\n",
      "Train F1: 0.9391517908146612\n",
      "Test F1: 0.8223458102866388\n"
     ]
    }
   ],
   "source": [
    "print('Train accuracy:', accuracy_score(flat_train_targets, flat_train_predictions))\n",
    "print('Test accuracy:', accuracy_score(flat_test_targets, flat_test_predictions), '\\n')\n",
    "\n",
    "print('Train F1:', f1_score(flat_train_targets, flat_train_predictions, average='macro'))\n",
    "print('Test F1:', f1_score(flat_test_targets, flat_test_predictions, average='macro'))"
   ]
  }
 ],
 "metadata": {
  "kernelspec": {
   "display_name": "Python 3",
   "language": "python",
   "name": "python3"
  },
  "language_info": {
   "codemirror_mode": {
    "name": "ipython",
    "version": 3
   },
   "file_extension": ".py",
   "mimetype": "text/x-python",
   "name": "python",
   "nbconvert_exporter": "python",
   "pygments_lexer": "ipython3",
   "version": "3.7.6"
  }
 },
 "nbformat": 4,
 "nbformat_minor": 4
}
